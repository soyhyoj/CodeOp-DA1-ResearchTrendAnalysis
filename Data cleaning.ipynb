{
 "cells": [
  {
   "cell_type": "markdown",
   "metadata": {},
   "source": [
    "# Data Exploration and Cleaning"
   ]
  },
  {
   "cell_type": "markdown",
   "metadata": {},
   "source": [
    "In the previous step, 10-year publication records of 'The journal of neuroscience' was imported and saved as 'jneuro.csv'.\n",
    "<br>\n",
    "<br>\n",
    "<br>\n",
    "In this step, we need to figure out which columns have the most relevant and relible information about the research contents before proceeding to the analysis step.\n",
    "<br>\n",
    "<br>\n",
    "<br>\n",
    "Field information:<br>\n",
    "    -**'pubmed_id'** : unique identifiers of articles archived in PubMed<br>\n",
    "    -**'title'**<br>\n",
    "    -**'abstract'**<br>\n",
    "    -**'keywords'** <br>\n",
    "    -'journal' : The journal of neuroscience<br>\n",
    "    -**'publication_date'** <br>\n",
    "    -'authors' <br>\n",
    "    -**'methods'**  <br>\n",
    "    -**'conclusions'** <br>\n",
    "    -**'results'** <br>\n",
    "    -'copyrights' <br>\n",
    "    -'doi' : Digital Object Identifier<br>\n",
    "    -'xml' \n",
    "<br>\n",
    "<br>\n",
    "Let's take a look at the data first and decide which column(s) to use finally.\n",
    "<br>\n",
    "<br>\n",
    "<br>\n",
    "<br>\n",
    "<br>\n",
    "<br>"
   ]
  },
  {
   "cell_type": "code",
   "execution_count": 1,
   "metadata": {},
   "outputs": [],
   "source": [
    "import pandas as pd\n",
    "import numpy as np\n",
    "import csv\n",
    "import matplotlib.pyplot as plt\n",
    "import seaborn as sns\n",
    "sns.set(palette='Set2')\n",
    "sns.set_context(rc={'axes.labelsize':20,\n",
    "                    'axes.titlesize':25,\n",
    "                    'font.size':15,\n",
    "                    'legend.fontsize':15,\n",
    "                    'lines.linewidth':3})"
   ]
  },
  {
   "cell_type": "code",
   "execution_count": 2,
   "metadata": {},
   "outputs": [
    {
     "name": "stdout",
     "output_type": "stream",
     "text": [
      "(12734, 13)\n"
     ]
    },
    {
     "data": {
      "text/html": [
       "<div>\n",
       "<style scoped>\n",
       "    .dataframe tbody tr th:only-of-type {\n",
       "        vertical-align: middle;\n",
       "    }\n",
       "\n",
       "    .dataframe tbody tr th {\n",
       "        vertical-align: top;\n",
       "    }\n",
       "\n",
       "    .dataframe thead th {\n",
       "        text-align: right;\n",
       "    }\n",
       "</style>\n",
       "<table border=\"1\" class=\"dataframe\">\n",
       "  <thead>\n",
       "    <tr style=\"text-align: right;\">\n",
       "      <th></th>\n",
       "      <th>pubmed_id</th>\n",
       "      <th>title</th>\n",
       "      <th>abstract</th>\n",
       "      <th>keywords</th>\n",
       "      <th>journal</th>\n",
       "      <th>publication_date</th>\n",
       "      <th>authors</th>\n",
       "      <th>methods</th>\n",
       "      <th>conclusions</th>\n",
       "      <th>results</th>\n",
       "      <th>copyrights</th>\n",
       "      <th>doi</th>\n",
       "      <th>xml</th>\n",
       "    </tr>\n",
       "  </thead>\n",
       "  <tbody>\n",
       "    <tr>\n",
       "      <th>0</th>\n",
       "      <td>32737169</td>\n",
       "      <td>Erratum: Salido and Ramamurthy, \"Proteoglycan ...</td>\n",
       "      <td>NaN</td>\n",
       "      <td>[]</td>\n",
       "      <td>The Journal of neuroscience : the official jou...</td>\n",
       "      <td>2020-08-02</td>\n",
       "      <td>[]</td>\n",
       "      <td>NaN</td>\n",
       "      <td>NaN</td>\n",
       "      <td>NaN</td>\n",
       "      <td>NaN</td>\n",
       "      <td>10.1523/JNEUROSCI.1846-20.2020</td>\n",
       "      <td>&lt;Element 'PubmedArticle' at 0x7f18e0bb0a10&gt;</td>\n",
       "    </tr>\n",
       "    <tr>\n",
       "      <th>1</th>\n",
       "      <td>32737168</td>\n",
       "      <td>Erratum: Keitel et al., \"Medial Nucleus Accumb...</td>\n",
       "      <td>NaN</td>\n",
       "      <td>[]</td>\n",
       "      <td>The Journal of neuroscience : the official jou...</td>\n",
       "      <td>2020-08-02</td>\n",
       "      <td>[]</td>\n",
       "      <td>NaN</td>\n",
       "      <td>NaN</td>\n",
       "      <td>NaN</td>\n",
       "      <td>NaN</td>\n",
       "      <td>10.1523/JNEUROSCI.1829-20.2020</td>\n",
       "      <td>&lt;Element 'PubmedArticle' at 0x7f18e07a1050&gt;</td>\n",
       "    </tr>\n",
       "    <tr>\n",
       "      <th>2</th>\n",
       "      <td>32737167</td>\n",
       "      <td>The neocortical progenitor specification progr...</td>\n",
       "      <td>Neuronal progenitors in the developing forebra...</td>\n",
       "      <td>[]</td>\n",
       "      <td>The Journal of neuroscience : the official jou...</td>\n",
       "      <td>2020-08-02</td>\n",
       "      <td>[{'lastname': 'Yabut', 'firstname': 'Odessa R'...</td>\n",
       "      <td>NaN</td>\n",
       "      <td>NaN</td>\n",
       "      <td>NaN</td>\n",
       "      <td>Copyright © 2020 the authors.</td>\n",
       "      <td>10.1523/JNEUROSCI.2888-19.2020</td>\n",
       "      <td>&lt;Element 'PubmedArticle' at 0x7f18e07d5b90&gt;</td>\n",
       "    </tr>\n",
       "    <tr>\n",
       "      <th>3</th>\n",
       "      <td>32732324</td>\n",
       "      <td>Flexible coordinator and switcher hubs for ada...</td>\n",
       "      <td>Functional connectivity studies have identifie...</td>\n",
       "      <td>[]</td>\n",
       "      <td>The Journal of neuroscience : the official jou...</td>\n",
       "      <td>2020-08-01</td>\n",
       "      <td>[{'lastname': 'Cocuzza', 'firstname': 'Carrisa...</td>\n",
       "      <td>NaN</td>\n",
       "      <td>NaN</td>\n",
       "      <td>NaN</td>\n",
       "      <td>Copyright © 2020 the authors.</td>\n",
       "      <td>10.1523/JNEUROSCI.2559-19.2020</td>\n",
       "      <td>&lt;Element 'PubmedArticle' at 0x7f18e07c2a10&gt;</td>\n",
       "    </tr>\n",
       "    <tr>\n",
       "      <th>4</th>\n",
       "      <td>32727820</td>\n",
       "      <td>Responses to Visual Speech in Human Posterior ...</td>\n",
       "      <td>Experimentalists studying multisensory integra...</td>\n",
       "      <td>[]</td>\n",
       "      <td>The Journal of neuroscience : the official jou...</td>\n",
       "      <td>2020-07-31</td>\n",
       "      <td>[{'lastname': 'Metzger', 'firstname': 'Brian A...</td>\n",
       "      <td>NaN</td>\n",
       "      <td>NaN</td>\n",
       "      <td>NaN</td>\n",
       "      <td>Copyright © 2020 Metzger et al.</td>\n",
       "      <td>10.1523/JNEUROSCI.0279-20.2020</td>\n",
       "      <td>&lt;Element 'PubmedArticle' at 0x7f18e07cc710&gt;</td>\n",
       "    </tr>\n",
       "  </tbody>\n",
       "</table>\n",
       "</div>"
      ],
      "text/plain": [
       "  pubmed_id                                              title  \\\n",
       "0  32737169  Erratum: Salido and Ramamurthy, \"Proteoglycan ...   \n",
       "1  32737168  Erratum: Keitel et al., \"Medial Nucleus Accumb...   \n",
       "2  32737167  The neocortical progenitor specification progr...   \n",
       "3  32732324  Flexible coordinator and switcher hubs for ada...   \n",
       "4  32727820  Responses to Visual Speech in Human Posterior ...   \n",
       "\n",
       "                                            abstract keywords  \\\n",
       "0                                                NaN       []   \n",
       "1                                                NaN       []   \n",
       "2  Neuronal progenitors in the developing forebra...       []   \n",
       "3  Functional connectivity studies have identifie...       []   \n",
       "4  Experimentalists studying multisensory integra...       []   \n",
       "\n",
       "                                             journal publication_date  \\\n",
       "0  The Journal of neuroscience : the official jou...       2020-08-02   \n",
       "1  The Journal of neuroscience : the official jou...       2020-08-02   \n",
       "2  The Journal of neuroscience : the official jou...       2020-08-02   \n",
       "3  The Journal of neuroscience : the official jou...       2020-08-01   \n",
       "4  The Journal of neuroscience : the official jou...       2020-07-31   \n",
       "\n",
       "                                             authors  methods  conclusions  \\\n",
       "0                                                 []      NaN          NaN   \n",
       "1                                                 []      NaN          NaN   \n",
       "2  [{'lastname': 'Yabut', 'firstname': 'Odessa R'...      NaN          NaN   \n",
       "3  [{'lastname': 'Cocuzza', 'firstname': 'Carrisa...      NaN          NaN   \n",
       "4  [{'lastname': 'Metzger', 'firstname': 'Brian A...      NaN          NaN   \n",
       "\n",
       "  results                       copyrights                             doi  \\\n",
       "0     NaN                              NaN  10.1523/JNEUROSCI.1846-20.2020   \n",
       "1     NaN                              NaN  10.1523/JNEUROSCI.1829-20.2020   \n",
       "2     NaN    Copyright © 2020 the authors.  10.1523/JNEUROSCI.2888-19.2020   \n",
       "3     NaN    Copyright © 2020 the authors.  10.1523/JNEUROSCI.2559-19.2020   \n",
       "4     NaN  Copyright © 2020 Metzger et al.  10.1523/JNEUROSCI.0279-20.2020   \n",
       "\n",
       "                                           xml  \n",
       "0  <Element 'PubmedArticle' at 0x7f18e0bb0a10>  \n",
       "1  <Element 'PubmedArticle' at 0x7f18e07a1050>  \n",
       "2  <Element 'PubmedArticle' at 0x7f18e07d5b90>  \n",
       "3  <Element 'PubmedArticle' at 0x7f18e07c2a10>  \n",
       "4  <Element 'PubmedArticle' at 0x7f18e07cc710>  "
      ]
     },
     "execution_count": 2,
     "metadata": {},
     "output_type": "execute_result"
    }
   ],
   "source": [
    "# Import the csv as a dataframe\n",
    "\n",
    "columns = ['pubmed_id', 'title', 'abstract', 'keywords',\n",
    "           'journal','publication_date', 'authors', 'methods',\n",
    "           'conclusions', 'results', 'copyrights', 'doi', 'xml']\n",
    "\n",
    "\n",
    "jneuro = pd.read_csv('jneuro.csv', names=columns)\n",
    "\n",
    "print(jneuro.shape)\n",
    "jneuro.head()"
   ]
  },
  {
   "cell_type": "markdown",
   "metadata": {},
   "source": [
    " "
   ]
  },
  {
   "cell_type": "code",
   "execution_count": 3,
   "metadata": {},
   "outputs": [
    {
     "name": "stdout",
     "output_type": "stream",
     "text": [
      "<class 'pandas.core.frame.DataFrame'>\n",
      "RangeIndex: 12734 entries, 0 to 12733\n",
      "Data columns (total 13 columns):\n",
      "pubmed_id           12734 non-null object\n",
      "title               12710 non-null object\n",
      "abstract            12055 non-null object\n",
      "keywords            12734 non-null object\n",
      "journal             12734 non-null object\n",
      "publication_date    12734 non-null object\n",
      "authors             12734 non-null object\n",
      "methods             0 non-null float64\n",
      "conclusions         0 non-null float64\n",
      "results             1 non-null object\n",
      "copyrights          6174 non-null object\n",
      "doi                 12727 non-null object\n",
      "xml                 12734 non-null object\n",
      "dtypes: float64(2), object(11)\n",
      "memory usage: 1.3+ MB\n"
     ]
    }
   ],
   "source": [
    "jneuro.info()"
   ]
  },
  {
   "cell_type": "markdown",
   "metadata": {},
   "source": [
    "## Observation\n",
    "\n",
    "1. The data consists of 13 columns with 12734 rows\n",
    "2. There is a data type error: 'Publication_date' (object -> datetime) \n",
    "3. Null values are represented in two different forms: NaN and [](emtpy list) -> unify the format\n",
    "4. There are completely empty columns: methods, conclusions, results -> drop columns\n",
    "5. Some columns are non-null, but less informative about the contents of the paper: journal, copyrights, doi, xml -> drop columns\n",
    "<br>\n",
    "<br>\n",
    "<br>\n",
    "<br>"
   ]
  },
  {
   "cell_type": "markdown",
   "metadata": {},
   "source": [
    "## What to do next:\n",
    "1. Check date types and change it to another form if necessary\n",
    "2. Take care of (a. uninformative columns), (b. null value)\n",
    "4. Check data inconsistency\n",
    "<br>\n",
    "<br>\n",
    "<br>\n",
    "<br>"
   ]
  },
  {
   "cell_type": "markdown",
   "metadata": {},
   "source": [
    "## 1. Check if data types are correctly assigned"
   ]
  },
  {
   "cell_type": "code",
   "execution_count": 4,
   "metadata": {},
   "outputs": [
    {
     "data": {
      "text/plain": [
       "pubmed_id            object\n",
       "title                object\n",
       "abstract             object\n",
       "keywords             object\n",
       "journal              object\n",
       "publication_date     object\n",
       "authors              object\n",
       "methods             float64\n",
       "conclusions         float64\n",
       "results              object\n",
       "copyrights           object\n",
       "doi                  object\n",
       "xml                  object\n",
       "dtype: object"
      ]
     },
     "execution_count": 4,
     "metadata": {},
     "output_type": "execute_result"
    }
   ],
   "source": [
    "jneuro.dtypes"
   ]
  },
  {
   "cell_type": "markdown",
   "metadata": {},
   "source": [
    "## **Observation**:\n",
    "    1. To analyze annual trend, publication_date should be a 'datetime' format\n",
    "    2. Methods & Conclusions : These are empty columns. We can drop these two."
   ]
  },
  {
   "cell_type": "markdown",
   "metadata": {},
   "source": [
    "### 1.1 Publiction_date as a datetime "
   ]
  },
  {
   "cell_type": "code",
   "execution_count": 5,
   "metadata": {},
   "outputs": [
    {
     "name": "stdout",
     "output_type": "stream",
     "text": [
      "object\n",
      "datetime64[ns]\n"
     ]
    }
   ],
   "source": [
    "# Before converting dtype of'publication_date'\n",
    "print(jneuro['publication_date'].dtype)\n",
    "\n",
    "# Convert the date type to datetime64\n",
    "jneuro['publication_date'] = pd.to_datetime(jneuro['publication_date'])\n",
    "\n",
    "# After converting dtype of'publication_date'\n",
    "print(jneuro['publication_date'].dtype)"
   ]
  },
  {
   "cell_type": "code",
   "execution_count": 6,
   "metadata": {},
   "outputs": [
    {
     "data": {
      "text/plain": [
       "<matplotlib.axes._subplots.AxesSubplot at 0x7fafdf8d7e90>"
      ]
     },
     "execution_count": 6,
     "metadata": {},
     "output_type": "execute_result"
    },
    {
     "data": {
      "image/png": "[encoded data removed]",
      "text/plain": [
       "<Figure size 720x504 with 1 Axes>"
      ]
     },
     "metadata": {
      "needs_background": "light"
     },
     "output_type": "display_data"
    }
   ],
   "source": [
    "plt.figure(figsize=(10,7))\n",
    "sns.countplot(jneuro['publication_date'].dt.year)"
   ]
  },
  {
   "cell_type": "markdown",
   "metadata": {},
   "source": [
    "### Decreased total N of articles\n",
    "### WHY? : N of articles included in each issue changed (40 in 2011 -> 10 in 2019)\n",
    "   - In 2014, eNeuro, another SfN journal with complementary scopes was created (https://www.jneurosci.org/content/about-jneurosci)\n",
    "### But... is this the only reason?\n",
    "<br>\n",
    "<br>\n",
    "<br>"
   ]
  },
  {
   "cell_type": "markdown",
   "metadata": {},
   "source": [
    "<br>\n",
    "\n",
    "\n",
    "### 1.2 Drop empty columns: methods, conclusions"
   ]
  },
  {
   "cell_type": "code",
   "execution_count": 7,
   "metadata": {},
   "outputs": [
    {
     "data": {
      "text/html": [
       "<div>\n",
       "<style scoped>\n",
       "    .dataframe tbody tr th:only-of-type {\n",
       "        vertical-align: middle;\n",
       "    }\n",
       "\n",
       "    .dataframe tbody tr th {\n",
       "        vertical-align: top;\n",
       "    }\n",
       "\n",
       "    .dataframe thead th {\n",
       "        text-align: right;\n",
       "    }\n",
       "</style>\n",
       "<table border=\"1\" class=\"dataframe\">\n",
       "  <thead>\n",
       "    <tr style=\"text-align: right;\">\n",
       "      <th></th>\n",
       "      <th>methods</th>\n",
       "      <th>conclusions</th>\n",
       "    </tr>\n",
       "  </thead>\n",
       "  <tbody>\n",
       "    <tr>\n",
       "      <th>count</th>\n",
       "      <td>0.0</td>\n",
       "      <td>0.0</td>\n",
       "    </tr>\n",
       "    <tr>\n",
       "      <th>mean</th>\n",
       "      <td>NaN</td>\n",
       "      <td>NaN</td>\n",
       "    </tr>\n",
       "    <tr>\n",
       "      <th>std</th>\n",
       "      <td>NaN</td>\n",
       "      <td>NaN</td>\n",
       "    </tr>\n",
       "    <tr>\n",
       "      <th>min</th>\n",
       "      <td>NaN</td>\n",
       "      <td>NaN</td>\n",
       "    </tr>\n",
       "    <tr>\n",
       "      <th>25%</th>\n",
       "      <td>NaN</td>\n",
       "      <td>NaN</td>\n",
       "    </tr>\n",
       "    <tr>\n",
       "      <th>50%</th>\n",
       "      <td>NaN</td>\n",
       "      <td>NaN</td>\n",
       "    </tr>\n",
       "    <tr>\n",
       "      <th>75%</th>\n",
       "      <td>NaN</td>\n",
       "      <td>NaN</td>\n",
       "    </tr>\n",
       "    <tr>\n",
       "      <th>max</th>\n",
       "      <td>NaN</td>\n",
       "      <td>NaN</td>\n",
       "    </tr>\n",
       "  </tbody>\n",
       "</table>\n",
       "</div>"
      ],
      "text/plain": [
       "       methods  conclusions\n",
       "count      0.0          0.0\n",
       "mean       NaN          NaN\n",
       "std        NaN          NaN\n",
       "min        NaN          NaN\n",
       "25%        NaN          NaN\n",
       "50%        NaN          NaN\n",
       "75%        NaN          NaN\n",
       "max        NaN          NaN"
      ]
     },
     "execution_count": 7,
     "metadata": {},
     "output_type": "execute_result"
    }
   ],
   "source": [
    "jneuro[['methods', 'conclusions']].describe()"
   ]
  },
  {
   "cell_type": "code",
   "execution_count": 8,
   "metadata": {},
   "outputs": [],
   "source": [
    "jneuro_1 = jneuro.drop(columns=['methods', 'conclusions'])"
   ]
  },
  {
   "cell_type": "markdown",
   "metadata": {},
   "source": [
    "<br>\n",
    "<br>\n",
    "\n",
    "## 2.  Take care of empty values"
   ]
  },
  {
   "cell_type": "markdown",
   "metadata": {},
   "source": [
    "First, we'll drop less informative columns.\n",
    "And then, we'll take care of null values."
   ]
  },
  {
   "cell_type": "code",
   "execution_count": 9,
   "metadata": {},
   "outputs": [
    {
     "data": {
      "text/html": [
       "<div>\n",
       "<style scoped>\n",
       "    .dataframe tbody tr th:only-of-type {\n",
       "        vertical-align: middle;\n",
       "    }\n",
       "\n",
       "    .dataframe tbody tr th {\n",
       "        vertical-align: top;\n",
       "    }\n",
       "\n",
       "    .dataframe thead th {\n",
       "        text-align: right;\n",
       "    }\n",
       "</style>\n",
       "<table border=\"1\" class=\"dataframe\">\n",
       "  <thead>\n",
       "    <tr style=\"text-align: right;\">\n",
       "      <th></th>\n",
       "      <th>pubmed_id</th>\n",
       "      <th>title</th>\n",
       "      <th>abstract</th>\n",
       "      <th>keywords</th>\n",
       "      <th>journal</th>\n",
       "      <th>publication_date</th>\n",
       "      <th>authors</th>\n",
       "      <th>results</th>\n",
       "      <th>copyrights</th>\n",
       "      <th>doi</th>\n",
       "      <th>xml</th>\n",
       "    </tr>\n",
       "  </thead>\n",
       "  <tbody>\n",
       "    <tr>\n",
       "      <th>0</th>\n",
       "      <td>32737169</td>\n",
       "      <td>Erratum: Salido and Ramamurthy, \"Proteoglycan ...</td>\n",
       "      <td>NaN</td>\n",
       "      <td>NaN</td>\n",
       "      <td>The Journal of neuroscience : the official jou...</td>\n",
       "      <td>2020-08-02</td>\n",
       "      <td>NaN</td>\n",
       "      <td>NaN</td>\n",
       "      <td>NaN</td>\n",
       "      <td>10.1523/JNEUROSCI.1846-20.2020</td>\n",
       "      <td>&lt;Element 'PubmedArticle' at 0x7f18e0bb0a10&gt;</td>\n",
       "    </tr>\n",
       "    <tr>\n",
       "      <th>1</th>\n",
       "      <td>32737168</td>\n",
       "      <td>Erratum: Keitel et al., \"Medial Nucleus Accumb...</td>\n",
       "      <td>NaN</td>\n",
       "      <td>NaN</td>\n",
       "      <td>The Journal of neuroscience : the official jou...</td>\n",
       "      <td>2020-08-02</td>\n",
       "      <td>NaN</td>\n",
       "      <td>NaN</td>\n",
       "      <td>NaN</td>\n",
       "      <td>10.1523/JNEUROSCI.1829-20.2020</td>\n",
       "      <td>&lt;Element 'PubmedArticle' at 0x7f18e07a1050&gt;</td>\n",
       "    </tr>\n",
       "    <tr>\n",
       "      <th>2</th>\n",
       "      <td>32737167</td>\n",
       "      <td>The neocortical progenitor specification progr...</td>\n",
       "      <td>Neuronal progenitors in the developing forebra...</td>\n",
       "      <td>NaN</td>\n",
       "      <td>The Journal of neuroscience : the official jou...</td>\n",
       "      <td>2020-08-02</td>\n",
       "      <td>[{'lastname': 'Yabut', 'firstname': 'Odessa R'...</td>\n",
       "      <td>NaN</td>\n",
       "      <td>Copyright © 2020 the authors.</td>\n",
       "      <td>10.1523/JNEUROSCI.2888-19.2020</td>\n",
       "      <td>&lt;Element 'PubmedArticle' at 0x7f18e07d5b90&gt;</td>\n",
       "    </tr>\n",
       "    <tr>\n",
       "      <th>3</th>\n",
       "      <td>32732324</td>\n",
       "      <td>Flexible coordinator and switcher hubs for ada...</td>\n",
       "      <td>Functional connectivity studies have identifie...</td>\n",
       "      <td>NaN</td>\n",
       "      <td>The Journal of neuroscience : the official jou...</td>\n",
       "      <td>2020-08-01</td>\n",
       "      <td>[{'lastname': 'Cocuzza', 'firstname': 'Carrisa...</td>\n",
       "      <td>NaN</td>\n",
       "      <td>Copyright © 2020 the authors.</td>\n",
       "      <td>10.1523/JNEUROSCI.2559-19.2020</td>\n",
       "      <td>&lt;Element 'PubmedArticle' at 0x7f18e07c2a10&gt;</td>\n",
       "    </tr>\n",
       "    <tr>\n",
       "      <th>4</th>\n",
       "      <td>32727820</td>\n",
       "      <td>Responses to Visual Speech in Human Posterior ...</td>\n",
       "      <td>Experimentalists studying multisensory integra...</td>\n",
       "      <td>NaN</td>\n",
       "      <td>The Journal of neuroscience : the official jou...</td>\n",
       "      <td>2020-07-31</td>\n",
       "      <td>[{'lastname': 'Metzger', 'firstname': 'Brian A...</td>\n",
       "      <td>NaN</td>\n",
       "      <td>Copyright © 2020 Metzger et al.</td>\n",
       "      <td>10.1523/JNEUROSCI.0279-20.2020</td>\n",
       "      <td>&lt;Element 'PubmedArticle' at 0x7f18e07cc710&gt;</td>\n",
       "    </tr>\n",
       "  </tbody>\n",
       "</table>\n",
       "</div>"
      ],
      "text/plain": [
       "  pubmed_id                                              title  \\\n",
       "0  32737169  Erratum: Salido and Ramamurthy, \"Proteoglycan ...   \n",
       "1  32737168  Erratum: Keitel et al., \"Medial Nucleus Accumb...   \n",
       "2  32737167  The neocortical progenitor specification progr...   \n",
       "3  32732324  Flexible coordinator and switcher hubs for ada...   \n",
       "4  32727820  Responses to Visual Speech in Human Posterior ...   \n",
       "\n",
       "                                            abstract keywords  \\\n",
       "0                                                NaN      NaN   \n",
       "1                                                NaN      NaN   \n",
       "2  Neuronal progenitors in the developing forebra...      NaN   \n",
       "3  Functional connectivity studies have identifie...      NaN   \n",
       "4  Experimentalists studying multisensory integra...      NaN   \n",
       "\n",
       "                                             journal publication_date  \\\n",
       "0  The Journal of neuroscience : the official jou...       2020-08-02   \n",
       "1  The Journal of neuroscience : the official jou...       2020-08-02   \n",
       "2  The Journal of neuroscience : the official jou...       2020-08-02   \n",
       "3  The Journal of neuroscience : the official jou...       2020-08-01   \n",
       "4  The Journal of neuroscience : the official jou...       2020-07-31   \n",
       "\n",
       "                                             authors results  \\\n",
       "0                                                NaN     NaN   \n",
       "1                                                NaN     NaN   \n",
       "2  [{'lastname': 'Yabut', 'firstname': 'Odessa R'...     NaN   \n",
       "3  [{'lastname': 'Cocuzza', 'firstname': 'Carrisa...     NaN   \n",
       "4  [{'lastname': 'Metzger', 'firstname': 'Brian A...     NaN   \n",
       "\n",
       "                        copyrights                             doi  \\\n",
       "0                              NaN  10.1523/JNEUROSCI.1846-20.2020   \n",
       "1                              NaN  10.1523/JNEUROSCI.1829-20.2020   \n",
       "2    Copyright © 2020 the authors.  10.1523/JNEUROSCI.2888-19.2020   \n",
       "3    Copyright © 2020 the authors.  10.1523/JNEUROSCI.2559-19.2020   \n",
       "4  Copyright © 2020 Metzger et al.  10.1523/JNEUROSCI.0279-20.2020   \n",
       "\n",
       "                                           xml  \n",
       "0  <Element 'PubmedArticle' at 0x7f18e0bb0a10>  \n",
       "1  <Element 'PubmedArticle' at 0x7f18e07a1050>  \n",
       "2  <Element 'PubmedArticle' at 0x7f18e07d5b90>  \n",
       "3  <Element 'PubmedArticle' at 0x7f18e07c2a10>  \n",
       "4  <Element 'PubmedArticle' at 0x7f18e07cc710>  "
      ]
     },
     "execution_count": 9,
     "metadata": {},
     "output_type": "execute_result"
    }
   ],
   "source": [
    "# First, let's use .replace() and substitute ('[]') with np.nan\n",
    "# To unify the respresentation of empty values\n",
    "\n",
    "jneuro_1.replace(to_replace='[]', value=np.nan, inplace=True)\n",
    "jneuro_1.head()"
   ]
  },
  {
   "cell_type": "code",
   "execution_count": 10,
   "metadata": {},
   "outputs": [
    {
     "data": {
      "text/plain": [
       "pubmed_id           0.000000\n",
       "title               0.001885\n",
       "abstract            0.053322\n",
       "keywords            0.487514\n",
       "journal             0.000000\n",
       "publication_date    0.000000\n",
       "authors             0.009895\n",
       "results             0.999921\n",
       "copyrights          0.515156\n",
       "doi                 0.000550\n",
       "xml                 0.000000\n",
       "dtype: float64"
      ]
     },
     "execution_count": 10,
     "metadata": {},
     "output_type": "execute_result"
    }
   ],
   "source": [
    "jneuro_1.isnull().mean()"
   ]
  },
  {
   "cell_type": "markdown",
   "metadata": {},
   "source": [
    "- Title & Abstract has some null values (0.2% and 5%)\n",
    "- Keywords column miss almost 50% of its contents\n",
    "- As discussed ealier, 'results' is empty so it'll be removed along with other irrelevant columns"
   ]
  },
  {
   "cell_type": "markdown",
   "metadata": {},
   "source": [
    "### 2-1. Drop some less-informative columns"
   ]
  },
  {
   "cell_type": "code",
   "execution_count": 11,
   "metadata": {},
   "outputs": [
    {
     "data": {
      "text/plain": [
       "pubmed_id              0\n",
       "title                 24\n",
       "abstract             679\n",
       "keywords            6208\n",
       "journal                0\n",
       "publication_date       0\n",
       "authors              126\n",
       "doi                    7\n",
       "xml                    0\n",
       "dtype: int64"
      ]
     },
     "execution_count": 11,
     "metadata": {},
     "output_type": "execute_result"
    }
   ],
   "source": [
    "# Drop columns which have high proportion of empty values (>50%)\n",
    "# and are not necessary information for research trend analysis\n",
    "# Let's keep the 'keywords' column for now\n",
    "\n",
    "cols_to_drop = ['results', 'copyrights']\n",
    "jneuro_1.drop(columns=cols_to_drop, inplace=True)\n",
    "jneuro_1.isnull().sum()"
   ]
  },
  {
   "cell_type": "code",
   "execution_count": 12,
   "metadata": {},
   "outputs": [
    {
     "data": {
      "text/plain": [
       "pubmed_id              0\n",
       "title                 24\n",
       "abstract             679\n",
       "keywords            6208\n",
       "publication_date       0\n",
       "authors              126\n",
       "dtype: int64"
      ]
     },
     "execution_count": 12,
     "metadata": {},
     "output_type": "execute_result"
    }
   ],
   "source": [
    "# Drop more columns which do not provide any info about the contents\n",
    "\n",
    "more_cols_to_drop = ['journal', 'doi', 'xml']\n",
    "jneuro_1.drop(columns=more_cols_to_drop, inplace=True)\n",
    "jneuro_1.isnull().sum()"
   ]
  },
  {
   "cell_type": "markdown",
   "metadata": {},
   "source": [
    " "
   ]
  },
  {
   "cell_type": "markdown",
   "metadata": {},
   "source": [
    "### 2-2. Check articles missing title or abstract"
   ]
  },
  {
   "cell_type": "markdown",
   "metadata": {},
   "source": [
    "Usually, abstracts contain longer length of strings with a lot of keywords compactly sqeezed in it then the titles."
   ]
  },
  {
   "cell_type": "code",
   "execution_count": 13,
   "metadata": {
    "scrolled": true
   },
   "outputs": [
    {
     "name": "stdout",
     "output_type": "stream",
     "text": [
      "count    12710.000000\n",
      "mean       102.980094\n",
      "std         32.668527\n",
      "min          1.000000\n",
      "25%         80.000000\n",
      "50%        100.000000\n",
      "75%        123.000000\n",
      "max        311.000000\n",
      "Name: len_title, dtype: float64\n",
      "----------------------------------------\n",
      "count    12055.000000\n",
      "mean      1493.011779\n",
      "std        527.429549\n",
      "min          1.000000\n",
      "25%       1205.000000\n",
      "50%       1583.000000\n",
      "75%       1767.000000\n",
      "max       3582.000000\n",
      "Name: len_abstract, dtype: float64\n"
     ]
    }
   ],
   "source": [
    "# Let's check the length of titles and abstracts\n",
    "jneuro_2 = jneuro_1.copy()\n",
    "\n",
    "# We need these masks to filter NaNs out and calculate the length of only strings\n",
    "no_titles = jneuro_2['title'].isnull()\n",
    "no_abstracts = jneuro_2['abstract'].isnull()\n",
    "\n",
    "\n",
    "jneuro_2['len_title'] = jneuro_2[~no_titles]['title'].apply(lambda t: len(t))\n",
    "jneuro_2['len_abstract'] = jneuro_2[~no_abstracts]['abstract'].apply(lambda a: len(a))\n",
    "\n",
    "print(jneuro_2['len_title'].describe())\n",
    "print('-'*40)\n",
    "print(jneuro_2['len_abstract'].describe())"
   ]
  },
  {
   "cell_type": "code",
   "execution_count": 14,
   "metadata": {},
   "outputs": [
    {
     "data": {
      "text/plain": [
       "<matplotlib.lines.Line2D at 0x7fafdf69bcd0>"
      ]
     },
     "execution_count": 14,
     "metadata": {},
     "output_type": "execute_result"
    },
    {
     "data": {
      "image/png": "[encoded data removed]",
      "text/plain": [
       "<Figure size 1080x648 with 1 Axes>"
      ]
     },
     "metadata": {
      "needs_background": "light"
     },
     "output_type": "display_data"
    }
   ],
   "source": [
    "jneuro_2['len_title'].hist(bins=100, figsize=(15, 9), xlabelsize=13, ylabelsize=13)\n",
    "\n",
    "plt.xlabel(\"Distribution of title length\")\n",
    "plt.xticks(range(0,330,50))\n",
    "plt.xlim((0,330))\n",
    "plt.axvline(jneuro_2['len_title'].median(), color='red')  # Median in red\n",
    "plt.axvline(jneuro_2['len_title'].mean(), color='green')  # Mean in green"
   ]
  },
  {
   "cell_type": "code",
   "execution_count": 15,
   "metadata": {},
   "outputs": [
    {
     "data": {
      "text/plain": [
       "<matplotlib.lines.Line2D at 0x7fafdf7488d0>"
      ]
     },
     "execution_count": 15,
     "metadata": {},
     "output_type": "execute_result"
    },
    {
     "data": {
      "image/png": "[encoded data removed]",
      "text/plain": [
       "<Figure size 1080x648 with 1 Axes>"
      ]
     },
     "metadata": {
      "needs_background": "light"
     },
     "output_type": "display_data"
    }
   ],
   "source": [
    "jneuro_2['len_abstract'].hist(bins=100, figsize=(15, 9))\n",
    "\n",
    "plt.xlabel(\"Distribution of abstract length\")\n",
    "plt.xticks(range(0,3700,500))\n",
    "plt.xlim((0,3700))\n",
    "plt.axvline(jneuro_2['len_abstract'].median(), color='red')  # Median in red\n",
    "plt.axvline(jneuro_2['len_abstract'].mean(), color='green')  # Mean in green"
   ]
  },
  {
   "cell_type": "markdown",
   "metadata": {},
   "source": [
    "## Observation:\n",
    "- Indeed, abstracts contain more words\n",
    "- I'll keep both titles & abstracts for the analysis. **However, I'd prioritize abstracts to have a richer pool of vocabulary**\n",
    "- Some data have extremely short length of title and abstract (<5 characters) -> probably we need to look at these separately and deal with them"
   ]
  },
  {
   "cell_type": "code",
   "execution_count": 16,
   "metadata": {},
   "outputs": [
    {
     "name": "stdout",
     "output_type": "stream",
     "text": [
      "(12734, 8)\n"
     ]
    },
    {
     "data": {
      "text/html": [
       "<div>\n",
       "<style scoped>\n",
       "    .dataframe tbody tr th:only-of-type {\n",
       "        vertical-align: middle;\n",
       "    }\n",
       "\n",
       "    .dataframe tbody tr th {\n",
       "        vertical-align: top;\n",
       "    }\n",
       "\n",
       "    .dataframe thead th {\n",
       "        text-align: right;\n",
       "    }\n",
       "</style>\n",
       "<table border=\"1\" class=\"dataframe\">\n",
       "  <thead>\n",
       "    <tr style=\"text-align: right;\">\n",
       "      <th></th>\n",
       "      <th>pubmed_id</th>\n",
       "      <th>title</th>\n",
       "      <th>abstract</th>\n",
       "      <th>keywords</th>\n",
       "      <th>publication_date</th>\n",
       "      <th>authors</th>\n",
       "      <th>len_title</th>\n",
       "      <th>len_abstract</th>\n",
       "    </tr>\n",
       "  </thead>\n",
       "  <tbody>\n",
       "    <tr>\n",
       "      <th>0</th>\n",
       "      <td>32737169</td>\n",
       "      <td>Erratum: Salido and Ramamurthy, \"Proteoglycan ...</td>\n",
       "      <td>NaN</td>\n",
       "      <td>NaN</td>\n",
       "      <td>2020-08-02</td>\n",
       "      <td>NaN</td>\n",
       "      <td>111.0</td>\n",
       "      <td>NaN</td>\n",
       "    </tr>\n",
       "    <tr>\n",
       "      <th>1</th>\n",
       "      <td>32737168</td>\n",
       "      <td>Erratum: Keitel et al., \"Medial Nucleus Accumb...</td>\n",
       "      <td>NaN</td>\n",
       "      <td>NaN</td>\n",
       "      <td>2020-08-02</td>\n",
       "      <td>NaN</td>\n",
       "      <td>118.0</td>\n",
       "      <td>NaN</td>\n",
       "    </tr>\n",
       "    <tr>\n",
       "      <th>2</th>\n",
       "      <td>32737167</td>\n",
       "      <td>The neocortical progenitor specification progr...</td>\n",
       "      <td>Neuronal progenitors in the developing forebra...</td>\n",
       "      <td>NaN</td>\n",
       "      <td>2020-08-02</td>\n",
       "      <td>[{'lastname': 'Yabut', 'firstname': 'Odessa R'...</td>\n",
       "      <td>117.0</td>\n",
       "      <td>767.0</td>\n",
       "    </tr>\n",
       "    <tr>\n",
       "      <th>3</th>\n",
       "      <td>32732324</td>\n",
       "      <td>Flexible coordinator and switcher hubs for ada...</td>\n",
       "      <td>Functional connectivity studies have identifie...</td>\n",
       "      <td>NaN</td>\n",
       "      <td>2020-08-01</td>\n",
       "      <td>[{'lastname': 'Cocuzza', 'firstname': 'Carrisa...</td>\n",
       "      <td>65.0</td>\n",
       "      <td>1645.0</td>\n",
       "    </tr>\n",
       "    <tr>\n",
       "      <th>4</th>\n",
       "      <td>32727820</td>\n",
       "      <td>Responses to Visual Speech in Human Posterior ...</td>\n",
       "      <td>Experimentalists studying multisensory integra...</td>\n",
       "      <td>NaN</td>\n",
       "      <td>2020-07-31</td>\n",
       "      <td>[{'lastname': 'Metzger', 'firstname': 'Brian A...</td>\n",
       "      <td>103.0</td>\n",
       "      <td>1664.0</td>\n",
       "    </tr>\n",
       "  </tbody>\n",
       "</table>\n",
       "</div>"
      ],
      "text/plain": [
       "  pubmed_id                                              title  \\\n",
       "0  32737169  Erratum: Salido and Ramamurthy, \"Proteoglycan ...   \n",
       "1  32737168  Erratum: Keitel et al., \"Medial Nucleus Accumb...   \n",
       "2  32737167  The neocortical progenitor specification progr...   \n",
       "3  32732324  Flexible coordinator and switcher hubs for ada...   \n",
       "4  32727820  Responses to Visual Speech in Human Posterior ...   \n",
       "\n",
       "                                            abstract keywords  \\\n",
       "0                                                NaN      NaN   \n",
       "1                                                NaN      NaN   \n",
       "2  Neuronal progenitors in the developing forebra...      NaN   \n",
       "3  Functional connectivity studies have identifie...      NaN   \n",
       "4  Experimentalists studying multisensory integra...      NaN   \n",
       "\n",
       "  publication_date                                            authors  \\\n",
       "0       2020-08-02                                                NaN   \n",
       "1       2020-08-02                                                NaN   \n",
       "2       2020-08-02  [{'lastname': 'Yabut', 'firstname': 'Odessa R'...   \n",
       "3       2020-08-01  [{'lastname': 'Cocuzza', 'firstname': 'Carrisa...   \n",
       "4       2020-07-31  [{'lastname': 'Metzger', 'firstname': 'Brian A...   \n",
       "\n",
       "   len_title  len_abstract  \n",
       "0      111.0           NaN  \n",
       "1      118.0           NaN  \n",
       "2      117.0         767.0  \n",
       "3       65.0        1645.0  \n",
       "4      103.0        1664.0  "
      ]
     },
     "execution_count": 16,
     "metadata": {},
     "output_type": "execute_result"
    }
   ],
   "source": [
    "# Current dataframe looks like:\n",
    "\n",
    "print(jneuro_2.shape)\n",
    "jneuro_2[jneuro_2.isnull().any(axis=1)].head()"
   ]
  },
  {
   "cell_type": "code",
   "execution_count": 17,
   "metadata": {},
   "outputs": [
    {
     "name": "stdout",
     "output_type": "stream",
     "text": [
      "(12055, 8)\n"
     ]
    },
    {
     "data": {
      "text/html": [
       "<div>\n",
       "<style scoped>\n",
       "    .dataframe tbody tr th:only-of-type {\n",
       "        vertical-align: middle;\n",
       "    }\n",
       "\n",
       "    .dataframe tbody tr th {\n",
       "        vertical-align: top;\n",
       "    }\n",
       "\n",
       "    .dataframe thead th {\n",
       "        text-align: right;\n",
       "    }\n",
       "</style>\n",
       "<table border=\"1\" class=\"dataframe\">\n",
       "  <thead>\n",
       "    <tr style=\"text-align: right;\">\n",
       "      <th></th>\n",
       "      <th>pubmed_id</th>\n",
       "      <th>title</th>\n",
       "      <th>abstract</th>\n",
       "      <th>keywords</th>\n",
       "      <th>publication_date</th>\n",
       "      <th>authors</th>\n",
       "      <th>len_title</th>\n",
       "      <th>len_abstract</th>\n",
       "    </tr>\n",
       "  </thead>\n",
       "  <tbody>\n",
       "    <tr>\n",
       "      <th>2</th>\n",
       "      <td>32737167</td>\n",
       "      <td>The neocortical progenitor specification progr...</td>\n",
       "      <td>Neuronal progenitors in the developing forebra...</td>\n",
       "      <td>NaN</td>\n",
       "      <td>2020-08-02</td>\n",
       "      <td>[{'lastname': 'Yabut', 'firstname': 'Odessa R'...</td>\n",
       "      <td>117.0</td>\n",
       "      <td>767.0</td>\n",
       "    </tr>\n",
       "    <tr>\n",
       "      <th>3</th>\n",
       "      <td>32732324</td>\n",
       "      <td>Flexible coordinator and switcher hubs for ada...</td>\n",
       "      <td>Functional connectivity studies have identifie...</td>\n",
       "      <td>NaN</td>\n",
       "      <td>2020-08-01</td>\n",
       "      <td>[{'lastname': 'Cocuzza', 'firstname': 'Carrisa...</td>\n",
       "      <td>65.0</td>\n",
       "      <td>1645.0</td>\n",
       "    </tr>\n",
       "    <tr>\n",
       "      <th>4</th>\n",
       "      <td>32727820</td>\n",
       "      <td>Responses to Visual Speech in Human Posterior ...</td>\n",
       "      <td>Experimentalists studying multisensory integra...</td>\n",
       "      <td>NaN</td>\n",
       "      <td>2020-07-31</td>\n",
       "      <td>[{'lastname': 'Metzger', 'firstname': 'Brian A...</td>\n",
       "      <td>103.0</td>\n",
       "      <td>1664.0</td>\n",
       "    </tr>\n",
       "    <tr>\n",
       "      <th>5</th>\n",
       "      <td>32727819</td>\n",
       "      <td>Activation of Infralimbic to Nucleus Accumbens...</td>\n",
       "      <td>Hedonic processing plays an integral role in d...</td>\n",
       "      <td>NaN</td>\n",
       "      <td>2020-07-31</td>\n",
       "      <td>[{'lastname': 'Hurley', 'firstname': 'Seth W',...</td>\n",
       "      <td>121.0</td>\n",
       "      <td>1421.0</td>\n",
       "    </tr>\n",
       "    <tr>\n",
       "      <th>6</th>\n",
       "      <td>32719163</td>\n",
       "      <td>Hippocampal representation of threat features ...</td>\n",
       "      <td>Decisions under threat are crucial to survival...</td>\n",
       "      <td>NaN</td>\n",
       "      <td>2020-07-29</td>\n",
       "      <td>[{'lastname': 'Abivardi', 'firstname': 'Aslan'...</td>\n",
       "      <td>111.0</td>\n",
       "      <td>1823.0</td>\n",
       "    </tr>\n",
       "  </tbody>\n",
       "</table>\n",
       "</div>"
      ],
      "text/plain": [
       "  pubmed_id                                              title  \\\n",
       "2  32737167  The neocortical progenitor specification progr...   \n",
       "3  32732324  Flexible coordinator and switcher hubs for ada...   \n",
       "4  32727820  Responses to Visual Speech in Human Posterior ...   \n",
       "5  32727819  Activation of Infralimbic to Nucleus Accumbens...   \n",
       "6  32719163  Hippocampal representation of threat features ...   \n",
       "\n",
       "                                            abstract keywords  \\\n",
       "2  Neuronal progenitors in the developing forebra...      NaN   \n",
       "3  Functional connectivity studies have identifie...      NaN   \n",
       "4  Experimentalists studying multisensory integra...      NaN   \n",
       "5  Hedonic processing plays an integral role in d...      NaN   \n",
       "6  Decisions under threat are crucial to survival...      NaN   \n",
       "\n",
       "  publication_date                                            authors  \\\n",
       "2       2020-08-02  [{'lastname': 'Yabut', 'firstname': 'Odessa R'...   \n",
       "3       2020-08-01  [{'lastname': 'Cocuzza', 'firstname': 'Carrisa...   \n",
       "4       2020-07-31  [{'lastname': 'Metzger', 'firstname': 'Brian A...   \n",
       "5       2020-07-31  [{'lastname': 'Hurley', 'firstname': 'Seth W',...   \n",
       "6       2020-07-29  [{'lastname': 'Abivardi', 'firstname': 'Aslan'...   \n",
       "\n",
       "   len_title  len_abstract  \n",
       "2      117.0         767.0  \n",
       "3       65.0        1645.0  \n",
       "4      103.0        1664.0  \n",
       "5      121.0        1421.0  \n",
       "6      111.0        1823.0  "
      ]
     },
     "execution_count": 17,
     "metadata": {},
     "output_type": "execute_result"
    }
   ],
   "source": [
    "# case 1: No title, but abtract exist -> Let's keep the rows for now because we need abstracts.\n",
    "# case 2: No title, no abstract -> Drop rows.\n",
    "# case 3: Has title, no abstract -> Drop rows.\n",
    "\n",
    "# Drop rows missing abstract using the 'no_abstracts' mask\n",
    "jneuro_2 = jneuro_2[~no_abstracts]\n",
    "\n",
    "print(jneuro_2.shape)\n",
    "jneuro_2.head()"
   ]
  },
  {
   "cell_type": "code",
   "execution_count": 18,
   "metadata": {},
   "outputs": [
    {
     "data": {
      "text/plain": [
       "pubmed_id              0\n",
       "title                 19\n",
       "abstract               0\n",
       "keywords            5545\n",
       "publication_date       0\n",
       "authors               47\n",
       "len_title             19\n",
       "len_abstract           0\n",
       "dtype: int64"
      ]
     },
     "execution_count": 18,
     "metadata": {},
     "output_type": "execute_result"
    }
   ],
   "source": [
    "jneuro_2.isnull().sum()"
   ]
  },
  {
   "cell_type": "markdown",
   "metadata": {},
   "source": [
    "- Let's not remove the keywords and authors yet, just in case we need it in the future analysis"
   ]
  },
  {
   "cell_type": "markdown",
   "metadata": {},
   "source": [
    "# 3. Data inconsistency"
   ]
  },
  {
   "cell_type": "markdown",
   "metadata": {},
   "source": [
    "In this step, I'll check if there's any critical data inconsistency which affects the data quality.\n",
    "<br>\n",
    "Related issues found so far: title, abstract and pubmed_id"
   ]
  },
  {
   "cell_type": "markdown",
   "metadata": {},
   "source": [
    "## 3-1. Erratum and Corrigendum statetments in title"
   ]
  },
  {
   "cell_type": "markdown",
   "metadata": {},
   "source": [
    "Some titles starts their sentence with 'Erratum:...' or 'Corrections'\n",
    "<br>\n",
    "In this case, these rows have a title, but their abstracts are uninforamative, since it's just informing an erratum about a previously published article.\n",
    "<br>\n",
    "Here's are the exmaples:"
   ]
  },
  {
   "cell_type": "code",
   "execution_count": 19,
   "metadata": {},
   "outputs": [
    {
     "data": {
      "text/html": [
       "<div>\n",
       "<style scoped>\n",
       "    .dataframe tbody tr th:only-of-type {\n",
       "        vertical-align: middle;\n",
       "    }\n",
       "\n",
       "    .dataframe tbody tr th {\n",
       "        vertical-align: top;\n",
       "    }\n",
       "\n",
       "    .dataframe thead th {\n",
       "        text-align: right;\n",
       "    }\n",
       "</style>\n",
       "<table border=\"1\" class=\"dataframe\">\n",
       "  <thead>\n",
       "    <tr style=\"text-align: right;\">\n",
       "      <th></th>\n",
       "      <th>pubmed_id</th>\n",
       "      <th>title</th>\n",
       "      <th>abstract</th>\n",
       "      <th>keywords</th>\n",
       "      <th>publication_date</th>\n",
       "      <th>authors</th>\n",
       "      <th>len_title</th>\n",
       "      <th>len_abstract</th>\n",
       "    </tr>\n",
       "  </thead>\n",
       "  <tbody>\n",
       "    <tr>\n",
       "      <th>786</th>\n",
       "      <td>31329694</td>\n",
       "      <td>Erratum: Wang et al., \"14-3-3 Proteins Reduce ...</td>\n",
       "      <td>[This corrects the article on p. 8211 in vol. ...</td>\n",
       "      <td>NaN</td>\n",
       "      <td>2019-07-23</td>\n",
       "      <td>NaN</td>\n",
       "      <td>111.0</td>\n",
       "      <td>67.0</td>\n",
       "    </tr>\n",
       "    <tr>\n",
       "      <th>787</th>\n",
       "      <td>31329693</td>\n",
       "      <td>Erratum: Lueckmann et al., \"Can Serial Depende...</td>\n",
       "      <td>[This corrects the article on p. 3495 in vol. ...</td>\n",
       "      <td>NaN</td>\n",
       "      <td>2019-07-23</td>\n",
       "      <td>NaN</td>\n",
       "      <td>113.0</td>\n",
       "      <td>67.0</td>\n",
       "    </tr>\n",
       "    <tr>\n",
       "      <th>1827</th>\n",
       "      <td>31329681</td>\n",
       "      <td>Erratum: Hood et al., \"Endoplasmic Reticulum S...</td>\n",
       "      <td>[This corrects the article on p. 2372 in vol. ...</td>\n",
       "      <td>NaN</td>\n",
       "      <td>2018-04-25</td>\n",
       "      <td>NaN</td>\n",
       "      <td>137.0</td>\n",
       "      <td>67.0</td>\n",
       "    </tr>\n",
       "    <tr>\n",
       "      <th>2047</th>\n",
       "      <td>31329691</td>\n",
       "      <td>Erratum: Wanner et al., Cold-Induced Thermogen...</td>\n",
       "      <td>[This corrects the article on p. 6956 in vol. ...</td>\n",
       "      <td>NaN</td>\n",
       "      <td>2018-01-24</td>\n",
       "      <td>NaN</td>\n",
       "      <td>228.0</td>\n",
       "      <td>67.0</td>\n",
       "    </tr>\n",
       "    <tr>\n",
       "      <th>2048</th>\n",
       "      <td>31329690</td>\n",
       "      <td>Erratum: Machado et al., Conditional Deletion of</td>\n",
       "      <td>[This corrects the article on p. 12202 in vol....</td>\n",
       "      <td>NaN</td>\n",
       "      <td>2018-01-24</td>\n",
       "      <td>NaN</td>\n",
       "      <td>49.0</td>\n",
       "      <td>68.0</td>\n",
       "    </tr>\n",
       "  </tbody>\n",
       "</table>\n",
       "</div>"
      ],
      "text/plain": [
       "     pubmed_id                                              title  \\\n",
       "786   31329694  Erratum: Wang et al., \"14-3-3 Proteins Reduce ...   \n",
       "787   31329693  Erratum: Lueckmann et al., \"Can Serial Depende...   \n",
       "1827  31329681  Erratum: Hood et al., \"Endoplasmic Reticulum S...   \n",
       "2047  31329691  Erratum: Wanner et al., Cold-Induced Thermogen...   \n",
       "2048  31329690  Erratum: Machado et al., Conditional Deletion of    \n",
       "\n",
       "                                               abstract keywords  \\\n",
       "786   [This corrects the article on p. 8211 in vol. ...      NaN   \n",
       "787   [This corrects the article on p. 3495 in vol. ...      NaN   \n",
       "1827  [This corrects the article on p. 2372 in vol. ...      NaN   \n",
       "2047  [This corrects the article on p. 6956 in vol. ...      NaN   \n",
       "2048  [This corrects the article on p. 12202 in vol....      NaN   \n",
       "\n",
       "     publication_date authors  len_title  len_abstract  \n",
       "786        2019-07-23     NaN      111.0          67.0  \n",
       "787        2019-07-23     NaN      113.0          67.0  \n",
       "1827       2018-04-25     NaN      137.0          67.0  \n",
       "2047       2018-01-24     NaN      228.0          67.0  \n",
       "2048       2018-01-24     NaN       49.0          68.0  "
      ]
     },
     "execution_count": 19,
     "metadata": {},
     "output_type": "execute_result"
    }
   ],
   "source": [
    "jneuro_3 = jneuro_2.copy()\n",
    "jneuro_3[jneuro_3['title'].str.contains(r'Erratum:*', na=False)].head()"
   ]
  },
  {
   "cell_type": "code",
   "execution_count": 20,
   "metadata": {},
   "outputs": [
    {
     "data": {
      "text/html": [
       "<div>\n",
       "<style scoped>\n",
       "    .dataframe tbody tr th:only-of-type {\n",
       "        vertical-align: middle;\n",
       "    }\n",
       "\n",
       "    .dataframe tbody tr th {\n",
       "        vertical-align: top;\n",
       "    }\n",
       "\n",
       "    .dataframe thead th {\n",
       "        text-align: right;\n",
       "    }\n",
       "</style>\n",
       "<table border=\"1\" class=\"dataframe\">\n",
       "  <thead>\n",
       "    <tr style=\"text-align: right;\">\n",
       "      <th></th>\n",
       "      <th>pubmed_id</th>\n",
       "      <th>title</th>\n",
       "      <th>abstract</th>\n",
       "      <th>keywords</th>\n",
       "      <th>publication_date</th>\n",
       "      <th>authors</th>\n",
       "      <th>len_title</th>\n",
       "      <th>len_abstract</th>\n",
       "    </tr>\n",
       "  </thead>\n",
       "  <tbody>\n",
       "    <tr>\n",
       "      <th>785</th>\n",
       "      <td>31329695</td>\n",
       "      <td>Correction: Sequerra, Goyal et al., \"NMDA Rece...</td>\n",
       "      <td>[This corrects the article on p. 4762 in vol. ...</td>\n",
       "      <td>NaN</td>\n",
       "      <td>2019-07-23</td>\n",
       "      <td>NaN</td>\n",
       "      <td>167.0</td>\n",
       "      <td>67.0</td>\n",
       "    </tr>\n",
       "    <tr>\n",
       "      <th>788</th>\n",
       "      <td>31329692</td>\n",
       "      <td>Correction: Personius et al., \"Neuromuscular N...</td>\n",
       "      <td>[This corrects the article on p. 8783 in vol. ...</td>\n",
       "      <td>NaN</td>\n",
       "      <td>2019-07-23</td>\n",
       "      <td>NaN</td>\n",
       "      <td>104.0</td>\n",
       "      <td>67.0</td>\n",
       "    </tr>\n",
       "    <tr>\n",
       "      <th>789</th>\n",
       "      <td>31329689</td>\n",
       "      <td>Correction: Scheff and Gold, \"Trafficking of N...</td>\n",
       "      <td>[This corrects the article on p. 8423 in vol. ...</td>\n",
       "      <td>NaN</td>\n",
       "      <td>2019-07-23</td>\n",
       "      <td>NaN</td>\n",
       "      <td>51.0</td>\n",
       "      <td>67.0</td>\n",
       "    </tr>\n",
       "    <tr>\n",
       "      <th>790</th>\n",
       "      <td>31329688</td>\n",
       "      <td>Correction: Marneweck et al., \"Neural Represen...</td>\n",
       "      <td>[This corrects the article on p. 4724 in vol. ...</td>\n",
       "      <td>NaN</td>\n",
       "      <td>2019-07-23</td>\n",
       "      <td>NaN</td>\n",
       "      <td>170.0</td>\n",
       "      <td>67.0</td>\n",
       "    </tr>\n",
       "    <tr>\n",
       "      <th>791</th>\n",
       "      <td>31329687</td>\n",
       "      <td>Correction: Stalnaker et al., \"Cholinergic Int...</td>\n",
       "      <td>[This corrects the article on p. 6242 in vol. ...</td>\n",
       "      <td>NaN</td>\n",
       "      <td>2019-07-23</td>\n",
       "      <td>NaN</td>\n",
       "      <td>118.0</td>\n",
       "      <td>67.0</td>\n",
       "    </tr>\n",
       "  </tbody>\n",
       "</table>\n",
       "</div>"
      ],
      "text/plain": [
       "    pubmed_id                                              title  \\\n",
       "785  31329695  Correction: Sequerra, Goyal et al., \"NMDA Rece...   \n",
       "788  31329692  Correction: Personius et al., \"Neuromuscular N...   \n",
       "789  31329689  Correction: Scheff and Gold, \"Trafficking of N...   \n",
       "790  31329688  Correction: Marneweck et al., \"Neural Represen...   \n",
       "791  31329687  Correction: Stalnaker et al., \"Cholinergic Int...   \n",
       "\n",
       "                                              abstract keywords  \\\n",
       "785  [This corrects the article on p. 4762 in vol. ...      NaN   \n",
       "788  [This corrects the article on p. 8783 in vol. ...      NaN   \n",
       "789  [This corrects the article on p. 8423 in vol. ...      NaN   \n",
       "790  [This corrects the article on p. 4724 in vol. ...      NaN   \n",
       "791  [This corrects the article on p. 6242 in vol. ...      NaN   \n",
       "\n",
       "    publication_date authors  len_title  len_abstract  \n",
       "785       2019-07-23     NaN      167.0          67.0  \n",
       "788       2019-07-23     NaN      104.0          67.0  \n",
       "789       2019-07-23     NaN       51.0          67.0  \n",
       "790       2019-07-23     NaN      170.0          67.0  \n",
       "791       2019-07-23     NaN      118.0          67.0  "
      ]
     },
     "execution_count": 20,
     "metadata": {},
     "output_type": "execute_result"
    }
   ],
   "source": [
    "jneuro_3[jneuro_3['title'].str.contains(r'Correction*', na=False)].head()"
   ]
  },
  {
   "cell_type": "code",
   "execution_count": 21,
   "metadata": {},
   "outputs": [
    {
     "name": "stdout",
     "output_type": "stream",
     "text": [
      "Before dropping the erratums: (12055, 8)\n",
      "After dropping the erratums: (12046, 8)\n",
      "After dropping the erratums + corrigendums: (12010, 8)\n"
     ]
    },
    {
     "data": {
      "text/html": [
       "<div>\n",
       "<style scoped>\n",
       "    .dataframe tbody tr th:only-of-type {\n",
       "        vertical-align: middle;\n",
       "    }\n",
       "\n",
       "    .dataframe tbody tr th {\n",
       "        vertical-align: top;\n",
       "    }\n",
       "\n",
       "    .dataframe thead th {\n",
       "        text-align: right;\n",
       "    }\n",
       "</style>\n",
       "<table border=\"1\" class=\"dataframe\">\n",
       "  <thead>\n",
       "    <tr style=\"text-align: right;\">\n",
       "      <th></th>\n",
       "      <th>pubmed_id</th>\n",
       "      <th>title</th>\n",
       "      <th>abstract</th>\n",
       "      <th>keywords</th>\n",
       "      <th>publication_date</th>\n",
       "      <th>authors</th>\n",
       "      <th>len_title</th>\n",
       "      <th>len_abstract</th>\n",
       "    </tr>\n",
       "  </thead>\n",
       "  <tbody>\n",
       "    <tr>\n",
       "      <th>2</th>\n",
       "      <td>32737167</td>\n",
       "      <td>The neocortical progenitor specification progr...</td>\n",
       "      <td>Neuronal progenitors in the developing forebra...</td>\n",
       "      <td>NaN</td>\n",
       "      <td>2020-08-02</td>\n",
       "      <td>[{'lastname': 'Yabut', 'firstname': 'Odessa R'...</td>\n",
       "      <td>117.0</td>\n",
       "      <td>767.0</td>\n",
       "    </tr>\n",
       "    <tr>\n",
       "      <th>3</th>\n",
       "      <td>32732324</td>\n",
       "      <td>Flexible coordinator and switcher hubs for ada...</td>\n",
       "      <td>Functional connectivity studies have identifie...</td>\n",
       "      <td>NaN</td>\n",
       "      <td>2020-08-01</td>\n",
       "      <td>[{'lastname': 'Cocuzza', 'firstname': 'Carrisa...</td>\n",
       "      <td>65.0</td>\n",
       "      <td>1645.0</td>\n",
       "    </tr>\n",
       "    <tr>\n",
       "      <th>4</th>\n",
       "      <td>32727820</td>\n",
       "      <td>Responses to Visual Speech in Human Posterior ...</td>\n",
       "      <td>Experimentalists studying multisensory integra...</td>\n",
       "      <td>NaN</td>\n",
       "      <td>2020-07-31</td>\n",
       "      <td>[{'lastname': 'Metzger', 'firstname': 'Brian A...</td>\n",
       "      <td>103.0</td>\n",
       "      <td>1664.0</td>\n",
       "    </tr>\n",
       "    <tr>\n",
       "      <th>5</th>\n",
       "      <td>32727819</td>\n",
       "      <td>Activation of Infralimbic to Nucleus Accumbens...</td>\n",
       "      <td>Hedonic processing plays an integral role in d...</td>\n",
       "      <td>NaN</td>\n",
       "      <td>2020-07-31</td>\n",
       "      <td>[{'lastname': 'Hurley', 'firstname': 'Seth W',...</td>\n",
       "      <td>121.0</td>\n",
       "      <td>1421.0</td>\n",
       "    </tr>\n",
       "    <tr>\n",
       "      <th>6</th>\n",
       "      <td>32719163</td>\n",
       "      <td>Hippocampal representation of threat features ...</td>\n",
       "      <td>Decisions under threat are crucial to survival...</td>\n",
       "      <td>NaN</td>\n",
       "      <td>2020-07-29</td>\n",
       "      <td>[{'lastname': 'Abivardi', 'firstname': 'Aslan'...</td>\n",
       "      <td>111.0</td>\n",
       "      <td>1823.0</td>\n",
       "    </tr>\n",
       "  </tbody>\n",
       "</table>\n",
       "</div>"
      ],
      "text/plain": [
       "  pubmed_id                                              title  \\\n",
       "2  32737167  The neocortical progenitor specification progr...   \n",
       "3  32732324  Flexible coordinator and switcher hubs for ada...   \n",
       "4  32727820  Responses to Visual Speech in Human Posterior ...   \n",
       "5  32727819  Activation of Infralimbic to Nucleus Accumbens...   \n",
       "6  32719163  Hippocampal representation of threat features ...   \n",
       "\n",
       "                                            abstract keywords  \\\n",
       "2  Neuronal progenitors in the developing forebra...      NaN   \n",
       "3  Functional connectivity studies have identifie...      NaN   \n",
       "4  Experimentalists studying multisensory integra...      NaN   \n",
       "5  Hedonic processing plays an integral role in d...      NaN   \n",
       "6  Decisions under threat are crucial to survival...      NaN   \n",
       "\n",
       "  publication_date                                            authors  \\\n",
       "2       2020-08-02  [{'lastname': 'Yabut', 'firstname': 'Odessa R'...   \n",
       "3       2020-08-01  [{'lastname': 'Cocuzza', 'firstname': 'Carrisa...   \n",
       "4       2020-07-31  [{'lastname': 'Metzger', 'firstname': 'Brian A...   \n",
       "5       2020-07-31  [{'lastname': 'Hurley', 'firstname': 'Seth W',...   \n",
       "6       2020-07-29  [{'lastname': 'Abivardi', 'firstname': 'Aslan'...   \n",
       "\n",
       "   len_title  len_abstract  \n",
       "2      117.0         767.0  \n",
       "3       65.0        1645.0  \n",
       "4      103.0        1664.0  \n",
       "5      121.0        1421.0  \n",
       "6      111.0        1823.0  "
      ]
     },
     "execution_count": 21,
     "metadata": {},
     "output_type": "execute_result"
    }
   ],
   "source": [
    "# We can drop these rows using regular expression: r'Erratum:*' & r'Correction*'\n",
    "# Create masks for erratum and corrigendum to filter the dataframe\n",
    "find_erratum = jneuro_3['title'].str.contains(r'Erratum:*', na=False)\n",
    "find_corrections = jneuro_3['title'].str.contains(r'Correction*', na=False)\n",
    "\n",
    "# Filtered dataframe\n",
    "found_erratum = jneuro_3[find_erratum]\n",
    "found_corrections = jneuro_3[find_corrections]\n",
    "\n",
    "# Drop the rows contating erratum statement\n",
    "print(f'Before dropping the erratums: {jneuro_3.shape}')\n",
    "\n",
    "jneuro_3.drop(index=found_erratum.index, inplace=True)\n",
    "\n",
    "print(f'After dropping the erratums: {jneuro_3.shape}')\n",
    "\n",
    "jneuro_3.drop(index=found_corrections.index, inplace=True)\n",
    "\n",
    "print(f'After dropping the erratums + corrigendums: {jneuro_3.shape}')\n",
    "\n",
    "jneuro_3.head()"
   ]
  },
  {
   "cell_type": "markdown",
   "metadata": {},
   "source": [
    "## 3-2. There are extremely short (incomplete) titles"
   ]
  },
  {
   "cell_type": "code",
   "execution_count": 22,
   "metadata": {},
   "outputs": [
    {
     "data": {
      "text/plain": [
       "173     Disruption of \n",
       "195         Tonic GABA\n",
       "483              Npas1\n",
       "530     A Mutation in \n",
       "542            The NGF\n",
       "544         Zebrafish \n",
       "755         Dopamine D\n",
       "771                 Ca\n",
       "801      Circular RNA \n",
       "985                NPY\n",
       "1167     Presynaptic α\n",
       "1311                 α\n",
       "1312        Dopamine D\n",
       "1383              5-HT\n",
       "1510     Dorsal BNST α\n",
       "1565            Adult \n",
       "1608              The \n",
       "1715                 α\n",
       "1778        Canonical \n",
       "1937     Heteromeric K\n",
       "2725                Ca\n",
       "2880                 K\n",
       "2889                 K\n",
       "2978              The \n",
       "3000      Different Ca\n",
       "3060    A Novel Human \n",
       "3171      Activity of \n",
       "3224              5-HT\n",
       "Name: title, dtype: object"
      ]
     },
     "execution_count": 22,
     "metadata": {},
     "output_type": "execute_result"
    }
   ],
   "source": [
    "# Show titles composed of less than 15 characters\n",
    "jneuro_3[jneuro_3['len_title'] < 15]['title']"
   ]
  },
  {
   "cell_type": "markdown",
   "metadata": {},
   "source": [
    "### For now, we ignore this inconsistency in title, since we'll primarily focus on the abstract\n",
    "\n",
    "\n",
    "**Note for future possibility of imputing titles:**\n",
    "1. Some data can be still used as keywords (ex: 'Tonic GABA', 'Npas1', ...)\n",
    "<br>But probably these keywords will appear in its abstract or keywords -> crosscheck needed\n",
    "\n",
    "\n",
    "2. Some are uninformative as keywords (ex: 'Disruption of', 'α', 'The', ...)\n",
    "<br>These should be eliminated from the data"
   ]
  },
  {
   "cell_type": "markdown",
   "metadata": {},
   "source": [
    " "
   ]
  },
  {
   "cell_type": "markdown",
   "metadata": {},
   "source": [
    "## 3-3. There are extremely short (incomplete) abstracts"
   ]
  },
  {
   "cell_type": "code",
   "execution_count": 23,
   "metadata": {},
   "outputs": [
    {
     "data": {
      "text/plain": [
       "102               GABA\n",
       "211                In \n",
       "241               The \n",
       "310                In \n",
       "319     α2δ proteins (\n",
       "574               The \n",
       "771                 Ca\n",
       "928             The Na\n",
       "935      The fruitfly \n",
       "936                 Ca\n",
       "1022                Na\n",
       "1167     Presynaptic α\n",
       "1452      We identify \n",
       "1575    Two major GABA\n",
       "1620      The soluble \n",
       "1681        The human \n",
       "1715                 α\n",
       "2215         The gene \n",
       "2298                Ca\n",
       "2319        The c-Jun-\n",
       "2494     Control of Ca\n",
       "2633          Brain Aβ\n",
       "2676                Ca\n",
       "2793              GABA\n",
       "2880             The K\n",
       "3098                Ca\n",
       "3129          Classic \n",
       "Name: abstract, dtype: object"
      ]
     },
     "execution_count": 23,
     "metadata": {},
     "output_type": "execute_result"
    }
   ],
   "source": [
    "# Show abstacts composed of less than 15 characters\n",
    "jneuro_3[jneuro_3['len_abstract'] < 15]['abstract']"
   ]
  },
  {
   "cell_type": "markdown",
   "metadata": {},
   "source": [
    "These are incomplete sentences, so I consider them inapt for the future processing.\n",
    "<br>\n",
    "What I would do is to set a criteria for the length of the string and exclude any abstract shorter than the number.\n",
    "<br>\n",
    "To do this, let's look at the statistics of this column again."
   ]
  },
  {
   "cell_type": "code",
   "execution_count": 24,
   "metadata": {},
   "outputs": [
    {
     "name": "stdout",
     "output_type": "stream",
     "text": [
      "count    11991.000000\n",
      "mean       103.977316\n",
      "std         32.406617\n",
      "min          1.000000\n",
      "25%         82.000000\n",
      "50%        101.000000\n",
      "75%        123.000000\n",
      "max        311.000000\n",
      "Name: len_title, dtype: float64\n",
      "----------------------------------------\n",
      "count    12010.000000\n",
      "mean      1498.354455\n",
      "std        521.130525\n",
      "min          1.000000\n",
      "25%       1210.000000\n",
      "50%       1585.000000\n",
      "75%       1768.000000\n",
      "max       3582.000000\n",
      "Name: len_abstract, dtype: float64\n"
     ]
    }
   ],
   "source": [
    "print(jneuro_3['len_title'].describe())\n",
    "print('-'*40)\n",
    "print(jneuro_3['len_abstract'].describe())"
   ]
  },
  {
   "cell_type": "markdown",
   "metadata": {},
   "source": [
    "### Strategy to remove the extremely short abstracts:\n",
    "\n",
    "When we choose abstracts over titles to create a rich BOW, it's because abstracts usually contains multiple sentences whereas a common title contains only one.<br><br>\n",
    "Therefore, we can think of excluding an abstract shorter than most of the titles.<br><br>\n",
    "Following this logic, I'll choose len(abstract) < 82 and remove them from the data.<br>\n",
    "(*Only the first qurtile of the title consists of the strings shorter than 82 characters*)"
   ]
  },
  {
   "cell_type": "code",
   "execution_count": 25,
   "metadata": {},
   "outputs": [
    {
     "data": {
      "text/plain": [
       "2977                  Midbrain dopamine neurons recorded \n",
       "2989                                    Mutations in the \n",
       "3027                                     Voltage-gated Ca\n",
       "3049    Cerebral blood flow (CBF) is controlled by art...\n",
       "3092      Mutations that alter levels of Slack (KCNT1) Na\n",
       "3096    Target cell type-dependent differences in pres...\n",
       "3097    In this study, we used the peristaltic crawlin...\n",
       "3098                                                   Ca\n",
       "3129                                             Classic \n",
       "3230    GABA\\nThe KCTD proteins 8, 12, and 16 are auxi...\n",
       "Name: abstract, dtype: object"
      ]
     },
     "execution_count": 25,
     "metadata": {},
     "output_type": "execute_result"
    }
   ],
   "source": [
    "# Show abstacts composed of less than 200 characters\n",
    "shorter_than_82 = jneuro_3[jneuro_3['len_abstract'] < 82]['abstract']\n",
    "shorter_than_82[-10:]"
   ]
  },
  {
   "cell_type": "code",
   "execution_count": 26,
   "metadata": {},
   "outputs": [
    {
     "name": "stdout",
     "output_type": "stream",
     "text": [
      "Before dropping the rows: (12010, 8)\n",
      "After dropping the rows: (11893, 8)\n"
     ]
    },
    {
     "data": {
      "text/html": [
       "<div>\n",
       "<style scoped>\n",
       "    .dataframe tbody tr th:only-of-type {\n",
       "        vertical-align: middle;\n",
       "    }\n",
       "\n",
       "    .dataframe tbody tr th {\n",
       "        vertical-align: top;\n",
       "    }\n",
       "\n",
       "    .dataframe thead th {\n",
       "        text-align: right;\n",
       "    }\n",
       "</style>\n",
       "<table border=\"1\" class=\"dataframe\">\n",
       "  <thead>\n",
       "    <tr style=\"text-align: right;\">\n",
       "      <th></th>\n",
       "      <th>pubmed_id</th>\n",
       "      <th>title</th>\n",
       "      <th>abstract</th>\n",
       "      <th>keywords</th>\n",
       "      <th>publication_date</th>\n",
       "      <th>authors</th>\n",
       "      <th>len_title</th>\n",
       "      <th>len_abstract</th>\n",
       "    </tr>\n",
       "  </thead>\n",
       "  <tbody>\n",
       "    <tr>\n",
       "      <th>2</th>\n",
       "      <td>32737167</td>\n",
       "      <td>The neocortical progenitor specification progr...</td>\n",
       "      <td>Neuronal progenitors in the developing forebra...</td>\n",
       "      <td>NaN</td>\n",
       "      <td>2020-08-02</td>\n",
       "      <td>[{'lastname': 'Yabut', 'firstname': 'Odessa R'...</td>\n",
       "      <td>117.0</td>\n",
       "      <td>767.0</td>\n",
       "    </tr>\n",
       "    <tr>\n",
       "      <th>3</th>\n",
       "      <td>32732324</td>\n",
       "      <td>Flexible coordinator and switcher hubs for ada...</td>\n",
       "      <td>Functional connectivity studies have identifie...</td>\n",
       "      <td>NaN</td>\n",
       "      <td>2020-08-01</td>\n",
       "      <td>[{'lastname': 'Cocuzza', 'firstname': 'Carrisa...</td>\n",
       "      <td>65.0</td>\n",
       "      <td>1645.0</td>\n",
       "    </tr>\n",
       "    <tr>\n",
       "      <th>4</th>\n",
       "      <td>32727820</td>\n",
       "      <td>Responses to Visual Speech in Human Posterior ...</td>\n",
       "      <td>Experimentalists studying multisensory integra...</td>\n",
       "      <td>NaN</td>\n",
       "      <td>2020-07-31</td>\n",
       "      <td>[{'lastname': 'Metzger', 'firstname': 'Brian A...</td>\n",
       "      <td>103.0</td>\n",
       "      <td>1664.0</td>\n",
       "    </tr>\n",
       "    <tr>\n",
       "      <th>5</th>\n",
       "      <td>32727819</td>\n",
       "      <td>Activation of Infralimbic to Nucleus Accumbens...</td>\n",
       "      <td>Hedonic processing plays an integral role in d...</td>\n",
       "      <td>NaN</td>\n",
       "      <td>2020-07-31</td>\n",
       "      <td>[{'lastname': 'Hurley', 'firstname': 'Seth W',...</td>\n",
       "      <td>121.0</td>\n",
       "      <td>1421.0</td>\n",
       "    </tr>\n",
       "    <tr>\n",
       "      <th>6</th>\n",
       "      <td>32719163</td>\n",
       "      <td>Hippocampal representation of threat features ...</td>\n",
       "      <td>Decisions under threat are crucial to survival...</td>\n",
       "      <td>NaN</td>\n",
       "      <td>2020-07-29</td>\n",
       "      <td>[{'lastname': 'Abivardi', 'firstname': 'Aslan'...</td>\n",
       "      <td>111.0</td>\n",
       "      <td>1823.0</td>\n",
       "    </tr>\n",
       "  </tbody>\n",
       "</table>\n",
       "</div>"
      ],
      "text/plain": [
       "  pubmed_id                                              title  \\\n",
       "2  32737167  The neocortical progenitor specification progr...   \n",
       "3  32732324  Flexible coordinator and switcher hubs for ada...   \n",
       "4  32727820  Responses to Visual Speech in Human Posterior ...   \n",
       "5  32727819  Activation of Infralimbic to Nucleus Accumbens...   \n",
       "6  32719163  Hippocampal representation of threat features ...   \n",
       "\n",
       "                                            abstract keywords  \\\n",
       "2  Neuronal progenitors in the developing forebra...      NaN   \n",
       "3  Functional connectivity studies have identifie...      NaN   \n",
       "4  Experimentalists studying multisensory integra...      NaN   \n",
       "5  Hedonic processing plays an integral role in d...      NaN   \n",
       "6  Decisions under threat are crucial to survival...      NaN   \n",
       "\n",
       "  publication_date                                            authors  \\\n",
       "2       2020-08-02  [{'lastname': 'Yabut', 'firstname': 'Odessa R'...   \n",
       "3       2020-08-01  [{'lastname': 'Cocuzza', 'firstname': 'Carrisa...   \n",
       "4       2020-07-31  [{'lastname': 'Metzger', 'firstname': 'Brian A...   \n",
       "5       2020-07-31  [{'lastname': 'Hurley', 'firstname': 'Seth W',...   \n",
       "6       2020-07-29  [{'lastname': 'Abivardi', 'firstname': 'Aslan'...   \n",
       "\n",
       "   len_title  len_abstract  \n",
       "2      117.0         767.0  \n",
       "3       65.0        1645.0  \n",
       "4      103.0        1664.0  \n",
       "5      121.0        1421.0  \n",
       "6      111.0        1823.0  "
      ]
     },
     "execution_count": 26,
     "metadata": {},
     "output_type": "execute_result"
    }
   ],
   "source": [
    "# Let's drop these rows\n",
    "\n",
    "print(f'Before dropping the rows: {jneuro_3.shape}')\n",
    "\n",
    "jneuro_3.drop(index=shorter_than_82.index, inplace=True)\n",
    "\n",
    "print(f'After dropping the rows: {jneuro_3.shape}')\n",
    "\n",
    "jneuro_3.head()"
   ]
  },
  {
   "cell_type": "code",
   "execution_count": 27,
   "metadata": {},
   "outputs": [
    {
     "name": "stdout",
     "output_type": "stream",
     "text": [
      "count    11893.000000\n",
      "mean      1512.737913\n",
      "std        502.995527\n",
      "min         86.000000\n",
      "25%       1224.000000\n",
      "50%       1591.000000\n",
      "75%       1769.000000\n",
      "max       3582.000000\n",
      "Name: len_abstract, dtype: float64\n"
     ]
    }
   ],
   "source": [
    "# Sanity check\n",
    "\n",
    "print(jneuro_3['len_abstract'].describe())"
   ]
  },
  {
   "cell_type": "markdown",
   "metadata": {},
   "source": [
    "## 3-4. pubmed_id"
   ]
  },
  {
   "cell_type": "markdown",
   "metadata": {},
   "source": [
    "- pubmed id: unique identifier number assigned to each article record when it enters the PubMed system\n",
    "\n",
    "In this dataset, there are some articles with lengthy pubmed_id values (probably import error?)\n",
    "<br>\n",
    "See an example below:"
   ]
  },
  {
   "cell_type": "code",
   "execution_count": 28,
   "metadata": {
    "scrolled": false
   },
   "outputs": [
    {
     "name": "stdout",
     "output_type": "stream",
     "text": [
      "Correct pumbed_ids\n",
      "6    32719163\n",
      "5    32727819\n",
      "4    32727820\n",
      "3    32732324\n",
      "2    32737167\n",
      "Name: pubmed_id, dtype: object\n",
      "------------------------------------------------------------\n",
      "Incorrect pumbed_ids\n",
      "12732    21209184\\n10036231\\n10051776\\n10325225\\n104545...\n",
      "12731    21209185\\n10223310\\n10779526\\n10839362\\n108504...\n",
      "12730    21209186\\n8887786\\n8822179\\n9497414\\n15523537\\...\n",
      "12729    21209187\\n10401785\\n10575034\\n10604602\\n106686...\n",
      "12728    21209188\\n11566213\\n19181615\\n11880492\\n118259...\n",
      "Name: pubmed_id, dtype: object\n"
     ]
    }
   ],
   "source": [
    "print('Correct pumbed_ids')\n",
    "print(jneuro_3['pubmed_id'].sort_values()[-5:]) # normal ids\n",
    "print('-'*60)\n",
    "print('Incorrect pumbed_ids')\n",
    "print(jneuro_3['pubmed_id'].sort_values()[:5]) # abnormal ids"
   ]
  },
  {
   "cell_type": "code",
   "execution_count": 29,
   "metadata": {
    "scrolled": false
   },
   "outputs": [
    {
     "data": {
      "text/html": [
       "<div>\n",
       "<style scoped>\n",
       "    .dataframe tbody tr th:only-of-type {\n",
       "        vertical-align: middle;\n",
       "    }\n",
       "\n",
       "    .dataframe tbody tr th {\n",
       "        vertical-align: top;\n",
       "    }\n",
       "\n",
       "    .dataframe thead th {\n",
       "        text-align: right;\n",
       "    }\n",
       "</style>\n",
       "<table border=\"1\" class=\"dataframe\">\n",
       "  <thead>\n",
       "    <tr style=\"text-align: right;\">\n",
       "      <th></th>\n",
       "      <th>pubmed_id</th>\n",
       "      <th>title</th>\n",
       "      <th>abstract</th>\n",
       "      <th>keywords</th>\n",
       "      <th>journal</th>\n",
       "      <th>publication_date</th>\n",
       "      <th>authors</th>\n",
       "      <th>methods</th>\n",
       "      <th>conclusions</th>\n",
       "      <th>results</th>\n",
       "      <th>copyrights</th>\n",
       "      <th>doi</th>\n",
       "      <th>xml</th>\n",
       "    </tr>\n",
       "  </thead>\n",
       "  <tbody>\n",
       "    <tr>\n",
       "      <th>1925</th>\n",
       "      <td>29496891\\n25552270\\n24849354\\n24251451\\n169716...</td>\n",
       "      <td>Development of the Mechanisms Governing Midbra...</td>\n",
       "      <td>The ability to integrate information across mu...</td>\n",
       "      <td>['computational model', 'cortex', 'crossmodal'...</td>\n",
       "      <td>The Journal of neuroscience : the official jou...</td>\n",
       "      <td>2018-03-03</td>\n",
       "      <td>[{'lastname': 'Cuppini', 'firstname': 'Cristia...</td>\n",
       "      <td>NaN</td>\n",
       "      <td>NaN</td>\n",
       "      <td>NaN</td>\n",
       "      <td>Copyright © 2018 the authors 0270-6474/18/3834...</td>\n",
       "      <td>10.1523/JNEUROSCI.2631-17.2018</td>\n",
       "      <td>&lt;Element 'PubmedArticle' at 0x7f18e1a73650&gt;</td>\n",
       "    </tr>\n",
       "  </tbody>\n",
       "</table>\n",
       "</div>"
      ],
      "text/plain": [
       "                                              pubmed_id  \\\n",
       "1925  29496891\\n25552270\\n24849354\\n24251451\\n169716...   \n",
       "\n",
       "                                                  title  \\\n",
       "1925  Development of the Mechanisms Governing Midbra...   \n",
       "\n",
       "                                               abstract  \\\n",
       "1925  The ability to integrate information across mu...   \n",
       "\n",
       "                                               keywords  \\\n",
       "1925  ['computational model', 'cortex', 'crossmodal'...   \n",
       "\n",
       "                                                journal publication_date  \\\n",
       "1925  The Journal of neuroscience : the official jou...       2018-03-03   \n",
       "\n",
       "                                                authors  methods  conclusions  \\\n",
       "1925  [{'lastname': 'Cuppini', 'firstname': 'Cristia...      NaN          NaN   \n",
       "\n",
       "     results                                         copyrights  \\\n",
       "1925     NaN  Copyright © 2018 the authors 0270-6474/18/3834...   \n",
       "\n",
       "                                 doi  \\\n",
       "1925  10.1523/JNEUROSCI.2631-17.2018   \n",
       "\n",
       "                                              xml  \n",
       "1925  <Element 'PubmedArticle' at 0x7f18e1a73650>  "
      ]
     },
     "execution_count": 29,
     "metadata": {},
     "output_type": "execute_result"
    }
   ],
   "source": [
    "jneuro[jneuro['publication_date'] == '2018-03-03']"
   ]
  },
  {
   "cell_type": "markdown",
   "metadata": {},
   "source": [
    "## Hmm... There's only 1 article imported from the week with wrong pubmed_id\n",
    "## (probably API defect?)\n",
    "\n",
    "## But has the abstract been imported correctly?\n",
    "# .\n",
    "# .\n",
    "# .\n",
    "# .\n",
    "# .\n"
   ]
  },
  {
   "cell_type": "code",
   "execution_count": 30,
   "metadata": {},
   "outputs": [
    {
     "data": {
      "text/plain": [
       "array([\"The ability to integrate information across multiple senses enhances the brain's ability to detect, localize, and identify external events. This process has been well documented in single neurons in the superior colliculus (SC), which synthesize concordant combinations of visual, auditory, and/or somatosensory signals to enhance the vigor of their responses. This increases the physiological salience of crossmodal events and, in turn, the speed and accuracy of SC-mediated behavioral responses to them. However, this capability is not an innate feature of the circuit and only develops postnatally after the animal acquires sufficient experience with covariant crossmodal events to form links between their modality-specific components. Of critical importance in this process are tectopetal influences from association cortex. Recent findings suggest that, despite its intuitive appeal, a simple generic associative rule cannot explain how this circuit develops its ability to integrate those crossmodal inputs to produce enhanced multisensory responses. The present neurocomputational model explains how this development can be understood as a transition from a default state in which crossmodal SC inputs interact competitively to one in which they interact cooperatively. Crucial to this transition is the operation of a learning rule requiring coactivation among tectopetal afferents for engagement. The model successfully replicates findings of multisensory development in normal cats and cats of either sex reared with special experience. In doing so, it explains how the cortico-SC projections can use crossmodal experience to craft the multisensory integration capabilities of the SC and adapt them to the environment in which they will be used.\"],\n",
       "      dtype=object)"
      ]
     },
     "execution_count": 30,
     "metadata": {},
     "output_type": "execute_result"
    }
   ],
   "source": [
    "jneuro[jneuro['publication_date'] == '2018-03-03']['abstract'].values"
   ]
  },
  {
   "cell_type": "markdown",
   "metadata": {},
   "source": [
    "## Luckily, yes. So I'll keep working with what I have for now. \n",
    "\n",
    "## But, this issue remains to be solved so it can be revisited in the future ...\n",
    "\n",
    "<br>\n",
    "<br>\n",
    "<br>\n",
    "<br>\n",
    "<br>\n",
    "<br>\n",
    "<br>\n",
    "<br>"
   ]
  },
  {
   "cell_type": "markdown",
   "metadata": {},
   "source": [
    "## 3-5. Are there duplicated values?"
   ]
  },
  {
   "cell_type": "markdown",
   "metadata": {},
   "source": [
    "### a. Title duplicates"
   ]
  },
  {
   "cell_type": "code",
   "execution_count": 31,
   "metadata": {
    "scrolled": false
   },
   "outputs": [
    {
     "data": {
      "text/html": [
       "<div>\n",
       "<style scoped>\n",
       "    .dataframe tbody tr th:only-of-type {\n",
       "        vertical-align: middle;\n",
       "    }\n",
       "\n",
       "    .dataframe tbody tr th {\n",
       "        vertical-align: top;\n",
       "    }\n",
       "\n",
       "    .dataframe thead th {\n",
       "        text-align: right;\n",
       "    }\n",
       "</style>\n",
       "<table border=\"1\" class=\"dataframe\">\n",
       "  <thead>\n",
       "    <tr style=\"text-align: right;\">\n",
       "      <th></th>\n",
       "      <th>pubmed_id</th>\n",
       "      <th>title</th>\n",
       "      <th>abstract</th>\n",
       "      <th>keywords</th>\n",
       "      <th>publication_date</th>\n",
       "      <th>authors</th>\n",
       "      <th>len_title</th>\n",
       "      <th>len_abstract</th>\n",
       "    </tr>\n",
       "  </thead>\n",
       "  <tbody>\n",
       "    <tr>\n",
       "      <th>3224</th>\n",
       "      <td>28011743\\n22716999\\n9643556\\n18676031\\n2559253...</td>\n",
       "      <td>5-HT</td>\n",
       "      <td>Neuroplasticity in the amygdala drives pain-re...</td>\n",
       "      <td>['amygdala', 'depression', 'pain', 'plasticity...</td>\n",
       "      <td>2016-12-25</td>\n",
       "      <td>[{'lastname': 'Ji', 'firstname': 'Guangchen', ...</td>\n",
       "      <td>4.0</td>\n",
       "      <td>331.0</td>\n",
       "    </tr>\n",
       "    <tr>\n",
       "      <th>2458</th>\n",
       "      <td>28842420\\n24790184\\n20946660\\n23386614\\n232777...</td>\n",
       "      <td>Conditional Deletion of</td>\n",
       "      <td>Biochemical and genetic evidence implicate sol...</td>\n",
       "      <td>[\"Alzheimer's\", 'memory', 'prion', 'transgenic']</td>\n",
       "      <td>2017-08-27</td>\n",
       "      <td>[{'lastname': 'Salazar', 'firstname': 'Santiag...</td>\n",
       "      <td>24.0</td>\n",
       "      <td>212.0</td>\n",
       "    </tr>\n",
       "    <tr>\n",
       "      <th>1312</th>\n",
       "      <td>30478031\\n27386561\\n16343792\\n25853904\\n288702...</td>\n",
       "      <td>Dopamine D</td>\n",
       "      <td>Dopamine (DA) modulates corticostriatal connec...</td>\n",
       "      <td>['PET', 'aging', 'dopamine', 'fMRI', 'working ...</td>\n",
       "      <td>2018-11-28</td>\n",
       "      <td>[{'lastname': 'Salami', 'firstname': 'Alireza'...</td>\n",
       "      <td>10.0</td>\n",
       "      <td>772.0</td>\n",
       "    </tr>\n",
       "    <tr>\n",
       "      <th>2978</th>\n",
       "      <td>28213447\\n11988176\\n19037257\\n11463917\\n172295...</td>\n",
       "      <td>The</td>\n",
       "      <td>The protein family of degenerin/epithelial sod...</td>\n",
       "      <td>['DEG/ENaC', 'Drosophila melanogaster', 'NMJ',...</td>\n",
       "      <td>2017-02-19</td>\n",
       "      <td>[{'lastname': 'Hill', 'firstname': 'Alexis', '...</td>\n",
       "      <td>4.0</td>\n",
       "      <td>447.0</td>\n",
       "    </tr>\n",
       "    <tr>\n",
       "      <th>231</th>\n",
       "      <td>32273485\\n23283339\\n18690213\\n17468753\\n239991...</td>\n",
       "      <td>NaN</td>\n",
       "      <td>The tuberal hypothalamus is comprised of the d...</td>\n",
       "      <td>['Neurog2', 'VMH', 'neurogenesis', 'proneural ...</td>\n",
       "      <td>2020-04-11</td>\n",
       "      <td>[{'lastname': 'Aslanpour', 'firstname': 'Shagh...</td>\n",
       "      <td>NaN</td>\n",
       "      <td>526.0</td>\n",
       "    </tr>\n",
       "    <tr>\n",
       "      <th>665</th>\n",
       "      <td>31530645\\n11549226\\n11291099\\n10197526\\n128738...</td>\n",
       "      <td>NaN</td>\n",
       "      <td>Habituation is the adaptive behavioral outcome...</td>\n",
       "      <td>['Btk', 'Drosophila', 'antipsychotics', 'habit...</td>\n",
       "      <td>2019-09-19</td>\n",
       "      <td>[{'lastname': 'Roussou', 'firstname': 'Ilianna...</td>\n",
       "      <td>NaN</td>\n",
       "      <td>350.0</td>\n",
       "    </tr>\n",
       "    <tr>\n",
       "      <th>689</th>\n",
       "      <td>31488613\\n22993428\\n26976084\\n27435172\\n300770...</td>\n",
       "      <td>NaN</td>\n",
       "      <td>Although the involvement of pathological tau i...</td>\n",
       "      <td>['Drosophila', 'habituation', 'memory', 'prote...</td>\n",
       "      <td>2019-09-07</td>\n",
       "      <td>[{'lastname': 'Papanikolopoulou', 'firstname':...</td>\n",
       "      <td>NaN</td>\n",
       "      <td>225.0</td>\n",
       "    </tr>\n",
       "    <tr>\n",
       "      <th>706</th>\n",
       "      <td>31462532\\n24347548\\n21768372\\n17433286\\n256392...</td>\n",
       "      <td>NaN</td>\n",
       "      <td>Type II spiral ganglion neurons provide affere...</td>\n",
       "      <td>['auditory', 'axon', 'cochlea', 'frizzled', 'p...</td>\n",
       "      <td>2019-08-30</td>\n",
       "      <td>[{'lastname': 'Ghimire', 'firstname': 'Satish ...</td>\n",
       "      <td>NaN</td>\n",
       "      <td>731.0</td>\n",
       "    </tr>\n",
       "    <tr>\n",
       "      <th>809</th>\n",
       "      <td>31300521\\n10490157\\n10677042\\n10691234\\n108440...</td>\n",
       "      <td>NaN</td>\n",
       "      <td>Opioid-induced hyperalgesia (OIH) is a serious...</td>\n",
       "      <td>['calcium', 'excitability', 'fentanyl', 'hyper...</td>\n",
       "      <td>2019-07-14</td>\n",
       "      <td>[{'lastname': 'Khomula', 'firstname': 'Eugen V...</td>\n",
       "      <td>NaN</td>\n",
       "      <td>103.0</td>\n",
       "    </tr>\n",
       "    <tr>\n",
       "      <th>901</th>\n",
       "      <td>31127000\\n10764638\\n11152673\\n11371611\\n118843...</td>\n",
       "      <td>NaN</td>\n",
       "      <td>The cold- and menthol-sensitive transient rece...</td>\n",
       "      <td>['DRG neuron', 'G-protein', 'GPCR', 'PIP2', 'T...</td>\n",
       "      <td>2019-05-28</td>\n",
       "      <td>[{'lastname': 'Liu', 'firstname': 'Luyu', 'ini...</td>\n",
       "      <td>NaN</td>\n",
       "      <td>340.0</td>\n",
       "    </tr>\n",
       "    <tr>\n",
       "      <th>907</th>\n",
       "      <td>31109965\\n10393177\\n10627275\\n11967148\\n124954...</td>\n",
       "      <td>NaN</td>\n",
       "      <td>Axon regeneration is a conserved mechanism ind...</td>\n",
       "      <td>['C. elegans', 'JNK', 'axon regeneration', 'c-...</td>\n",
       "      <td>2019-05-22</td>\n",
       "      <td>[{'lastname': 'Hisamoto', 'firstname': 'Naoki'...</td>\n",
       "      <td>NaN</td>\n",
       "      <td>137.0</td>\n",
       "    </tr>\n",
       "    <tr>\n",
       "      <th>1080</th>\n",
       "      <td>30833505\\n10512842\\n11135646\\n11259316\\n128014...</td>\n",
       "      <td>NaN</td>\n",
       "      <td>To better examine circuit mechanisms underlyin...</td>\n",
       "      <td>['computer-generated holography', 'in vivo two...</td>\n",
       "      <td>2019-03-06</td>\n",
       "      <td>[{'lastname': 'Chen', 'firstname': 'I-Wen', 'i...</td>\n",
       "      <td>NaN</td>\n",
       "      <td>1098.0</td>\n",
       "    </tr>\n",
       "    <tr>\n",
       "      <th>1416</th>\n",
       "      <td>30291203\\n16484453\\n21082336\\n17003369\\n198015...</td>\n",
       "      <td>NaN</td>\n",
       "      <td>Regulatory T cells (Tregs) are known to protec...</td>\n",
       "      <td>['IL-2/IL-2 antibody complex', 'cerebral ische...</td>\n",
       "      <td>2018-10-07</td>\n",
       "      <td>[{'lastname': 'Zhang', 'firstname': 'Haiyue', ...</td>\n",
       "      <td>NaN</td>\n",
       "      <td>205.0</td>\n",
       "    </tr>\n",
       "    <tr>\n",
       "      <th>1466</th>\n",
       "      <td>30209205\\n11133154\\n19846717\\n23948253\\n286985...</td>\n",
       "      <td>NaN</td>\n",
       "      <td>The octomeric exocyst complex governs the fina...</td>\n",
       "      <td>['Exoc7', 'exocyst', 'exocytosis', 'membrane t...</td>\n",
       "      <td>2018-09-14</td>\n",
       "      <td>[{'lastname': 'Koon', 'firstname': 'Alex Chun'...</td>\n",
       "      <td>NaN</td>\n",
       "      <td>285.0</td>\n",
       "    </tr>\n",
       "    <tr>\n",
       "      <th>1750</th>\n",
       "      <td>29789381\\n27194399\\n24910602\\n18940590\\n119540...</td>\n",
       "      <td>NaN</td>\n",
       "      <td>The basic pattern of activity underlying stepp...</td>\n",
       "      <td>['CPG', 'interneuron', 'locomotion']</td>\n",
       "      <td>2018-05-24</td>\n",
       "      <td>[{'lastname': 'Haque', 'firstname': 'Farhia', ...</td>\n",
       "      <td>NaN</td>\n",
       "      <td>372.0</td>\n",
       "    </tr>\n",
       "    <tr>\n",
       "      <th>2372</th>\n",
       "      <td>28931572\\n10322116\\n10454371\\n11223883\\n113810...</td>\n",
       "      <td>NaN</td>\n",
       "      <td>Neprilysins are Type II metalloproteinases kno...</td>\n",
       "      <td>['Drosophila', 'amyloid peptide', 'dorsal pair...</td>\n",
       "      <td>2017-09-22</td>\n",
       "      <td>[{'lastname': 'Turrel', 'firstname': 'Oriane',...</td>\n",
       "      <td>NaN</td>\n",
       "      <td>158.0</td>\n",
       "    </tr>\n",
       "    <tr>\n",
       "      <th>2439</th>\n",
       "      <td>28855331\\n8464906\\n9502724\\n12050135\\n1893873\\...</td>\n",
       "      <td>NaN</td>\n",
       "      <td>Nociceptive sensitization is a common feature ...</td>\n",
       "      <td>['injury', 'pain']</td>\n",
       "      <td>2017-09-01</td>\n",
       "      <td>[{'lastname': 'Follansbee', 'firstname': 'Tayl...</td>\n",
       "      <td>NaN</td>\n",
       "      <td>155.0</td>\n",
       "    </tr>\n",
       "    <tr>\n",
       "      <th>2617</th>\n",
       "      <td>28667174\\n10632600\\n10704495\\n10762692\\n108393...</td>\n",
       "      <td>NaN</td>\n",
       "      <td>Medium spiny neurons (MSNs), the major GABAerg...</td>\n",
       "      <td>['ErbB4', 'GABAA receptor', 'medium spiny neur...</td>\n",
       "      <td>2017-07-02</td>\n",
       "      <td>[{'lastname': 'Geng', 'firstname': 'Hong-Yan',...</td>\n",
       "      <td>NaN</td>\n",
       "      <td>233.0</td>\n",
       "    </tr>\n",
       "    <tr>\n",
       "      <th>2772</th>\n",
       "      <td>28476946\\n25155956\\n21900555\\n11675495\\n215216...</td>\n",
       "      <td>NaN</td>\n",
       "      <td>Neural activity plays a key role in pruning ab...</td>\n",
       "      <td>['activity-dependent', 'chemorepulsion', 'filo...</td>\n",
       "      <td>2017-05-10</td>\n",
       "      <td>[{'lastname': 'Vonhoff', 'firstname': 'Fernand...</td>\n",
       "      <td>NaN</td>\n",
       "      <td>334.0</td>\n",
       "    </tr>\n",
       "    <tr>\n",
       "      <th>2779</th>\n",
       "      <td>28473643\\n23851193\\n24223197\\n18600217\\n278071...</td>\n",
       "      <td>NaN</td>\n",
       "      <td>Glucose-6-phosphate dehydrogenase (G6PD) is th...</td>\n",
       "      <td>['NADPH', 'antioxidant defense', 'cochlea', 'g...</td>\n",
       "      <td>2017-05-06</td>\n",
       "      <td>[{'lastname': 'White', 'firstname': 'Karessa',...</td>\n",
       "      <td>NaN</td>\n",
       "      <td>194.0</td>\n",
       "    </tr>\n",
       "    <tr>\n",
       "      <th>3007</th>\n",
       "      <td>28193687\\n7499546\\n23499733\\n18311145\\n2310258...</td>\n",
       "      <td>NaN</td>\n",
       "      <td>Photoreceptor-specific transcription of indivi...</td>\n",
       "      <td>['crumbs', 'nagie oko', 'photoreceptor', 'ponl...</td>\n",
       "      <td>2017-02-15</td>\n",
       "      <td>[{'lastname': 'Fang', 'firstname': 'Wei', 'ini...</td>\n",
       "      <td>NaN</td>\n",
       "      <td>481.0</td>\n",
       "    </tr>\n",
       "  </tbody>\n",
       "</table>\n",
       "</div>"
      ],
      "text/plain": [
       "                                              pubmed_id  \\\n",
       "3224  28011743\\n22716999\\n9643556\\n18676031\\n2559253...   \n",
       "2458  28842420\\n24790184\\n20946660\\n23386614\\n232777...   \n",
       "1312  30478031\\n27386561\\n16343792\\n25853904\\n288702...   \n",
       "2978  28213447\\n11988176\\n19037257\\n11463917\\n172295...   \n",
       "231   32273485\\n23283339\\n18690213\\n17468753\\n239991...   \n",
       "665   31530645\\n11549226\\n11291099\\n10197526\\n128738...   \n",
       "689   31488613\\n22993428\\n26976084\\n27435172\\n300770...   \n",
       "706   31462532\\n24347548\\n21768372\\n17433286\\n256392...   \n",
       "809   31300521\\n10490157\\n10677042\\n10691234\\n108440...   \n",
       "901   31127000\\n10764638\\n11152673\\n11371611\\n118843...   \n",
       "907   31109965\\n10393177\\n10627275\\n11967148\\n124954...   \n",
       "1080  30833505\\n10512842\\n11135646\\n11259316\\n128014...   \n",
       "1416  30291203\\n16484453\\n21082336\\n17003369\\n198015...   \n",
       "1466  30209205\\n11133154\\n19846717\\n23948253\\n286985...   \n",
       "1750  29789381\\n27194399\\n24910602\\n18940590\\n119540...   \n",
       "2372  28931572\\n10322116\\n10454371\\n11223883\\n113810...   \n",
       "2439  28855331\\n8464906\\n9502724\\n12050135\\n1893873\\...   \n",
       "2617  28667174\\n10632600\\n10704495\\n10762692\\n108393...   \n",
       "2772  28476946\\n25155956\\n21900555\\n11675495\\n215216...   \n",
       "2779  28473643\\n23851193\\n24223197\\n18600217\\n278071...   \n",
       "3007  28193687\\n7499546\\n23499733\\n18311145\\n2310258...   \n",
       "\n",
       "                         title  \\\n",
       "3224                      5-HT   \n",
       "2458  Conditional Deletion of    \n",
       "1312                Dopamine D   \n",
       "2978                      The    \n",
       "231                        NaN   \n",
       "665                        NaN   \n",
       "689                        NaN   \n",
       "706                        NaN   \n",
       "809                        NaN   \n",
       "901                        NaN   \n",
       "907                        NaN   \n",
       "1080                       NaN   \n",
       "1416                       NaN   \n",
       "1466                       NaN   \n",
       "1750                       NaN   \n",
       "2372                       NaN   \n",
       "2439                       NaN   \n",
       "2617                       NaN   \n",
       "2772                       NaN   \n",
       "2779                       NaN   \n",
       "3007                       NaN   \n",
       "\n",
       "                                               abstract  \\\n",
       "3224  Neuroplasticity in the amygdala drives pain-re...   \n",
       "2458  Biochemical and genetic evidence implicate sol...   \n",
       "1312  Dopamine (DA) modulates corticostriatal connec...   \n",
       "2978  The protein family of degenerin/epithelial sod...   \n",
       "231   The tuberal hypothalamus is comprised of the d...   \n",
       "665   Habituation is the adaptive behavioral outcome...   \n",
       "689   Although the involvement of pathological tau i...   \n",
       "706   Type II spiral ganglion neurons provide affere...   \n",
       "809   Opioid-induced hyperalgesia (OIH) is a serious...   \n",
       "901   The cold- and menthol-sensitive transient rece...   \n",
       "907   Axon regeneration is a conserved mechanism ind...   \n",
       "1080  To better examine circuit mechanisms underlyin...   \n",
       "1416  Regulatory T cells (Tregs) are known to protec...   \n",
       "1466  The octomeric exocyst complex governs the fina...   \n",
       "1750  The basic pattern of activity underlying stepp...   \n",
       "2372  Neprilysins are Type II metalloproteinases kno...   \n",
       "2439  Nociceptive sensitization is a common feature ...   \n",
       "2617  Medium spiny neurons (MSNs), the major GABAerg...   \n",
       "2772  Neural activity plays a key role in pruning ab...   \n",
       "2779  Glucose-6-phosphate dehydrogenase (G6PD) is th...   \n",
       "3007  Photoreceptor-specific transcription of indivi...   \n",
       "\n",
       "                                               keywords publication_date  \\\n",
       "3224  ['amygdala', 'depression', 'pain', 'plasticity...       2016-12-25   \n",
       "2458   [\"Alzheimer's\", 'memory', 'prion', 'transgenic']       2017-08-27   \n",
       "1312  ['PET', 'aging', 'dopamine', 'fMRI', 'working ...       2018-11-28   \n",
       "2978  ['DEG/ENaC', 'Drosophila melanogaster', 'NMJ',...       2017-02-19   \n",
       "231   ['Neurog2', 'VMH', 'neurogenesis', 'proneural ...       2020-04-11   \n",
       "665   ['Btk', 'Drosophila', 'antipsychotics', 'habit...       2019-09-19   \n",
       "689   ['Drosophila', 'habituation', 'memory', 'prote...       2019-09-07   \n",
       "706   ['auditory', 'axon', 'cochlea', 'frizzled', 'p...       2019-08-30   \n",
       "809   ['calcium', 'excitability', 'fentanyl', 'hyper...       2019-07-14   \n",
       "901   ['DRG neuron', 'G-protein', 'GPCR', 'PIP2', 'T...       2019-05-28   \n",
       "907   ['C. elegans', 'JNK', 'axon regeneration', 'c-...       2019-05-22   \n",
       "1080  ['computer-generated holography', 'in vivo two...       2019-03-06   \n",
       "1416  ['IL-2/IL-2 antibody complex', 'cerebral ische...       2018-10-07   \n",
       "1466  ['Exoc7', 'exocyst', 'exocytosis', 'membrane t...       2018-09-14   \n",
       "1750               ['CPG', 'interneuron', 'locomotion']       2018-05-24   \n",
       "2372  ['Drosophila', 'amyloid peptide', 'dorsal pair...       2017-09-22   \n",
       "2439                                 ['injury', 'pain']       2017-09-01   \n",
       "2617  ['ErbB4', 'GABAA receptor', 'medium spiny neur...       2017-07-02   \n",
       "2772  ['activity-dependent', 'chemorepulsion', 'filo...       2017-05-10   \n",
       "2779  ['NADPH', 'antioxidant defense', 'cochlea', 'g...       2017-05-06   \n",
       "3007  ['crumbs', 'nagie oko', 'photoreceptor', 'ponl...       2017-02-15   \n",
       "\n",
       "                                                authors  len_title  \\\n",
       "3224  [{'lastname': 'Ji', 'firstname': 'Guangchen', ...        4.0   \n",
       "2458  [{'lastname': 'Salazar', 'firstname': 'Santiag...       24.0   \n",
       "1312  [{'lastname': 'Salami', 'firstname': 'Alireza'...       10.0   \n",
       "2978  [{'lastname': 'Hill', 'firstname': 'Alexis', '...        4.0   \n",
       "231   [{'lastname': 'Aslanpour', 'firstname': 'Shagh...        NaN   \n",
       "665   [{'lastname': 'Roussou', 'firstname': 'Ilianna...        NaN   \n",
       "689   [{'lastname': 'Papanikolopoulou', 'firstname':...        NaN   \n",
       "706   [{'lastname': 'Ghimire', 'firstname': 'Satish ...        NaN   \n",
       "809   [{'lastname': 'Khomula', 'firstname': 'Eugen V...        NaN   \n",
       "901   [{'lastname': 'Liu', 'firstname': 'Luyu', 'ini...        NaN   \n",
       "907   [{'lastname': 'Hisamoto', 'firstname': 'Naoki'...        NaN   \n",
       "1080  [{'lastname': 'Chen', 'firstname': 'I-Wen', 'i...        NaN   \n",
       "1416  [{'lastname': 'Zhang', 'firstname': 'Haiyue', ...        NaN   \n",
       "1466  [{'lastname': 'Koon', 'firstname': 'Alex Chun'...        NaN   \n",
       "1750  [{'lastname': 'Haque', 'firstname': 'Farhia', ...        NaN   \n",
       "2372  [{'lastname': 'Turrel', 'firstname': 'Oriane',...        NaN   \n",
       "2439  [{'lastname': 'Follansbee', 'firstname': 'Tayl...        NaN   \n",
       "2617  [{'lastname': 'Geng', 'firstname': 'Hong-Yan',...        NaN   \n",
       "2772  [{'lastname': 'Vonhoff', 'firstname': 'Fernand...        NaN   \n",
       "2779  [{'lastname': 'White', 'firstname': 'Karessa',...        NaN   \n",
       "3007  [{'lastname': 'Fang', 'firstname': 'Wei', 'ini...        NaN   \n",
       "\n",
       "      len_abstract  \n",
       "3224         331.0  \n",
       "2458         212.0  \n",
       "1312         772.0  \n",
       "2978         447.0  \n",
       "231          526.0  \n",
       "665          350.0  \n",
       "689          225.0  \n",
       "706          731.0  \n",
       "809          103.0  \n",
       "901          340.0  \n",
       "907          137.0  \n",
       "1080        1098.0  \n",
       "1416         205.0  \n",
       "1466         285.0  \n",
       "1750         372.0  \n",
       "2372         158.0  \n",
       "2439         155.0  \n",
       "2617         233.0  \n",
       "2772         334.0  \n",
       "2779         194.0  \n",
       "3007         481.0  "
      ]
     },
     "execution_count": 31,
     "metadata": {},
     "output_type": "execute_result"
    }
   ],
   "source": [
    "jneuro_3[jneuro_3['title'].duplicated()].sort_values('title')"
   ]
  },
  {
   "cell_type": "markdown",
   "metadata": {},
   "source": [
    "- Again, we ignore the missing titles as long as there is an intact abstract"
   ]
  },
  {
   "cell_type": "markdown",
   "metadata": {},
   "source": [
    "### b. Abstract duplicates"
   ]
  },
  {
   "cell_type": "code",
   "execution_count": 32,
   "metadata": {},
   "outputs": [
    {
     "data": {
      "text/html": [
       "<div>\n",
       "<style scoped>\n",
       "    .dataframe tbody tr th:only-of-type {\n",
       "        vertical-align: middle;\n",
       "    }\n",
       "\n",
       "    .dataframe tbody tr th {\n",
       "        vertical-align: top;\n",
       "    }\n",
       "\n",
       "    .dataframe thead th {\n",
       "        text-align: right;\n",
       "    }\n",
       "</style>\n",
       "<table border=\"1\" class=\"dataframe\">\n",
       "  <thead>\n",
       "    <tr style=\"text-align: right;\">\n",
       "      <th></th>\n",
       "      <th>pubmed_id</th>\n",
       "      <th>title</th>\n",
       "      <th>abstract</th>\n",
       "      <th>keywords</th>\n",
       "      <th>publication_date</th>\n",
       "      <th>authors</th>\n",
       "      <th>len_title</th>\n",
       "      <th>len_abstract</th>\n",
       "    </tr>\n",
       "  </thead>\n",
       "  <tbody>\n",
       "  </tbody>\n",
       "</table>\n",
       "</div>"
      ],
      "text/plain": [
       "Empty DataFrame\n",
       "Columns: [pubmed_id, title, abstract, keywords, publication_date, authors, len_title, len_abstract]\n",
       "Index: []"
      ]
     },
     "execution_count": 32,
     "metadata": {},
     "output_type": "execute_result"
    }
   ],
   "source": [
    "jneuro_3[jneuro_3['abstract'].duplicated()].sort_values('abstract')"
   ]
  },
  {
   "cell_type": "markdown",
   "metadata": {},
   "source": [
    "- No duplicated abstracts"
   ]
  },
  {
   "cell_type": "markdown",
   "metadata": {},
   "source": [
    "### c. PubMed_id duplicates"
   ]
  },
  {
   "cell_type": "code",
   "execution_count": 33,
   "metadata": {},
   "outputs": [
    {
     "data": {
      "text/html": [
       "<div>\n",
       "<style scoped>\n",
       "    .dataframe tbody tr th:only-of-type {\n",
       "        vertical-align: middle;\n",
       "    }\n",
       "\n",
       "    .dataframe tbody tr th {\n",
       "        vertical-align: top;\n",
       "    }\n",
       "\n",
       "    .dataframe thead th {\n",
       "        text-align: right;\n",
       "    }\n",
       "</style>\n",
       "<table border=\"1\" class=\"dataframe\">\n",
       "  <thead>\n",
       "    <tr style=\"text-align: right;\">\n",
       "      <th></th>\n",
       "      <th>pubmed_id</th>\n",
       "      <th>title</th>\n",
       "      <th>abstract</th>\n",
       "      <th>keywords</th>\n",
       "      <th>publication_date</th>\n",
       "      <th>authors</th>\n",
       "      <th>len_title</th>\n",
       "      <th>len_abstract</th>\n",
       "    </tr>\n",
       "  </thead>\n",
       "  <tbody>\n",
       "  </tbody>\n",
       "</table>\n",
       "</div>"
      ],
      "text/plain": [
       "Empty DataFrame\n",
       "Columns: [pubmed_id, title, abstract, keywords, publication_date, authors, len_title, len_abstract]\n",
       "Index: []"
      ]
     },
     "execution_count": 33,
     "metadata": {},
     "output_type": "execute_result"
    }
   ],
   "source": [
    "jneuro_3[jneuro_3['pubmed_id'].duplicated()].sort_values('pubmed_id')"
   ]
  },
  {
   "cell_type": "markdown",
   "metadata": {},
   "source": [
    "- No duplicated publication id"
   ]
  },
  {
   "cell_type": "markdown",
   "metadata": {},
   "source": [
    " "
   ]
  },
  {
   "cell_type": "markdown",
   "metadata": {},
   "source": [
    "## More cleanings that can be done:\n",
    "\n",
    "- more data inconsistency?\n",
    "- flatten author column at some point?"
   ]
  },
  {
   "cell_type": "markdown",
   "metadata": {},
   "source": [
    "### Let's export this cleaner 'jneuro_3' dataframe as a csv file and process it in the next notebook: <br>Text representation and information extraction"
   ]
  },
  {
   "cell_type": "code",
   "execution_count": 34,
   "metadata": {},
   "outputs": [
    {
     "name": "stdout",
     "output_type": "stream",
     "text": [
      "(11893, 8)\n"
     ]
    },
    {
     "data": {
      "text/html": [
       "<div>\n",
       "<style scoped>\n",
       "    .dataframe tbody tr th:only-of-type {\n",
       "        vertical-align: middle;\n",
       "    }\n",
       "\n",
       "    .dataframe tbody tr th {\n",
       "        vertical-align: top;\n",
       "    }\n",
       "\n",
       "    .dataframe thead th {\n",
       "        text-align: right;\n",
       "    }\n",
       "</style>\n",
       "<table border=\"1\" class=\"dataframe\">\n",
       "  <thead>\n",
       "    <tr style=\"text-align: right;\">\n",
       "      <th></th>\n",
       "      <th>pubmed_id</th>\n",
       "      <th>title</th>\n",
       "      <th>abstract</th>\n",
       "      <th>keywords</th>\n",
       "      <th>publication_date</th>\n",
       "      <th>authors</th>\n",
       "      <th>len_title</th>\n",
       "      <th>len_abstract</th>\n",
       "    </tr>\n",
       "  </thead>\n",
       "  <tbody>\n",
       "    <tr>\n",
       "      <th>2</th>\n",
       "      <td>32737167</td>\n",
       "      <td>The neocortical progenitor specification progr...</td>\n",
       "      <td>Neuronal progenitors in the developing forebra...</td>\n",
       "      <td>NaN</td>\n",
       "      <td>2020-08-02</td>\n",
       "      <td>[{'lastname': 'Yabut', 'firstname': 'Odessa R'...</td>\n",
       "      <td>117.0</td>\n",
       "      <td>767.0</td>\n",
       "    </tr>\n",
       "    <tr>\n",
       "      <th>3</th>\n",
       "      <td>32732324</td>\n",
       "      <td>Flexible coordinator and switcher hubs for ada...</td>\n",
       "      <td>Functional connectivity studies have identifie...</td>\n",
       "      <td>NaN</td>\n",
       "      <td>2020-08-01</td>\n",
       "      <td>[{'lastname': 'Cocuzza', 'firstname': 'Carrisa...</td>\n",
       "      <td>65.0</td>\n",
       "      <td>1645.0</td>\n",
       "    </tr>\n",
       "    <tr>\n",
       "      <th>4</th>\n",
       "      <td>32727820</td>\n",
       "      <td>Responses to Visual Speech in Human Posterior ...</td>\n",
       "      <td>Experimentalists studying multisensory integra...</td>\n",
       "      <td>NaN</td>\n",
       "      <td>2020-07-31</td>\n",
       "      <td>[{'lastname': 'Metzger', 'firstname': 'Brian A...</td>\n",
       "      <td>103.0</td>\n",
       "      <td>1664.0</td>\n",
       "    </tr>\n",
       "    <tr>\n",
       "      <th>5</th>\n",
       "      <td>32727819</td>\n",
       "      <td>Activation of Infralimbic to Nucleus Accumbens...</td>\n",
       "      <td>Hedonic processing plays an integral role in d...</td>\n",
       "      <td>NaN</td>\n",
       "      <td>2020-07-31</td>\n",
       "      <td>[{'lastname': 'Hurley', 'firstname': 'Seth W',...</td>\n",
       "      <td>121.0</td>\n",
       "      <td>1421.0</td>\n",
       "    </tr>\n",
       "    <tr>\n",
       "      <th>6</th>\n",
       "      <td>32719163</td>\n",
       "      <td>Hippocampal representation of threat features ...</td>\n",
       "      <td>Decisions under threat are crucial to survival...</td>\n",
       "      <td>NaN</td>\n",
       "      <td>2020-07-29</td>\n",
       "      <td>[{'lastname': 'Abivardi', 'firstname': 'Aslan'...</td>\n",
       "      <td>111.0</td>\n",
       "      <td>1823.0</td>\n",
       "    </tr>\n",
       "  </tbody>\n",
       "</table>\n",
       "</div>"
      ],
      "text/plain": [
       "  pubmed_id                                              title  \\\n",
       "2  32737167  The neocortical progenitor specification progr...   \n",
       "3  32732324  Flexible coordinator and switcher hubs for ada...   \n",
       "4  32727820  Responses to Visual Speech in Human Posterior ...   \n",
       "5  32727819  Activation of Infralimbic to Nucleus Accumbens...   \n",
       "6  32719163  Hippocampal representation of threat features ...   \n",
       "\n",
       "                                            abstract keywords  \\\n",
       "2  Neuronal progenitors in the developing forebra...      NaN   \n",
       "3  Functional connectivity studies have identifie...      NaN   \n",
       "4  Experimentalists studying multisensory integra...      NaN   \n",
       "5  Hedonic processing plays an integral role in d...      NaN   \n",
       "6  Decisions under threat are crucial to survival...      NaN   \n",
       "\n",
       "  publication_date                                            authors  \\\n",
       "2       2020-08-02  [{'lastname': 'Yabut', 'firstname': 'Odessa R'...   \n",
       "3       2020-08-01  [{'lastname': 'Cocuzza', 'firstname': 'Carrisa...   \n",
       "4       2020-07-31  [{'lastname': 'Metzger', 'firstname': 'Brian A...   \n",
       "5       2020-07-31  [{'lastname': 'Hurley', 'firstname': 'Seth W',...   \n",
       "6       2020-07-29  [{'lastname': 'Abivardi', 'firstname': 'Aslan'...   \n",
       "\n",
       "   len_title  len_abstract  \n",
       "2      117.0         767.0  \n",
       "3       65.0        1645.0  \n",
       "4      103.0        1664.0  \n",
       "5      121.0        1421.0  \n",
       "6      111.0        1823.0  "
      ]
     },
     "execution_count": 34,
     "metadata": {},
     "output_type": "execute_result"
    }
   ],
   "source": [
    "print(jneuro_3.shape)\n",
    "jneuro_3.head()"
   ]
  },
  {
   "cell_type": "code",
   "execution_count": 35,
   "metadata": {},
   "outputs": [],
   "source": [
    "jneuro_3.to_csv(\"jneuro_clean.csv\")"
   ]
  },
  {
   "cell_type": "code",
   "execution_count": 36,
   "metadata": {},
   "outputs": [
    {
     "name": "stdout",
     "output_type": "stream",
     "text": [
      "(11893, 8)\n"
     ]
    },
    {
     "data": {
      "text/html": [
       "<div>\n",
       "<style scoped>\n",
       "    .dataframe tbody tr th:only-of-type {\n",
       "        vertical-align: middle;\n",
       "    }\n",
       "\n",
       "    .dataframe tbody tr th {\n",
       "        vertical-align: top;\n",
       "    }\n",
       "\n",
       "    .dataframe thead th {\n",
       "        text-align: right;\n",
       "    }\n",
       "</style>\n",
       "<table border=\"1\" class=\"dataframe\">\n",
       "  <thead>\n",
       "    <tr style=\"text-align: right;\">\n",
       "      <th></th>\n",
       "      <th>pubmed_id</th>\n",
       "      <th>title</th>\n",
       "      <th>abstract</th>\n",
       "      <th>keywords</th>\n",
       "      <th>publication_date</th>\n",
       "      <th>authors</th>\n",
       "      <th>len_title</th>\n",
       "      <th>len_abstract</th>\n",
       "    </tr>\n",
       "  </thead>\n",
       "  <tbody>\n",
       "    <tr>\n",
       "      <th>2</th>\n",
       "      <td>32737167</td>\n",
       "      <td>The neocortical progenitor specification progr...</td>\n",
       "      <td>Neuronal progenitors in the developing forebra...</td>\n",
       "      <td>NaN</td>\n",
       "      <td>2020-08-02</td>\n",
       "      <td>[{'lastname': 'Yabut', 'firstname': 'Odessa R'...</td>\n",
       "      <td>117.0</td>\n",
       "      <td>767.0</td>\n",
       "    </tr>\n",
       "    <tr>\n",
       "      <th>3</th>\n",
       "      <td>32732324</td>\n",
       "      <td>Flexible coordinator and switcher hubs for ada...</td>\n",
       "      <td>Functional connectivity studies have identifie...</td>\n",
       "      <td>NaN</td>\n",
       "      <td>2020-08-01</td>\n",
       "      <td>[{'lastname': 'Cocuzza', 'firstname': 'Carrisa...</td>\n",
       "      <td>65.0</td>\n",
       "      <td>1645.0</td>\n",
       "    </tr>\n",
       "    <tr>\n",
       "      <th>4</th>\n",
       "      <td>32727820</td>\n",
       "      <td>Responses to Visual Speech in Human Posterior ...</td>\n",
       "      <td>Experimentalists studying multisensory integra...</td>\n",
       "      <td>NaN</td>\n",
       "      <td>2020-07-31</td>\n",
       "      <td>[{'lastname': 'Metzger', 'firstname': 'Brian A...</td>\n",
       "      <td>103.0</td>\n",
       "      <td>1664.0</td>\n",
       "    </tr>\n",
       "    <tr>\n",
       "      <th>5</th>\n",
       "      <td>32727819</td>\n",
       "      <td>Activation of Infralimbic to Nucleus Accumbens...</td>\n",
       "      <td>Hedonic processing plays an integral role in d...</td>\n",
       "      <td>NaN</td>\n",
       "      <td>2020-07-31</td>\n",
       "      <td>[{'lastname': 'Hurley', 'firstname': 'Seth W',...</td>\n",
       "      <td>121.0</td>\n",
       "      <td>1421.0</td>\n",
       "    </tr>\n",
       "    <tr>\n",
       "      <th>6</th>\n",
       "      <td>32719163</td>\n",
       "      <td>Hippocampal representation of threat features ...</td>\n",
       "      <td>Decisions under threat are crucial to survival...</td>\n",
       "      <td>NaN</td>\n",
       "      <td>2020-07-29</td>\n",
       "      <td>[{'lastname': 'Abivardi', 'firstname': 'Aslan'...</td>\n",
       "      <td>111.0</td>\n",
       "      <td>1823.0</td>\n",
       "    </tr>\n",
       "  </tbody>\n",
       "</table>\n",
       "</div>"
      ],
      "text/plain": [
       "  pubmed_id                                              title  \\\n",
       "2  32737167  The neocortical progenitor specification progr...   \n",
       "3  32732324  Flexible coordinator and switcher hubs for ada...   \n",
       "4  32727820  Responses to Visual Speech in Human Posterior ...   \n",
       "5  32727819  Activation of Infralimbic to Nucleus Accumbens...   \n",
       "6  32719163  Hippocampal representation of threat features ...   \n",
       "\n",
       "                                            abstract keywords  \\\n",
       "2  Neuronal progenitors in the developing forebra...      NaN   \n",
       "3  Functional connectivity studies have identifie...      NaN   \n",
       "4  Experimentalists studying multisensory integra...      NaN   \n",
       "5  Hedonic processing plays an integral role in d...      NaN   \n",
       "6  Decisions under threat are crucial to survival...      NaN   \n",
       "\n",
       "  publication_date                                            authors  \\\n",
       "2       2020-08-02  [{'lastname': 'Yabut', 'firstname': 'Odessa R'...   \n",
       "3       2020-08-01  [{'lastname': 'Cocuzza', 'firstname': 'Carrisa...   \n",
       "4       2020-07-31  [{'lastname': 'Metzger', 'firstname': 'Brian A...   \n",
       "5       2020-07-31  [{'lastname': 'Hurley', 'firstname': 'Seth W',...   \n",
       "6       2020-07-29  [{'lastname': 'Abivardi', 'firstname': 'Aslan'...   \n",
       "\n",
       "   len_title  len_abstract  \n",
       "2      117.0         767.0  \n",
       "3       65.0        1645.0  \n",
       "4      103.0        1664.0  \n",
       "5      121.0        1421.0  \n",
       "6      111.0        1823.0  "
      ]
     },
     "execution_count": 36,
     "metadata": {},
     "output_type": "execute_result"
    }
   ],
   "source": [
    "# Sanity check\n",
    "\n",
    "jc = pd.read_csv(\"jneuro_clean.csv\", index_col=0)\n",
    "\n",
    "print(jc.shape)\n",
    "jc.head()"
   ]
  },
  {
   "cell_type": "code",
   "execution_count": 37,
   "metadata": {},
   "outputs": [
    {
     "data": {
      "text/html": [
       "<div>\n",
       "<style scoped>\n",
       "    .dataframe tbody tr th:only-of-type {\n",
       "        vertical-align: middle;\n",
       "    }\n",
       "\n",
       "    .dataframe tbody tr th {\n",
       "        vertical-align: top;\n",
       "    }\n",
       "\n",
       "    .dataframe thead th {\n",
       "        text-align: right;\n",
       "    }\n",
       "</style>\n",
       "<table border=\"1\" class=\"dataframe\">\n",
       "  <thead>\n",
       "    <tr style=\"text-align: right;\">\n",
       "      <th></th>\n",
       "      <th>pubmed_id</th>\n",
       "      <th>title</th>\n",
       "      <th>abstract</th>\n",
       "      <th>keywords</th>\n",
       "      <th>publication_date</th>\n",
       "      <th>authors</th>\n",
       "      <th>len_title</th>\n",
       "      <th>len_abstract</th>\n",
       "    </tr>\n",
       "  </thead>\n",
       "  <tbody>\n",
       "  </tbody>\n",
       "</table>\n",
       "</div>"
      ],
      "text/plain": [
       "Empty DataFrame\n",
       "Columns: [pubmed_id, title, abstract, keywords, publication_date, authors, len_title, len_abstract]\n",
       "Index: []"
      ]
     },
     "execution_count": 37,
     "metadata": {},
     "output_type": "execute_result"
    }
   ],
   "source": [
    "are_they_equal = jneuro_3[~(jneuro_3.pubmed_id.isin(jc.pubmed_id))]\n",
    "\n",
    "are_they_equal"
   ]
  }
 ],
 "metadata": {
  "kernelspec": {
   "display_name": "Python 3",
   "language": "python",
   "name": "python3"
  },
  "language_info": {
   "codemirror_mode": {
    "name": "ipython",
    "version": 3
   },
   "file_extension": ".py",
   "mimetype": "text/x-python",
   "name": "python",
   "nbconvert_exporter": "python",
   "pygments_lexer": "ipython3",
   "version": "3.7.6"
  }
 },
 "nbformat": 4,
 "nbformat_minor": 4
}
