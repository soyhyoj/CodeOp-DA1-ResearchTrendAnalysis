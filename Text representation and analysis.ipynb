{
 "cells": [
  {
   "cell_type": "markdown",
   "metadata": {},
   "source": [
    "# Text vectorization and term frequency analysis"
   ]
  },
  {
   "cell_type": "markdown",
   "metadata": {},
   "source": [
    "In the previous notebook, 'jneuro.csv' was imported, cleaned and saved as 'jneuro_clean.csv'.\n",
    "Here, we'll use nltk library to normalize the preprocessed text. Then, we will vectorize the texts parsed by its publiation year using scikit-learn library. Finally, we will analyze term frequency to conclude what are the most frequently appeared words."
   ]
  },
  {
   "cell_type": "code",
   "execution_count": 1,
   "metadata": {},
   "outputs": [
    {
     "name": "stderr",
     "output_type": "stream",
     "text": [
      "[nltk_data] Downloading package stopwords to /home/hyoj/nltk_data...\n",
      "[nltk_data]   Package stopwords is already up-to-date!\n",
      "[nltk_data] Downloading package wordnet to /home/hyoj/nltk_data...\n",
      "[nltk_data]   Package wordnet is already up-to-date!\n"
     ]
    },
    {
     "data": {
      "text/plain": [
       "True"
      ]
     },
     "execution_count": 1,
     "metadata": {},
     "output_type": "execute_result"
    }
   ],
   "source": [
    "import pandas as pd\n",
    "import numpy as np\n",
    "import matplotlib.pyplot as plt\n",
    "import seaborn as sns\n",
    "sns.set(palette='Set2')\n",
    "\n",
    "import string\n",
    "import nltk\n",
    "from nltk.tokenize import word_tokenize\n",
    "from nltk.corpus import stopwords\n",
    "from nltk.stem import WordNetLemmatizer\n",
    "nltk.download(['stopwords', 'wordnet'])"
   ]
  },
  {
   "cell_type": "code",
   "execution_count": 2,
   "metadata": {},
   "outputs": [
    {
     "name": "stdout",
     "output_type": "stream",
     "text": [
      "(11893, 8)\n"
     ]
    },
    {
     "data": {
      "text/html": [
       "<div>\n",
       "<style scoped>\n",
       "    .dataframe tbody tr th:only-of-type {\n",
       "        vertical-align: middle;\n",
       "    }\n",
       "\n",
       "    .dataframe tbody tr th {\n",
       "        vertical-align: top;\n",
       "    }\n",
       "\n",
       "    .dataframe thead th {\n",
       "        text-align: right;\n",
       "    }\n",
       "</style>\n",
       "<table border=\"1\" class=\"dataframe\">\n",
       "  <thead>\n",
       "    <tr style=\"text-align: right;\">\n",
       "      <th></th>\n",
       "      <th>pubmed_id</th>\n",
       "      <th>title</th>\n",
       "      <th>abstract</th>\n",
       "      <th>keywords</th>\n",
       "      <th>publication_date</th>\n",
       "      <th>authors</th>\n",
       "      <th>len_title</th>\n",
       "      <th>len_abstract</th>\n",
       "    </tr>\n",
       "  </thead>\n",
       "  <tbody>\n",
       "    <tr>\n",
       "      <th>2</th>\n",
       "      <td>32737167</td>\n",
       "      <td>The neocortical progenitor specification progr...</td>\n",
       "      <td>Neuronal progenitors in the developing forebra...</td>\n",
       "      <td>NaN</td>\n",
       "      <td>2020-08-02</td>\n",
       "      <td>[{'lastname': 'Yabut', 'firstname': 'Odessa R'...</td>\n",
       "      <td>117.0</td>\n",
       "      <td>767.0</td>\n",
       "    </tr>\n",
       "    <tr>\n",
       "      <th>3</th>\n",
       "      <td>32732324</td>\n",
       "      <td>Flexible coordinator and switcher hubs for ada...</td>\n",
       "      <td>Functional connectivity studies have identifie...</td>\n",
       "      <td>NaN</td>\n",
       "      <td>2020-08-01</td>\n",
       "      <td>[{'lastname': 'Cocuzza', 'firstname': 'Carrisa...</td>\n",
       "      <td>65.0</td>\n",
       "      <td>1645.0</td>\n",
       "    </tr>\n",
       "    <tr>\n",
       "      <th>4</th>\n",
       "      <td>32727820</td>\n",
       "      <td>Responses to Visual Speech in Human Posterior ...</td>\n",
       "      <td>Experimentalists studying multisensory integra...</td>\n",
       "      <td>NaN</td>\n",
       "      <td>2020-07-31</td>\n",
       "      <td>[{'lastname': 'Metzger', 'firstname': 'Brian A...</td>\n",
       "      <td>103.0</td>\n",
       "      <td>1664.0</td>\n",
       "    </tr>\n",
       "    <tr>\n",
       "      <th>5</th>\n",
       "      <td>32727819</td>\n",
       "      <td>Activation of Infralimbic to Nucleus Accumbens...</td>\n",
       "      <td>Hedonic processing plays an integral role in d...</td>\n",
       "      <td>NaN</td>\n",
       "      <td>2020-07-31</td>\n",
       "      <td>[{'lastname': 'Hurley', 'firstname': 'Seth W',...</td>\n",
       "      <td>121.0</td>\n",
       "      <td>1421.0</td>\n",
       "    </tr>\n",
       "    <tr>\n",
       "      <th>6</th>\n",
       "      <td>32719163</td>\n",
       "      <td>Hippocampal representation of threat features ...</td>\n",
       "      <td>Decisions under threat are crucial to survival...</td>\n",
       "      <td>NaN</td>\n",
       "      <td>2020-07-29</td>\n",
       "      <td>[{'lastname': 'Abivardi', 'firstname': 'Aslan'...</td>\n",
       "      <td>111.0</td>\n",
       "      <td>1823.0</td>\n",
       "    </tr>\n",
       "  </tbody>\n",
       "</table>\n",
       "</div>"
      ],
      "text/plain": [
       "  pubmed_id                                              title  \\\n",
       "2  32737167  The neocortical progenitor specification progr...   \n",
       "3  32732324  Flexible coordinator and switcher hubs for ada...   \n",
       "4  32727820  Responses to Visual Speech in Human Posterior ...   \n",
       "5  32727819  Activation of Infralimbic to Nucleus Accumbens...   \n",
       "6  32719163  Hippocampal representation of threat features ...   \n",
       "\n",
       "                                            abstract keywords  \\\n",
       "2  Neuronal progenitors in the developing forebra...      NaN   \n",
       "3  Functional connectivity studies have identifie...      NaN   \n",
       "4  Experimentalists studying multisensory integra...      NaN   \n",
       "5  Hedonic processing plays an integral role in d...      NaN   \n",
       "6  Decisions under threat are crucial to survival...      NaN   \n",
       "\n",
       "  publication_date                                            authors  \\\n",
       "2       2020-08-02  [{'lastname': 'Yabut', 'firstname': 'Odessa R'...   \n",
       "3       2020-08-01  [{'lastname': 'Cocuzza', 'firstname': 'Carrisa...   \n",
       "4       2020-07-31  [{'lastname': 'Metzger', 'firstname': 'Brian A...   \n",
       "5       2020-07-31  [{'lastname': 'Hurley', 'firstname': 'Seth W',...   \n",
       "6       2020-07-29  [{'lastname': 'Abivardi', 'firstname': 'Aslan'...   \n",
       "\n",
       "   len_title  len_abstract  \n",
       "2      117.0         767.0  \n",
       "3       65.0        1645.0  \n",
       "4      103.0        1664.0  \n",
       "5      121.0        1421.0  \n",
       "6      111.0        1823.0  "
      ]
     },
     "execution_count": 2,
     "metadata": {},
     "output_type": "execute_result"
    }
   ],
   "source": [
    "df = pd.read_csv('jneuro_clean.csv', index_col=0)\n",
    "print(df.shape)\n",
    "df.head()"
   ]
  },
  {
   "cell_type": "markdown",
   "metadata": {},
   "source": [
    "Since we are interested in the 'most frequent terms of the year', let's start with parsing the data by publication year.<br>\n",
    "However, somehow the 'publciation_date' column was not saved as the datetime format."
   ]
  },
  {
   "cell_type": "code",
   "execution_count": 3,
   "metadata": {},
   "outputs": [
    {
     "data": {
      "text/plain": [
       "pubmed_id            object\n",
       "title                object\n",
       "abstract             object\n",
       "keywords             object\n",
       "publication_date     object\n",
       "authors              object\n",
       "len_title           float64\n",
       "len_abstract        float64\n",
       "dtype: object"
      ]
     },
     "execution_count": 3,
     "metadata": {},
     "output_type": "execute_result"
    }
   ],
   "source": [
    "df.dtypes"
   ]
  },
  {
   "cell_type": "markdown",
   "metadata": {},
   "source": [
    "So we need to convert it again"
   ]
  },
  {
   "cell_type": "code",
   "execution_count": 4,
   "metadata": {},
   "outputs": [
    {
     "name": "stdout",
     "output_type": "stream",
     "text": [
      "object\n",
      "datetime64[ns]\n"
     ]
    }
   ],
   "source": [
    "# Before converting dtype of'publication_date'\n",
    "print(df['publication_date'].dtype)\n",
    "\n",
    "# Convert the date type to datetime64\n",
    "df['publication_date'] = pd.to_datetime(df['publication_date'])\n",
    "\n",
    "# After converting dtype of'publication_date'\n",
    "print(df['publication_date'].dtype)"
   ]
  },
  {
   "cell_type": "markdown",
   "metadata": {},
   "source": [
    "Here, we create a new column called 'publication_year' to group the data using this field later."
   ]
  },
  {
   "cell_type": "code",
   "execution_count": 5,
   "metadata": {},
   "outputs": [
    {
     "data": {
      "text/html": [
       "<div>\n",
       "<style scoped>\n",
       "    .dataframe tbody tr th:only-of-type {\n",
       "        vertical-align: middle;\n",
       "    }\n",
       "\n",
       "    .dataframe tbody tr th {\n",
       "        vertical-align: top;\n",
       "    }\n",
       "\n",
       "    .dataframe thead th {\n",
       "        text-align: right;\n",
       "    }\n",
       "</style>\n",
       "<table border=\"1\" class=\"dataframe\">\n",
       "  <thead>\n",
       "    <tr style=\"text-align: right;\">\n",
       "      <th></th>\n",
       "      <th>pubmed_id</th>\n",
       "      <th>title</th>\n",
       "      <th>abstract</th>\n",
       "      <th>keywords</th>\n",
       "      <th>publication_date</th>\n",
       "      <th>authors</th>\n",
       "      <th>len_title</th>\n",
       "      <th>len_abstract</th>\n",
       "      <th>publication_year</th>\n",
       "    </tr>\n",
       "  </thead>\n",
       "  <tbody>\n",
       "    <tr>\n",
       "      <th>2</th>\n",
       "      <td>32737167</td>\n",
       "      <td>The neocortical progenitor specification progr...</td>\n",
       "      <td>Neuronal progenitors in the developing forebra...</td>\n",
       "      <td>NaN</td>\n",
       "      <td>2020-08-02</td>\n",
       "      <td>[{'lastname': 'Yabut', 'firstname': 'Odessa R'...</td>\n",
       "      <td>117.0</td>\n",
       "      <td>767.0</td>\n",
       "      <td>2020</td>\n",
       "    </tr>\n",
       "    <tr>\n",
       "      <th>3</th>\n",
       "      <td>32732324</td>\n",
       "      <td>Flexible coordinator and switcher hubs for ada...</td>\n",
       "      <td>Functional connectivity studies have identifie...</td>\n",
       "      <td>NaN</td>\n",
       "      <td>2020-08-01</td>\n",
       "      <td>[{'lastname': 'Cocuzza', 'firstname': 'Carrisa...</td>\n",
       "      <td>65.0</td>\n",
       "      <td>1645.0</td>\n",
       "      <td>2020</td>\n",
       "    </tr>\n",
       "    <tr>\n",
       "      <th>4</th>\n",
       "      <td>32727820</td>\n",
       "      <td>Responses to Visual Speech in Human Posterior ...</td>\n",
       "      <td>Experimentalists studying multisensory integra...</td>\n",
       "      <td>NaN</td>\n",
       "      <td>2020-07-31</td>\n",
       "      <td>[{'lastname': 'Metzger', 'firstname': 'Brian A...</td>\n",
       "      <td>103.0</td>\n",
       "      <td>1664.0</td>\n",
       "      <td>2020</td>\n",
       "    </tr>\n",
       "    <tr>\n",
       "      <th>5</th>\n",
       "      <td>32727819</td>\n",
       "      <td>Activation of Infralimbic to Nucleus Accumbens...</td>\n",
       "      <td>Hedonic processing plays an integral role in d...</td>\n",
       "      <td>NaN</td>\n",
       "      <td>2020-07-31</td>\n",
       "      <td>[{'lastname': 'Hurley', 'firstname': 'Seth W',...</td>\n",
       "      <td>121.0</td>\n",
       "      <td>1421.0</td>\n",
       "      <td>2020</td>\n",
       "    </tr>\n",
       "    <tr>\n",
       "      <th>6</th>\n",
       "      <td>32719163</td>\n",
       "      <td>Hippocampal representation of threat features ...</td>\n",
       "      <td>Decisions under threat are crucial to survival...</td>\n",
       "      <td>NaN</td>\n",
       "      <td>2020-07-29</td>\n",
       "      <td>[{'lastname': 'Abivardi', 'firstname': 'Aslan'...</td>\n",
       "      <td>111.0</td>\n",
       "      <td>1823.0</td>\n",
       "      <td>2020</td>\n",
       "    </tr>\n",
       "  </tbody>\n",
       "</table>\n",
       "</div>"
      ],
      "text/plain": [
       "  pubmed_id                                              title  \\\n",
       "2  32737167  The neocortical progenitor specification progr...   \n",
       "3  32732324  Flexible coordinator and switcher hubs for ada...   \n",
       "4  32727820  Responses to Visual Speech in Human Posterior ...   \n",
       "5  32727819  Activation of Infralimbic to Nucleus Accumbens...   \n",
       "6  32719163  Hippocampal representation of threat features ...   \n",
       "\n",
       "                                            abstract keywords  \\\n",
       "2  Neuronal progenitors in the developing forebra...      NaN   \n",
       "3  Functional connectivity studies have identifie...      NaN   \n",
       "4  Experimentalists studying multisensory integra...      NaN   \n",
       "5  Hedonic processing plays an integral role in d...      NaN   \n",
       "6  Decisions under threat are crucial to survival...      NaN   \n",
       "\n",
       "  publication_date                                            authors  \\\n",
       "2       2020-08-02  [{'lastname': 'Yabut', 'firstname': 'Odessa R'...   \n",
       "3       2020-08-01  [{'lastname': 'Cocuzza', 'firstname': 'Carrisa...   \n",
       "4       2020-07-31  [{'lastname': 'Metzger', 'firstname': 'Brian A...   \n",
       "5       2020-07-31  [{'lastname': 'Hurley', 'firstname': 'Seth W',...   \n",
       "6       2020-07-29  [{'lastname': 'Abivardi', 'firstname': 'Aslan'...   \n",
       "\n",
       "   len_title  len_abstract  publication_year  \n",
       "2      117.0         767.0              2020  \n",
       "3       65.0        1645.0              2020  \n",
       "4      103.0        1664.0              2020  \n",
       "5      121.0        1421.0              2020  \n",
       "6      111.0        1823.0              2020  "
      ]
     },
     "execution_count": 5,
     "metadata": {},
     "output_type": "execute_result"
    }
   ],
   "source": [
    "df['publication_year'] = df['publication_date'].dt.year\n",
    "df.head()"
   ]
  },
  {
   "cell_type": "code",
   "execution_count": 6,
   "metadata": {},
   "outputs": [
    {
     "data": {
      "text/plain": [
       "<matplotlib.axes._subplots.AxesSubplot at 0x7f15cebc2f90>"
      ]
     },
     "execution_count": 6,
     "metadata": {},
     "output_type": "execute_result"
    },
    {
     "data": {
      "image/png": "[encoded data removed]",
      "text/plain": [
       "<Figure size 432x288 with 1 Axes>"
      ]
     },
     "metadata": {
      "needs_background": "light"
     },
     "output_type": "display_data"
    }
   ],
   "source": [
    "sns.countplot(df['publication_year'])"
   ]
  },
  {
   "cell_type": "markdown",
   "metadata": {},
   "source": [
    "After cleaning, more recent data (2016-2020) were reduced than the older ones (2011-2013).\n",
    "<br>\n",
    "Why is the recent data more corrupted?? ***figure it out"
   ]
  },
  {
   "cell_type": "code",
   "execution_count": null,
   "metadata": {},
   "outputs": [],
   "source": []
  },
  {
   "cell_type": "code",
   "execution_count": null,
   "metadata": {},
   "outputs": [],
   "source": []
  },
  {
   "cell_type": "markdown",
   "metadata": {},
   "source": [
    "# 1. Parse the data by year of its publication"
   ]
  },
  {
   "cell_type": "markdown",
   "metadata": {},
   "source": [
    "Using groupby method, we'll gather all the abstracts of each year as one large string element."
   ]
  },
  {
   "cell_type": "code",
   "execution_count": 7,
   "metadata": {
    "scrolled": true
   },
   "outputs": [
    {
     "data": {
      "text/plain": [
       "publication_year\n",
       "2011    RPE65 is an abundantly expressed protein withi...\n",
       "2012    Peripheral immune cells and brain microglia ex...\n",
       "2013    erbb4 is a susceptibility gene for schizophren...\n",
       "2014    Presynaptic kainate-type glutamate receptors (...\n",
       "2015    Emerging evidence has indicated that the patho...\n",
       "2016    Comprehending speech involves the rapid and op...\n",
       "2017    Spinal cord injury (SCI) induces a centralized...\n",
       "2018    Overreactivity and defensive behaviors in resp...\n",
       "2019    In the retina of zebrafish, Müller glia have t...\n",
       "2020    Neuronal progenitors in the developing forebra...\n",
       "Name: abstract, dtype: object"
      ]
     },
     "execution_count": 7,
     "metadata": {},
     "output_type": "execute_result"
    }
   ],
   "source": [
    "abstracts_per_year = df.groupby('publication_year')['abstract'].sum()\n",
    "abstracts_per_year"
   ]
  },
  {
   "cell_type": "code",
   "execution_count": 12,
   "metadata": {},
   "outputs": [
    {
     "name": "stdout",
     "output_type": "stream",
     "text": [
      "Total length of the abstracts publicated in year 2011 is 2715079\n",
      "Total length of the abstracts publicated in year 2012 is 2510295\n",
      "Total length of the abstracts publicated in year 2013 is 2662309\n",
      "Total length of the abstracts publicated in year 2014 is 2255663\n",
      "Total length of the abstracts publicated in year 2015 is 2427824\n",
      "Total length of the abstracts publicated in year 2016 is 2256093\n",
      "Total length of the abstracts publicated in year 2017 is 1119085\n",
      "Total length of the abstracts publicated in year 2018 is 838517\n",
      "Total length of the abstracts publicated in year 2019 is 750208\n",
      "Total length of the abstracts publicated in year 2020 is 455919\n"
     ]
    }
   ],
   "source": [
    "# Check the length of the document per year\n",
    "\n",
    "for i, val in enumerate(abstracts_per_year):\n",
    "    vol_per_year = i+2011, len(val)\n",
    "    print(f'Total length of the abstracts publicated in year {vol_per_year[0]} is {vol_per_year[1]}')"
   ]
  },
  {
   "cell_type": "markdown",
   "metadata": {},
   "source": [
    "# 2. Text normalization"
   ]
  },
  {
   "cell_type": "markdown",
   "metadata": {},
   "source": [
    "Before creating a bag of words representation of each string, we first need to transform the text into a single canonical form.\n",
    "<br>\n",
    "To this end, I'll adopt following methods/techniques: <br>\n",
    "    - prepare a list of tokens using *word_tokenizer*\n",
    "    - lowercase all the tokens\n",
    "    - keep alphanumeric tokens only\n",
    "    - remove stopwords\n",
    "    - extract lemmatized tokens using *WordNetLemmatizer*"
   ]
  },
  {
   "cell_type": "code",
   "execution_count": 13,
   "metadata": {
    "scrolled": true
   },
   "outputs": [],
   "source": [
    "# A function to extract the document from a specific year\n",
    "\n",
    "def abstracts_from_year(num):\n",
    "    for i, val in enumerate(abstracts_per_year):\n",
    "        if i+2011 == num:\n",
    "            return val"
   ]
  },
  {
   "cell_type": "code",
   "execution_count": 21,
   "metadata": {},
   "outputs": [
    {
     "data": {
      "text/plain": [
       "'Neuronal progenitors in the developing forebrain undergo dynamic competence states to ensure timely '"
      ]
     },
     "execution_count": 21,
     "metadata": {},
     "output_type": "execute_result"
    }
   ],
   "source": [
    "abstracts_from_year(2020)[:100]"
   ]
  },
  {
   "cell_type": "code",
   "execution_count": 22,
   "metadata": {},
   "outputs": [],
   "source": [
    "# A function to get a list of word tokens (unigrams)\n",
    "# Normalization techniques to apply: Lowercasing, Alphanumeric only, Remove stopwords, Lemmatization\n",
    "\n",
    "def get_tokens_normalized(text: str):\n",
    "    # Instantiate word tokenizer\n",
    "    tokenized = word_tokenize(text)\n",
    "    # str(text) is needed at the moment to force the unclean data to be accepted by this function\n",
    "\n",
    "    # Get lowercased tokens using Tweet tokenizer\n",
    "    tokens_list = [t.lower() for t in tokenized]\n",
    "    \n",
    "    # Retain alphanumeric words only\n",
    "    alpha_only = [t for t in tokens_list if t.isalnum()]\n",
    "    \n",
    "    # Remove all stop words: no_stops\n",
    "    stopwords_en = stopwords.words('english')\n",
    "    no_stops = [t for t in alpha_only if t not in stopwords_en]\n",
    "    \n",
    "    # Lemmatize\n",
    "    wordnet_lemmatizer = WordNetLemmatizer()\n",
    "    lemmatized = [wordnet_lemmatizer.lemmatize(t) for t in no_stops]\n",
    "    \n",
    "    return lemmatized"
   ]
  },
  {
   "cell_type": "markdown",
   "metadata": {},
   "source": [
    "Let's get an example of the output tokens:\n",
    "    # 1. Extract a string element from year 2011-2020 by using the function 'abstracts_from_year'\n",
    "    # 2. Get a list of normlized tokens using 'get_tokens_normalized'\n",
    "    # 3. Print only the first 10 tokens as an example"
   ]
  },
  {
   "cell_type": "code",
   "execution_count": 29,
   "metadata": {},
   "outputs": [
    {
     "name": "stdout",
     "output_type": "stream",
     "text": [
      "{2011: ['rpe65', 'abundantly', 'expressed', 'protein', 'within', 'retinal', 'pigment', 'epithelium', 'rpe', 'eye'], 2012: ['peripheral', 'immune', 'cell', 'brain', 'microglia', 'exhibit', 'activated', 'phenotype', 'premanifest', 'huntington'], 2013: ['erbb4', 'susceptibility', 'gene', 'schizophrenia', 'erbb4', 'signal', 'hypothesized', 'function', 'number', 'cortical'], 2014: ['presynaptic', 'glutamate', 'receptor', 'kars', 'regulate', 'glutamate', 'release', 'probability', 'plasticity', 'various'], 2015: ['emerging', 'evidence', 'indicated', 'pathogenesis', 'neuropathic', 'pain', 'mediated', 'spinal', 'neural', 'plasticity'], 2016: ['comprehending', 'speech', 'involves', 'rapid', 'optimally', 'efficient', 'mapping', 'sound', 'meaning', 'influential'], 2017: ['spinal', 'cord', 'injury', 'sci', 'induces', 'centralized', 'fibrotic', 'scar', 'surrounded', 'reactive'], 2018: ['overreactivity', 'defensive', 'behavior', 'response', 'tactile', 'stimulus', 'common', 'symptom', 'autism', 'spectrum'], 2019: ['retina', 'zebrafish', 'müller', 'glia', 'ability', 'reprogram', 'stem', 'cell', 'capable', 'regenerating'], 2020: ['neuronal', 'progenitor', 'developing', 'forebrain', 'undergo', 'dynamic', 'competence', 'state', 'ensure', 'timely']}\n"
     ]
    }
   ],
   "source": [
    "tokens = {}\n",
    "for year in range(2011, 2021):\n",
    "    tokens[year] =  get_tokens_normalized(abstracts_from_year(year))[:10]\n",
    "    \n",
    "print(tokens)"
   ]
  },
  {
   "cell_type": "markdown",
   "metadata": {},
   "source": [
    "The tokens look ok."
   ]
  },
  {
   "cell_type": "markdown",
   "metadata": {},
   "source": [
    "# 3. Text vector representation - Bag of Words"
   ]
  },
  {
   "cell_type": "code",
   "execution_count": 33,
   "metadata": {},
   "outputs": [
    {
     "data": {
      "text/html": [
       "<div>\n",
       "<style scoped>\n",
       "    .dataframe tbody tr th:only-of-type {\n",
       "        vertical-align: middle;\n",
       "    }\n",
       "\n",
       "    .dataframe tbody tr th {\n",
       "        vertical-align: top;\n",
       "    }\n",
       "\n",
       "    .dataframe thead th {\n",
       "        text-align: right;\n",
       "    }\n",
       "</style>\n",
       "<table border=\"1\" class=\"dataframe\">\n",
       "  <thead>\n",
       "    <tr style=\"text-align: right;\">\n",
       "      <th></th>\n",
       "      <th>abstract</th>\n",
       "    </tr>\n",
       "    <tr>\n",
       "      <th>publication_year</th>\n",
       "      <th></th>\n",
       "    </tr>\n",
       "  </thead>\n",
       "  <tbody>\n",
       "    <tr>\n",
       "      <th>2011</th>\n",
       "      <td>RPE65 is an abundantly expressed protein withi...</td>\n",
       "    </tr>\n",
       "    <tr>\n",
       "      <th>2012</th>\n",
       "      <td>Peripheral immune cells and brain microglia ex...</td>\n",
       "    </tr>\n",
       "    <tr>\n",
       "      <th>2013</th>\n",
       "      <td>erbb4 is a susceptibility gene for schizophren...</td>\n",
       "    </tr>\n",
       "    <tr>\n",
       "      <th>2014</th>\n",
       "      <td>Presynaptic kainate-type glutamate receptors (...</td>\n",
       "    </tr>\n",
       "    <tr>\n",
       "      <th>2015</th>\n",
       "      <td>Emerging evidence has indicated that the patho...</td>\n",
       "    </tr>\n",
       "    <tr>\n",
       "      <th>2016</th>\n",
       "      <td>Comprehending speech involves the rapid and op...</td>\n",
       "    </tr>\n",
       "    <tr>\n",
       "      <th>2017</th>\n",
       "      <td>Spinal cord injury (SCI) induces a centralized...</td>\n",
       "    </tr>\n",
       "    <tr>\n",
       "      <th>2018</th>\n",
       "      <td>Overreactivity and defensive behaviors in resp...</td>\n",
       "    </tr>\n",
       "    <tr>\n",
       "      <th>2019</th>\n",
       "      <td>In the retina of zebrafish, Müller glia have t...</td>\n",
       "    </tr>\n",
       "    <tr>\n",
       "      <th>2020</th>\n",
       "      <td>Neuronal progenitors in the developing forebra...</td>\n",
       "    </tr>\n",
       "  </tbody>\n",
       "</table>\n",
       "</div>"
      ],
      "text/plain": [
       "                                                           abstract\n",
       "publication_year                                                   \n",
       "2011              RPE65 is an abundantly expressed protein withi...\n",
       "2012              Peripheral immune cells and brain microglia ex...\n",
       "2013              erbb4 is a susceptibility gene for schizophren...\n",
       "2014              Presynaptic kainate-type glutamate receptors (...\n",
       "2015              Emerging evidence has indicated that the patho...\n",
       "2016              Comprehending speech involves the rapid and op...\n",
       "2017              Spinal cord injury (SCI) induces a centralized...\n",
       "2018              Overreactivity and defensive behaviors in resp...\n",
       "2019              In the retina of zebrafish, Müller glia have t...\n",
       "2020              Neuronal progenitors in the developing forebra..."
      ]
     },
     "execution_count": 33,
     "metadata": {},
     "output_type": "execute_result"
    }
   ],
   "source": [
    "# Save the 'abstracts_per_year' series as a dataframe to fit and transform\n",
    "\n",
    "df_per_year = pd.DataFrame(abstracts_per_year)\n",
    "df_per_year"
   ]
  },
  {
   "cell_type": "code",
   "execution_count": 64,
   "metadata": {},
   "outputs": [
    {
     "name": "stdout",
     "output_type": "stream",
     "text": [
      "bow_size: 80\n",
      "\n",
      "Feature names of the bow vectors:\n",
      "['allele', 'ampars', 'arousal', 'blocker', 'ca', 'ca channel', 'case', 'cdk5', 'cea', 'cell body', 'circadian', 'clock', 'creb', 'da neuron', 'daily', 'data demonstrate', 'determinant', 'dmn', 'dna', 'dopamine neuron', 'drosophila', 'elegans', 'erk', 'ethanol', 'exocytosis', 'exogenous', 'extrasynaptic', 'f', 'facial', 'first time', 'fly', 'gaba receptor', 'gating', 'gaze', 'glucose', 'gnrh', 'hippocampal slice', 'identifying', 'inhibit', 'isoform', 'isoforms', 'k', 'kinetics', 'leptin', 'lfp', 'ligand', 'lipid', 'mecp2', 'mglur5', 'microtubule', 'mn', 'morphine', 'motor neuron', 'mutant mouse', 'na', 'nerve injury', 'nicotine', 'nsc', 'outer', 'outgrowth', 'pka', 'proinflammatory', 'promoter', 'protein synthesis', 'quality', 'r', 'rat hippocampal', 'regional', 'remyelination', 'residue', 'ribbon', 'scn', 'tolerance', 'transmitter', 'trpv1', 'vitro', 'vivo', 'weak', 'wm', 'μm']\n"
     ]
    }
   ],
   "source": [
    "from sklearn.feature_extraction.text import CountVectorizer\n",
    "\n",
    "# Use 80 features\n",
    "vectorizer80 = CountVectorizer(max_df=.9, max_features=80,\n",
    "                               ngram_range=(1,2), tokenizer=get_tokens_normalized)\n",
    "\n",
    "bag_of_words = vectorizer80.fit_transform(df_per_year.abstract)\n",
    "\n",
    "\n",
    "# CountVectorizer results:\n",
    "print('bow_size:',len(vectorizer80.vocabulary_))\n",
    "print()\n",
    "\n",
    "# Bow feature names as a list\n",
    "print('Feature names of the bow vectors:')\n",
    "print(vectorizer80.get_feature_names()[:80])"
   ]
  },
  {
   "cell_type": "code",
   "execution_count": 65,
   "metadata": {},
   "outputs": [
    {
     "data": {
      "text/html": [
       "<div>\n",
       "<style scoped>\n",
       "    .dataframe tbody tr th:only-of-type {\n",
       "        vertical-align: middle;\n",
       "    }\n",
       "\n",
       "    .dataframe tbody tr th {\n",
       "        vertical-align: top;\n",
       "    }\n",
       "\n",
       "    .dataframe thead th {\n",
       "        text-align: right;\n",
       "    }\n",
       "</style>\n",
       "<table border=\"1\" class=\"dataframe\">\n",
       "  <thead>\n",
       "    <tr style=\"text-align: right;\">\n",
       "      <th></th>\n",
       "      <th>allele</th>\n",
       "      <th>ampars</th>\n",
       "      <th>arousal</th>\n",
       "      <th>blocker</th>\n",
       "      <th>ca</th>\n",
       "      <th>ca channel</th>\n",
       "      <th>case</th>\n",
       "      <th>cdk5</th>\n",
       "      <th>cea</th>\n",
       "      <th>cell body</th>\n",
       "      <th>...</th>\n",
       "      <th>ribbon</th>\n",
       "      <th>scn</th>\n",
       "      <th>tolerance</th>\n",
       "      <th>transmitter</th>\n",
       "      <th>trpv1</th>\n",
       "      <th>vitro</th>\n",
       "      <th>vivo</th>\n",
       "      <th>weak</th>\n",
       "      <th>wm</th>\n",
       "      <th>μm</th>\n",
       "    </tr>\n",
       "    <tr>\n",
       "      <th>publication_year</th>\n",
       "      <th></th>\n",
       "      <th></th>\n",
       "      <th></th>\n",
       "      <th></th>\n",
       "      <th></th>\n",
       "      <th></th>\n",
       "      <th></th>\n",
       "      <th></th>\n",
       "      <th></th>\n",
       "      <th></th>\n",
       "      <th></th>\n",
       "      <th></th>\n",
       "      <th></th>\n",
       "      <th></th>\n",
       "      <th></th>\n",
       "      <th></th>\n",
       "      <th></th>\n",
       "      <th></th>\n",
       "      <th></th>\n",
       "      <th></th>\n",
       "      <th></th>\n",
       "    </tr>\n",
       "  </thead>\n",
       "  <tbody>\n",
       "    <tr>\n",
       "      <th>2011</th>\n",
       "      <td>43</td>\n",
       "      <td>55</td>\n",
       "      <td>19</td>\n",
       "      <td>37</td>\n",
       "      <td>337</td>\n",
       "      <td>44</td>\n",
       "      <td>35</td>\n",
       "      <td>15</td>\n",
       "      <td>11</td>\n",
       "      <td>25</td>\n",
       "      <td>...</td>\n",
       "      <td>32</td>\n",
       "      <td>34</td>\n",
       "      <td>31</td>\n",
       "      <td>29</td>\n",
       "      <td>70</td>\n",
       "      <td>182</td>\n",
       "      <td>358</td>\n",
       "      <td>46</td>\n",
       "      <td>59</td>\n",
       "      <td>37</td>\n",
       "    </tr>\n",
       "    <tr>\n",
       "      <th>2012</th>\n",
       "      <td>28</td>\n",
       "      <td>40</td>\n",
       "      <td>22</td>\n",
       "      <td>30</td>\n",
       "      <td>267</td>\n",
       "      <td>38</td>\n",
       "      <td>44</td>\n",
       "      <td>15</td>\n",
       "      <td>20</td>\n",
       "      <td>29</td>\n",
       "      <td>...</td>\n",
       "      <td>32</td>\n",
       "      <td>37</td>\n",
       "      <td>31</td>\n",
       "      <td>57</td>\n",
       "      <td>38</td>\n",
       "      <td>145</td>\n",
       "      <td>317</td>\n",
       "      <td>30</td>\n",
       "      <td>54</td>\n",
       "      <td>38</td>\n",
       "    </tr>\n",
       "    <tr>\n",
       "      <th>2013</th>\n",
       "      <td>13</td>\n",
       "      <td>34</td>\n",
       "      <td>23</td>\n",
       "      <td>34</td>\n",
       "      <td>282</td>\n",
       "      <td>21</td>\n",
       "      <td>56</td>\n",
       "      <td>15</td>\n",
       "      <td>26</td>\n",
       "      <td>31</td>\n",
       "      <td>...</td>\n",
       "      <td>28</td>\n",
       "      <td>27</td>\n",
       "      <td>14</td>\n",
       "      <td>37</td>\n",
       "      <td>49</td>\n",
       "      <td>136</td>\n",
       "      <td>337</td>\n",
       "      <td>32</td>\n",
       "      <td>43</td>\n",
       "      <td>45</td>\n",
       "    </tr>\n",
       "    <tr>\n",
       "      <th>2014</th>\n",
       "      <td>36</td>\n",
       "      <td>32</td>\n",
       "      <td>19</td>\n",
       "      <td>34</td>\n",
       "      <td>236</td>\n",
       "      <td>19</td>\n",
       "      <td>36</td>\n",
       "      <td>43</td>\n",
       "      <td>25</td>\n",
       "      <td>11</td>\n",
       "      <td>...</td>\n",
       "      <td>32</td>\n",
       "      <td>17</td>\n",
       "      <td>6</td>\n",
       "      <td>27</td>\n",
       "      <td>39</td>\n",
       "      <td>108</td>\n",
       "      <td>292</td>\n",
       "      <td>25</td>\n",
       "      <td>52</td>\n",
       "      <td>29</td>\n",
       "    </tr>\n",
       "    <tr>\n",
       "      <th>2015</th>\n",
       "      <td>30</td>\n",
       "      <td>17</td>\n",
       "      <td>24</td>\n",
       "      <td>18</td>\n",
       "      <td>316</td>\n",
       "      <td>25</td>\n",
       "      <td>34</td>\n",
       "      <td>35</td>\n",
       "      <td>10</td>\n",
       "      <td>18</td>\n",
       "      <td>...</td>\n",
       "      <td>26</td>\n",
       "      <td>18</td>\n",
       "      <td>24</td>\n",
       "      <td>21</td>\n",
       "      <td>22</td>\n",
       "      <td>141</td>\n",
       "      <td>263</td>\n",
       "      <td>37</td>\n",
       "      <td>44</td>\n",
       "      <td>27</td>\n",
       "    </tr>\n",
       "    <tr>\n",
       "      <th>2016</th>\n",
       "      <td>15</td>\n",
       "      <td>28</td>\n",
       "      <td>28</td>\n",
       "      <td>20</td>\n",
       "      <td>114</td>\n",
       "      <td>17</td>\n",
       "      <td>33</td>\n",
       "      <td>39</td>\n",
       "      <td>32</td>\n",
       "      <td>21</td>\n",
       "      <td>...</td>\n",
       "      <td>29</td>\n",
       "      <td>13</td>\n",
       "      <td>29</td>\n",
       "      <td>12</td>\n",
       "      <td>16</td>\n",
       "      <td>104</td>\n",
       "      <td>243</td>\n",
       "      <td>26</td>\n",
       "      <td>56</td>\n",
       "      <td>8</td>\n",
       "    </tr>\n",
       "    <tr>\n",
       "      <th>2017</th>\n",
       "      <td>0</td>\n",
       "      <td>5</td>\n",
       "      <td>28</td>\n",
       "      <td>7</td>\n",
       "      <td>5</td>\n",
       "      <td>0</td>\n",
       "      <td>22</td>\n",
       "      <td>4</td>\n",
       "      <td>23</td>\n",
       "      <td>7</td>\n",
       "      <td>...</td>\n",
       "      <td>12</td>\n",
       "      <td>7</td>\n",
       "      <td>12</td>\n",
       "      <td>6</td>\n",
       "      <td>1</td>\n",
       "      <td>1</td>\n",
       "      <td>18</td>\n",
       "      <td>11</td>\n",
       "      <td>48</td>\n",
       "      <td>13</td>\n",
       "    </tr>\n",
       "    <tr>\n",
       "      <th>2018</th>\n",
       "      <td>1</td>\n",
       "      <td>8</td>\n",
       "      <td>15</td>\n",
       "      <td>0</td>\n",
       "      <td>1</td>\n",
       "      <td>0</td>\n",
       "      <td>20</td>\n",
       "      <td>0</td>\n",
       "      <td>20</td>\n",
       "      <td>9</td>\n",
       "      <td>...</td>\n",
       "      <td>1</td>\n",
       "      <td>2</td>\n",
       "      <td>2</td>\n",
       "      <td>0</td>\n",
       "      <td>3</td>\n",
       "      <td>1</td>\n",
       "      <td>0</td>\n",
       "      <td>9</td>\n",
       "      <td>27</td>\n",
       "      <td>1</td>\n",
       "    </tr>\n",
       "    <tr>\n",
       "      <th>2019</th>\n",
       "      <td>0</td>\n",
       "      <td>0</td>\n",
       "      <td>15</td>\n",
       "      <td>2</td>\n",
       "      <td>4</td>\n",
       "      <td>0</td>\n",
       "      <td>18</td>\n",
       "      <td>2</td>\n",
       "      <td>0</td>\n",
       "      <td>4</td>\n",
       "      <td>...</td>\n",
       "      <td>8</td>\n",
       "      <td>0</td>\n",
       "      <td>3</td>\n",
       "      <td>5</td>\n",
       "      <td>11</td>\n",
       "      <td>0</td>\n",
       "      <td>0</td>\n",
       "      <td>8</td>\n",
       "      <td>7</td>\n",
       "      <td>1</td>\n",
       "    </tr>\n",
       "    <tr>\n",
       "      <th>2020</th>\n",
       "      <td>0</td>\n",
       "      <td>10</td>\n",
       "      <td>0</td>\n",
       "      <td>4</td>\n",
       "      <td>0</td>\n",
       "      <td>0</td>\n",
       "      <td>0</td>\n",
       "      <td>3</td>\n",
       "      <td>3</td>\n",
       "      <td>0</td>\n",
       "      <td>...</td>\n",
       "      <td>0</td>\n",
       "      <td>0</td>\n",
       "      <td>0</td>\n",
       "      <td>6</td>\n",
       "      <td>0</td>\n",
       "      <td>1</td>\n",
       "      <td>0</td>\n",
       "      <td>0</td>\n",
       "      <td>0</td>\n",
       "      <td>0</td>\n",
       "    </tr>\n",
       "  </tbody>\n",
       "</table>\n",
       "<p>10 rows × 80 columns</p>\n",
       "</div>"
      ],
      "text/plain": [
       "                  allele  ampars  arousal  blocker   ca  ca channel  case  \\\n",
       "publication_year                                                            \n",
       "2011                  43      55       19       37  337          44    35   \n",
       "2012                  28      40       22       30  267          38    44   \n",
       "2013                  13      34       23       34  282          21    56   \n",
       "2014                  36      32       19       34  236          19    36   \n",
       "2015                  30      17       24       18  316          25    34   \n",
       "2016                  15      28       28       20  114          17    33   \n",
       "2017                   0       5       28        7    5           0    22   \n",
       "2018                   1       8       15        0    1           0    20   \n",
       "2019                   0       0       15        2    4           0    18   \n",
       "2020                   0      10        0        4    0           0     0   \n",
       "\n",
       "                  cdk5  cea  cell body  ...  ribbon  scn  tolerance  \\\n",
       "publication_year                        ...                           \n",
       "2011                15   11         25  ...      32   34         31   \n",
       "2012                15   20         29  ...      32   37         31   \n",
       "2013                15   26         31  ...      28   27         14   \n",
       "2014                43   25         11  ...      32   17          6   \n",
       "2015                35   10         18  ...      26   18         24   \n",
       "2016                39   32         21  ...      29   13         29   \n",
       "2017                 4   23          7  ...      12    7         12   \n",
       "2018                 0   20          9  ...       1    2          2   \n",
       "2019                 2    0          4  ...       8    0          3   \n",
       "2020                 3    3          0  ...       0    0          0   \n",
       "\n",
       "                  transmitter  trpv1  vitro  vivo  weak  wm  μm  \n",
       "publication_year                                                 \n",
       "2011                       29     70    182   358    46  59  37  \n",
       "2012                       57     38    145   317    30  54  38  \n",
       "2013                       37     49    136   337    32  43  45  \n",
       "2014                       27     39    108   292    25  52  29  \n",
       "2015                       21     22    141   263    37  44  27  \n",
       "2016                       12     16    104   243    26  56   8  \n",
       "2017                        6      1      1    18    11  48  13  \n",
       "2018                        0      3      1     0     9  27   1  \n",
       "2019                        5     11      0     0     8   7   1  \n",
       "2020                        6      0      1     0     0   0   0  \n",
       "\n",
       "[10 rows x 80 columns]"
      ]
     },
     "execution_count": 65,
     "metadata": {},
     "output_type": "execute_result"
    }
   ],
   "source": [
    "counted = pd.DataFrame(data=bag_of_words.toarray(),\n",
    "                       index=df_per_year.index,\n",
    "                       columns=vectorizer80.get_feature_names())\n",
    "\n",
    "counted"
   ]
  },
  {
   "cell_type": "code",
   "execution_count": null,
   "metadata": {},
   "outputs": [],
   "source": []
  }
 ],
 "metadata": {
  "kernelspec": {
   "display_name": "Python 3",
   "language": "python",
   "name": "python3"
  },
  "language_info": {
   "codemirror_mode": {
    "name": "ipython",
    "version": 3
   },
   "file_extension": ".py",
   "mimetype": "text/x-python",
   "name": "python",
   "nbconvert_exporter": "python",
   "pygments_lexer": "ipython3",
   "version": "3.7.6"
  }
 },
 "nbformat": 4,
 "nbformat_minor": 4
}
