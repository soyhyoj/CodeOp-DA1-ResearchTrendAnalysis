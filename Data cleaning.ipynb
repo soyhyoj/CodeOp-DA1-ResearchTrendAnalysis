{
 "cells": [
  {
   "cell_type": "markdown",
   "metadata": {},
   "source": [
    "# Data Exploration and Cleaning"
   ]
  },
  {
   "cell_type": "code",
   "execution_count": 42,
   "metadata": {},
   "outputs": [],
   "source": [
    "from pymed import PubMed\n",
    "import pandas as pd\n",
    "import numpy as np\n",
    "import csv"
   ]
  },
  {
   "cell_type": "code",
   "execution_count": 5,
   "metadata": {},
   "outputs": [
    {
     "name": "stdout",
     "output_type": "stream",
     "text": [
      "(12734, 13)\n"
     ]
    },
    {
     "data": {
      "text/html": [
       "<div>\n",
       "<style scoped>\n",
       "    .dataframe tbody tr th:only-of-type {\n",
       "        vertical-align: middle;\n",
       "    }\n",
       "\n",
       "    .dataframe tbody tr th {\n",
       "        vertical-align: top;\n",
       "    }\n",
       "\n",
       "    .dataframe thead th {\n",
       "        text-align: right;\n",
       "    }\n",
       "</style>\n",
       "<table border=\"1\" class=\"dataframe\">\n",
       "  <thead>\n",
       "    <tr style=\"text-align: right;\">\n",
       "      <th></th>\n",
       "      <th>pubmed_id</th>\n",
       "      <th>title</th>\n",
       "      <th>abstract</th>\n",
       "      <th>keywords</th>\n",
       "      <th>journal</th>\n",
       "      <th>publication_date</th>\n",
       "      <th>authors</th>\n",
       "      <th>methods</th>\n",
       "      <th>conclusions</th>\n",
       "      <th>results</th>\n",
       "      <th>copyrights</th>\n",
       "      <th>doi</th>\n",
       "      <th>xml</th>\n",
       "    </tr>\n",
       "  </thead>\n",
       "  <tbody>\n",
       "    <tr>\n",
       "      <th>0</th>\n",
       "      <td>32737169</td>\n",
       "      <td>Erratum: Salido and Ramamurthy, \"Proteoglycan ...</td>\n",
       "      <td>NaN</td>\n",
       "      <td>[]</td>\n",
       "      <td>The Journal of neuroscience : the official jou...</td>\n",
       "      <td>2020-08-02</td>\n",
       "      <td>[]</td>\n",
       "      <td>NaN</td>\n",
       "      <td>NaN</td>\n",
       "      <td>NaN</td>\n",
       "      <td>NaN</td>\n",
       "      <td>10.1523/JNEUROSCI.1846-20.2020</td>\n",
       "      <td>&lt;Element 'PubmedArticle' at 0x7f18e0bb0a10&gt;</td>\n",
       "    </tr>\n",
       "    <tr>\n",
       "      <th>1</th>\n",
       "      <td>32737168</td>\n",
       "      <td>Erratum: Keitel et al., \"Medial Nucleus Accumb...</td>\n",
       "      <td>NaN</td>\n",
       "      <td>[]</td>\n",
       "      <td>The Journal of neuroscience : the official jou...</td>\n",
       "      <td>2020-08-02</td>\n",
       "      <td>[]</td>\n",
       "      <td>NaN</td>\n",
       "      <td>NaN</td>\n",
       "      <td>NaN</td>\n",
       "      <td>NaN</td>\n",
       "      <td>10.1523/JNEUROSCI.1829-20.2020</td>\n",
       "      <td>&lt;Element 'PubmedArticle' at 0x7f18e07a1050&gt;</td>\n",
       "    </tr>\n",
       "    <tr>\n",
       "      <th>2</th>\n",
       "      <td>32737167</td>\n",
       "      <td>The neocortical progenitor specification progr...</td>\n",
       "      <td>Neuronal progenitors in the developing forebra...</td>\n",
       "      <td>[]</td>\n",
       "      <td>The Journal of neuroscience : the official jou...</td>\n",
       "      <td>2020-08-02</td>\n",
       "      <td>[{'lastname': 'Yabut', 'firstname': 'Odessa R'...</td>\n",
       "      <td>NaN</td>\n",
       "      <td>NaN</td>\n",
       "      <td>NaN</td>\n",
       "      <td>Copyright © 2020 the authors.</td>\n",
       "      <td>10.1523/JNEUROSCI.2888-19.2020</td>\n",
       "      <td>&lt;Element 'PubmedArticle' at 0x7f18e07d5b90&gt;</td>\n",
       "    </tr>\n",
       "    <tr>\n",
       "      <th>3</th>\n",
       "      <td>32732324</td>\n",
       "      <td>Flexible coordinator and switcher hubs for ada...</td>\n",
       "      <td>Functional connectivity studies have identifie...</td>\n",
       "      <td>[]</td>\n",
       "      <td>The Journal of neuroscience : the official jou...</td>\n",
       "      <td>2020-08-01</td>\n",
       "      <td>[{'lastname': 'Cocuzza', 'firstname': 'Carrisa...</td>\n",
       "      <td>NaN</td>\n",
       "      <td>NaN</td>\n",
       "      <td>NaN</td>\n",
       "      <td>Copyright © 2020 the authors.</td>\n",
       "      <td>10.1523/JNEUROSCI.2559-19.2020</td>\n",
       "      <td>&lt;Element 'PubmedArticle' at 0x7f18e07c2a10&gt;</td>\n",
       "    </tr>\n",
       "    <tr>\n",
       "      <th>4</th>\n",
       "      <td>32727820</td>\n",
       "      <td>Responses to Visual Speech in Human Posterior ...</td>\n",
       "      <td>Experimentalists studying multisensory integra...</td>\n",
       "      <td>[]</td>\n",
       "      <td>The Journal of neuroscience : the official jou...</td>\n",
       "      <td>2020-07-31</td>\n",
       "      <td>[{'lastname': 'Metzger', 'firstname': 'Brian A...</td>\n",
       "      <td>NaN</td>\n",
       "      <td>NaN</td>\n",
       "      <td>NaN</td>\n",
       "      <td>Copyright © 2020 Metzger et al.</td>\n",
       "      <td>10.1523/JNEUROSCI.0279-20.2020</td>\n",
       "      <td>&lt;Element 'PubmedArticle' at 0x7f18e07cc710&gt;</td>\n",
       "    </tr>\n",
       "  </tbody>\n",
       "</table>\n",
       "</div>"
      ],
      "text/plain": [
       "  pubmed_id                                              title  \\\n",
       "0  32737169  Erratum: Salido and Ramamurthy, \"Proteoglycan ...   \n",
       "1  32737168  Erratum: Keitel et al., \"Medial Nucleus Accumb...   \n",
       "2  32737167  The neocortical progenitor specification progr...   \n",
       "3  32732324  Flexible coordinator and switcher hubs for ada...   \n",
       "4  32727820  Responses to Visual Speech in Human Posterior ...   \n",
       "\n",
       "                                            abstract keywords  \\\n",
       "0                                                NaN       []   \n",
       "1                                                NaN       []   \n",
       "2  Neuronal progenitors in the developing forebra...       []   \n",
       "3  Functional connectivity studies have identifie...       []   \n",
       "4  Experimentalists studying multisensory integra...       []   \n",
       "\n",
       "                                             journal publication_date  \\\n",
       "0  The Journal of neuroscience : the official jou...       2020-08-02   \n",
       "1  The Journal of neuroscience : the official jou...       2020-08-02   \n",
       "2  The Journal of neuroscience : the official jou...       2020-08-02   \n",
       "3  The Journal of neuroscience : the official jou...       2020-08-01   \n",
       "4  The Journal of neuroscience : the official jou...       2020-07-31   \n",
       "\n",
       "                                             authors  methods  conclusions  \\\n",
       "0                                                 []      NaN          NaN   \n",
       "1                                                 []      NaN          NaN   \n",
       "2  [{'lastname': 'Yabut', 'firstname': 'Odessa R'...      NaN          NaN   \n",
       "3  [{'lastname': 'Cocuzza', 'firstname': 'Carrisa...      NaN          NaN   \n",
       "4  [{'lastname': 'Metzger', 'firstname': 'Brian A...      NaN          NaN   \n",
       "\n",
       "  results                       copyrights                             doi  \\\n",
       "0     NaN                              NaN  10.1523/JNEUROSCI.1846-20.2020   \n",
       "1     NaN                              NaN  10.1523/JNEUROSCI.1829-20.2020   \n",
       "2     NaN    Copyright © 2020 the authors.  10.1523/JNEUROSCI.2888-19.2020   \n",
       "3     NaN    Copyright © 2020 the authors.  10.1523/JNEUROSCI.2559-19.2020   \n",
       "4     NaN  Copyright © 2020 Metzger et al.  10.1523/JNEUROSCI.0279-20.2020   \n",
       "\n",
       "                                           xml  \n",
       "0  <Element 'PubmedArticle' at 0x7f18e0bb0a10>  \n",
       "1  <Element 'PubmedArticle' at 0x7f18e07a1050>  \n",
       "2  <Element 'PubmedArticle' at 0x7f18e07d5b90>  \n",
       "3  <Element 'PubmedArticle' at 0x7f18e07c2a10>  \n",
       "4  <Element 'PubmedArticle' at 0x7f18e07cc710>  "
      ]
     },
     "execution_count": 5,
     "metadata": {},
     "output_type": "execute_result"
    }
   ],
   "source": [
    "# Import the csv as a dataframe\n",
    "\n",
    "jneuro = pd.read_csv('jneuro.csv', names=columns)\n",
    "\n",
    "print(jneuro.shape)\n",
    "jneuro.head()"
   ]
  },
  {
   "cell_type": "markdown",
   "metadata": {},
   "source": [
    "### 1. Data types"
   ]
  },
  {
   "cell_type": "code",
   "execution_count": 6,
   "metadata": {},
   "outputs": [],
   "source": [
    "import matplotlib.pyplot as plt\n",
    "import seaborn as sns\n",
    "sns.set(palette='Set2')"
   ]
  },
  {
   "cell_type": "code",
   "execution_count": 7,
   "metadata": {},
   "outputs": [
    {
     "data": {
      "text/plain": [
       "pubmed_id            object\n",
       "title                object\n",
       "abstract             object\n",
       "keywords             object\n",
       "journal              object\n",
       "publication_date     object\n",
       "authors              object\n",
       "methods             float64\n",
       "conclusions         float64\n",
       "results              object\n",
       "copyrights           object\n",
       "doi                  object\n",
       "xml                  object\n",
       "dtype: object"
      ]
     },
     "execution_count": 7,
     "metadata": {},
     "output_type": "execute_result"
    }
   ],
   "source": [
    "jneuro.dtypes"
   ]
  },
  {
   "cell_type": "code",
   "execution_count": 8,
   "metadata": {},
   "outputs": [
    {
     "data": {
      "text/html": [
       "<div>\n",
       "<style scoped>\n",
       "    .dataframe tbody tr th:only-of-type {\n",
       "        vertical-align: middle;\n",
       "    }\n",
       "\n",
       "    .dataframe tbody tr th {\n",
       "        vertical-align: top;\n",
       "    }\n",
       "\n",
       "    .dataframe thead th {\n",
       "        text-align: right;\n",
       "    }\n",
       "</style>\n",
       "<table border=\"1\" class=\"dataframe\">\n",
       "  <thead>\n",
       "    <tr style=\"text-align: right;\">\n",
       "      <th></th>\n",
       "      <th>methods</th>\n",
       "      <th>conclusions</th>\n",
       "    </tr>\n",
       "  </thead>\n",
       "  <tbody>\n",
       "    <tr>\n",
       "      <th>count</th>\n",
       "      <td>0.0</td>\n",
       "      <td>0.0</td>\n",
       "    </tr>\n",
       "    <tr>\n",
       "      <th>mean</th>\n",
       "      <td>NaN</td>\n",
       "      <td>NaN</td>\n",
       "    </tr>\n",
       "    <tr>\n",
       "      <th>std</th>\n",
       "      <td>NaN</td>\n",
       "      <td>NaN</td>\n",
       "    </tr>\n",
       "    <tr>\n",
       "      <th>min</th>\n",
       "      <td>NaN</td>\n",
       "      <td>NaN</td>\n",
       "    </tr>\n",
       "    <tr>\n",
       "      <th>25%</th>\n",
       "      <td>NaN</td>\n",
       "      <td>NaN</td>\n",
       "    </tr>\n",
       "    <tr>\n",
       "      <th>50%</th>\n",
       "      <td>NaN</td>\n",
       "      <td>NaN</td>\n",
       "    </tr>\n",
       "    <tr>\n",
       "      <th>75%</th>\n",
       "      <td>NaN</td>\n",
       "      <td>NaN</td>\n",
       "    </tr>\n",
       "    <tr>\n",
       "      <th>max</th>\n",
       "      <td>NaN</td>\n",
       "      <td>NaN</td>\n",
       "    </tr>\n",
       "  </tbody>\n",
       "</table>\n",
       "</div>"
      ],
      "text/plain": [
       "       methods  conclusions\n",
       "count      0.0          0.0\n",
       "mean       NaN          NaN\n",
       "std        NaN          NaN\n",
       "min        NaN          NaN\n",
       "25%        NaN          NaN\n",
       "50%        NaN          NaN\n",
       "75%        NaN          NaN\n",
       "max        NaN          NaN"
      ]
     },
     "execution_count": 8,
     "metadata": {},
     "output_type": "execute_result"
    }
   ],
   "source": [
    "jneuro[['methods', 'conclusions']].describe()"
   ]
  },
  {
   "cell_type": "markdown",
   "metadata": {},
   "source": [
    "- **Next step**: change datatypes to its proper form\n",
    "    1. publication_date : datetime\n",
    "    2. methods & conclusions : drop since both columns are empty"
   ]
  },
  {
   "cell_type": "code",
   "execution_count": 9,
   "metadata": {},
   "outputs": [
    {
     "name": "stdout",
     "output_type": "stream",
     "text": [
      "object\n",
      "datetime64[ns]\n"
     ]
    }
   ],
   "source": [
    "# Before convertin dtype of'publication_date'\n",
    "print(jneuro['publication_date'].dtype)\n",
    "\n",
    "# Convert the date type to datetime64\n",
    "jneuro['publication_date'] = pd.to_datetime(jneuro['publication_date'])\n",
    "\n",
    "# After convertin dtype of'publication_date'\n",
    "print(jneuro['publication_date'].dtype)"
   ]
  },
  {
   "cell_type": "code",
   "execution_count": 10,
   "metadata": {},
   "outputs": [
    {
     "data": {
      "text/plain": [
       "<matplotlib.axes._subplots.AxesSubplot at 0x7f1a77541b90>"
      ]
     },
     "execution_count": 10,
     "metadata": {},
     "output_type": "execute_result"
    },
    {
     "data": {
      "image/png": "[encoded data removed]",
      "text/plain": [
       "<Figure size 432x288 with 1 Axes>"
      ]
     },
     "metadata": {
      "needs_background": "light"
     },
     "output_type": "display_data"
    }
   ],
   "source": [
    "sns.countplot(jneuro['publication_date'].dt.year)"
   ]
  },
  {
   "cell_type": "markdown",
   "metadata": {},
   "source": [
    "- Decreased # of total publication each year\n",
    "    - Is this true? why?"
   ]
  },
  {
   "cell_type": "code",
   "execution_count": 44,
   "metadata": {},
   "outputs": [],
   "source": [
    "# To do later: Maybe issuing interval or articles per release changed?"
   ]
  },
  {
   "cell_type": "markdown",
   "metadata": {},
   "source": [
    " "
   ]
  },
  {
   "cell_type": "code",
   "execution_count": 45,
   "metadata": {},
   "outputs": [],
   "source": [
    "jneuro_1 = jneuro.drop(columns=['methods', 'conclusions'])"
   ]
  },
  {
   "cell_type": "code",
   "execution_count": 46,
   "metadata": {},
   "outputs": [
    {
     "data": {
      "text/plain": [
       "pubmed_id                   object\n",
       "title                       object\n",
       "abstract                    object\n",
       "keywords                    object\n",
       "journal                     object\n",
       "publication_date    datetime64[ns]\n",
       "authors                     object\n",
       "results                     object\n",
       "copyrights                  object\n",
       "doi                         object\n",
       "xml                         object\n",
       "dtype: object"
      ]
     },
     "execution_count": 46,
     "metadata": {},
     "output_type": "execute_result"
    }
   ],
   "source": [
    "jneuro_1.dtypes"
   ]
  },
  {
   "cell_type": "markdown",
   "metadata": {},
   "source": [
    "### 2. Take care of empty values"
   ]
  },
  {
   "cell_type": "code",
   "execution_count": 50,
   "metadata": {},
   "outputs": [
    {
     "data": {
      "text/html": [
       "<div>\n",
       "<style scoped>\n",
       "    .dataframe tbody tr th:only-of-type {\n",
       "        vertical-align: middle;\n",
       "    }\n",
       "\n",
       "    .dataframe tbody tr th {\n",
       "        vertical-align: top;\n",
       "    }\n",
       "\n",
       "    .dataframe thead th {\n",
       "        text-align: right;\n",
       "    }\n",
       "</style>\n",
       "<table border=\"1\" class=\"dataframe\">\n",
       "  <thead>\n",
       "    <tr style=\"text-align: right;\">\n",
       "      <th></th>\n",
       "      <th>pubmed_id</th>\n",
       "      <th>title</th>\n",
       "      <th>abstract</th>\n",
       "      <th>keywords</th>\n",
       "      <th>journal</th>\n",
       "      <th>publication_date</th>\n",
       "      <th>authors</th>\n",
       "      <th>results</th>\n",
       "      <th>copyrights</th>\n",
       "      <th>doi</th>\n",
       "      <th>xml</th>\n",
       "    </tr>\n",
       "  </thead>\n",
       "  <tbody>\n",
       "    <tr>\n",
       "      <th>0</th>\n",
       "      <td>32737169</td>\n",
       "      <td>Erratum: Salido and Ramamurthy, \"Proteoglycan ...</td>\n",
       "      <td>NaN</td>\n",
       "      <td>NaN</td>\n",
       "      <td>The Journal of neuroscience : the official jou...</td>\n",
       "      <td>2020-08-02</td>\n",
       "      <td>NaN</td>\n",
       "      <td>NaN</td>\n",
       "      <td>NaN</td>\n",
       "      <td>10.1523/JNEUROSCI.1846-20.2020</td>\n",
       "      <td>&lt;Element 'PubmedArticle' at 0x7f18e0bb0a10&gt;</td>\n",
       "    </tr>\n",
       "    <tr>\n",
       "      <th>1</th>\n",
       "      <td>32737168</td>\n",
       "      <td>Erratum: Keitel et al., \"Medial Nucleus Accumb...</td>\n",
       "      <td>NaN</td>\n",
       "      <td>NaN</td>\n",
       "      <td>The Journal of neuroscience : the official jou...</td>\n",
       "      <td>2020-08-02</td>\n",
       "      <td>NaN</td>\n",
       "      <td>NaN</td>\n",
       "      <td>NaN</td>\n",
       "      <td>10.1523/JNEUROSCI.1829-20.2020</td>\n",
       "      <td>&lt;Element 'PubmedArticle' at 0x7f18e07a1050&gt;</td>\n",
       "    </tr>\n",
       "    <tr>\n",
       "      <th>2</th>\n",
       "      <td>32737167</td>\n",
       "      <td>The neocortical progenitor specification progr...</td>\n",
       "      <td>Neuronal progenitors in the developing forebra...</td>\n",
       "      <td>NaN</td>\n",
       "      <td>The Journal of neuroscience : the official jou...</td>\n",
       "      <td>2020-08-02</td>\n",
       "      <td>[{'lastname': 'Yabut', 'firstname': 'Odessa R'...</td>\n",
       "      <td>NaN</td>\n",
       "      <td>Copyright © 2020 the authors.</td>\n",
       "      <td>10.1523/JNEUROSCI.2888-19.2020</td>\n",
       "      <td>&lt;Element 'PubmedArticle' at 0x7f18e07d5b90&gt;</td>\n",
       "    </tr>\n",
       "    <tr>\n",
       "      <th>3</th>\n",
       "      <td>32732324</td>\n",
       "      <td>Flexible coordinator and switcher hubs for ada...</td>\n",
       "      <td>Functional connectivity studies have identifie...</td>\n",
       "      <td>NaN</td>\n",
       "      <td>The Journal of neuroscience : the official jou...</td>\n",
       "      <td>2020-08-01</td>\n",
       "      <td>[{'lastname': 'Cocuzza', 'firstname': 'Carrisa...</td>\n",
       "      <td>NaN</td>\n",
       "      <td>Copyright © 2020 the authors.</td>\n",
       "      <td>10.1523/JNEUROSCI.2559-19.2020</td>\n",
       "      <td>&lt;Element 'PubmedArticle' at 0x7f18e07c2a10&gt;</td>\n",
       "    </tr>\n",
       "    <tr>\n",
       "      <th>4</th>\n",
       "      <td>32727820</td>\n",
       "      <td>Responses to Visual Speech in Human Posterior ...</td>\n",
       "      <td>Experimentalists studying multisensory integra...</td>\n",
       "      <td>NaN</td>\n",
       "      <td>The Journal of neuroscience : the official jou...</td>\n",
       "      <td>2020-07-31</td>\n",
       "      <td>[{'lastname': 'Metzger', 'firstname': 'Brian A...</td>\n",
       "      <td>NaN</td>\n",
       "      <td>Copyright © 2020 Metzger et al.</td>\n",
       "      <td>10.1523/JNEUROSCI.0279-20.2020</td>\n",
       "      <td>&lt;Element 'PubmedArticle' at 0x7f18e07cc710&gt;</td>\n",
       "    </tr>\n",
       "  </tbody>\n",
       "</table>\n",
       "</div>"
      ],
      "text/plain": [
       "  pubmed_id                                              title  \\\n",
       "0  32737169  Erratum: Salido and Ramamurthy, \"Proteoglycan ...   \n",
       "1  32737168  Erratum: Keitel et al., \"Medial Nucleus Accumb...   \n",
       "2  32737167  The neocortical progenitor specification progr...   \n",
       "3  32732324  Flexible coordinator and switcher hubs for ada...   \n",
       "4  32727820  Responses to Visual Speech in Human Posterior ...   \n",
       "\n",
       "                                            abstract keywords  \\\n",
       "0                                                NaN      NaN   \n",
       "1                                                NaN      NaN   \n",
       "2  Neuronal progenitors in the developing forebra...      NaN   \n",
       "3  Functional connectivity studies have identifie...      NaN   \n",
       "4  Experimentalists studying multisensory integra...      NaN   \n",
       "\n",
       "                                             journal publication_date  \\\n",
       "0  The Journal of neuroscience : the official jou...       2020-08-02   \n",
       "1  The Journal of neuroscience : the official jou...       2020-08-02   \n",
       "2  The Journal of neuroscience : the official jou...       2020-08-02   \n",
       "3  The Journal of neuroscience : the official jou...       2020-08-01   \n",
       "4  The Journal of neuroscience : the official jou...       2020-07-31   \n",
       "\n",
       "                                             authors results  \\\n",
       "0                                                NaN     NaN   \n",
       "1                                                NaN     NaN   \n",
       "2  [{'lastname': 'Yabut', 'firstname': 'Odessa R'...     NaN   \n",
       "3  [{'lastname': 'Cocuzza', 'firstname': 'Carrisa...     NaN   \n",
       "4  [{'lastname': 'Metzger', 'firstname': 'Brian A...     NaN   \n",
       "\n",
       "                        copyrights                             doi  \\\n",
       "0                              NaN  10.1523/JNEUROSCI.1846-20.2020   \n",
       "1                              NaN  10.1523/JNEUROSCI.1829-20.2020   \n",
       "2    Copyright © 2020 the authors.  10.1523/JNEUROSCI.2888-19.2020   \n",
       "3    Copyright © 2020 the authors.  10.1523/JNEUROSCI.2559-19.2020   \n",
       "4  Copyright © 2020 Metzger et al.  10.1523/JNEUROSCI.0279-20.2020   \n",
       "\n",
       "                                           xml  \n",
       "0  <Element 'PubmedArticle' at 0x7f18e0bb0a10>  \n",
       "1  <Element 'PubmedArticle' at 0x7f18e07a1050>  \n",
       "2  <Element 'PubmedArticle' at 0x7f18e07d5b90>  \n",
       "3  <Element 'PubmedArticle' at 0x7f18e07c2a10>  \n",
       "4  <Element 'PubmedArticle' at 0x7f18e07cc710>  "
      ]
     },
     "execution_count": 50,
     "metadata": {},
     "output_type": "execute_result"
    }
   ],
   "source": [
    "# First, let's use .replace() and substitute ('[]') with np.nan\n",
    "# To unify the respresentation of empty values\n",
    "\n",
    "jneuro_1.replace(to_replace='[]', value=np.nan, inplace=True)\n",
    "jneuro_1.head()"
   ]
  },
  {
   "cell_type": "code",
   "execution_count": 51,
   "metadata": {},
   "outputs": [
    {
     "data": {
      "text/plain": [
       "pubmed_id           0.000000\n",
       "title               0.001885\n",
       "abstract            0.053322\n",
       "keywords            0.487514\n",
       "journal             0.000000\n",
       "publication_date    0.000000\n",
       "authors             0.009895\n",
       "results             0.999921\n",
       "copyrights          0.515156\n",
       "doi                 0.000550\n",
       "xml                 0.000000\n",
       "dtype: float64"
      ]
     },
     "execution_count": 51,
     "metadata": {},
     "output_type": "execute_result"
    }
   ],
   "source": [
    "jneuro_1.isnull().mean()"
   ]
  },
  {
   "cell_type": "code",
   "execution_count": 53,
   "metadata": {},
   "outputs": [
    {
     "data": {
      "text/plain": [
       "pubmed_id              0\n",
       "title                 24\n",
       "abstract             679\n",
       "keywords            6208\n",
       "journal                0\n",
       "publication_date       0\n",
       "authors              126\n",
       "doi                    7\n",
       "xml                    0\n",
       "dtype: int64"
      ]
     },
     "execution_count": 53,
     "metadata": {},
     "output_type": "execute_result"
    }
   ],
   "source": [
    "# Drop columns that have high proportion of empty values (>50%)\n",
    "# and are not necessary information for research trend analysis\n",
    "# Let's keep the 'keywords' column for now\n",
    "\n",
    "cols_to_drop = ['results', 'copyrights']\n",
    "jneuro_1.drop(columns=cols_to_drop, inplace=True)\n",
    "jneuro_1.isnull().sum()"
   ]
  },
  {
   "cell_type": "code",
   "execution_count": 54,
   "metadata": {},
   "outputs": [
    {
     "data": {
      "text/plain": [
       "pubmed_id              0\n",
       "title                 24\n",
       "abstract             679\n",
       "keywords            6208\n",
       "publication_date       0\n",
       "authors              126\n",
       "dtype: int64"
      ]
     },
     "execution_count": 54,
     "metadata": {},
     "output_type": "execute_result"
    }
   ],
   "source": [
    "# Drop more columns which do not provide any info about research content\n",
    "\n",
    "more_cols_to_drop = ['journal', 'doi', 'xml']\n",
    "jneuro_1.drop(columns=more_cols_to_drop, inplace=True)\n",
    "jneuro_1.isnull().sum()"
   ]
  },
  {
   "cell_type": "markdown",
   "metadata": {},
   "source": [
    " "
   ]
  },
  {
   "cell_type": "markdown",
   "metadata": {},
   "source": [
    "**2-1. Articles missing title**"
   ]
  },
  {
   "cell_type": "code",
   "execution_count": 147,
   "metadata": {},
   "outputs": [
    {
     "name": "stdout",
     "output_type": "stream",
     "text": [
      "(12734, 6)\n"
     ]
    },
    {
     "data": {
      "text/html": [
       "<div>\n",
       "<style scoped>\n",
       "    .dataframe tbody tr th:only-of-type {\n",
       "        vertical-align: middle;\n",
       "    }\n",
       "\n",
       "    .dataframe tbody tr th {\n",
       "        vertical-align: top;\n",
       "    }\n",
       "\n",
       "    .dataframe thead th {\n",
       "        text-align: right;\n",
       "    }\n",
       "</style>\n",
       "<table border=\"1\" class=\"dataframe\">\n",
       "  <thead>\n",
       "    <tr style=\"text-align: right;\">\n",
       "      <th></th>\n",
       "      <th>pubmed_id</th>\n",
       "      <th>title</th>\n",
       "      <th>abstract</th>\n",
       "      <th>keywords</th>\n",
       "      <th>publication_date</th>\n",
       "      <th>authors</th>\n",
       "    </tr>\n",
       "  </thead>\n",
       "  <tbody>\n",
       "    <tr>\n",
       "      <th>0</th>\n",
       "      <td>32737169</td>\n",
       "      <td>Erratum: Salido and Ramamurthy, \"Proteoglycan ...</td>\n",
       "      <td>NaN</td>\n",
       "      <td>NaN</td>\n",
       "      <td>2020-08-02</td>\n",
       "      <td>NaN</td>\n",
       "    </tr>\n",
       "    <tr>\n",
       "      <th>1</th>\n",
       "      <td>32737168</td>\n",
       "      <td>Erratum: Keitel et al., \"Medial Nucleus Accumb...</td>\n",
       "      <td>NaN</td>\n",
       "      <td>NaN</td>\n",
       "      <td>2020-08-02</td>\n",
       "      <td>NaN</td>\n",
       "    </tr>\n",
       "    <tr>\n",
       "      <th>2</th>\n",
       "      <td>32737167</td>\n",
       "      <td>The neocortical progenitor specification progr...</td>\n",
       "      <td>Neuronal progenitors in the developing forebra...</td>\n",
       "      <td>NaN</td>\n",
       "      <td>2020-08-02</td>\n",
       "      <td>[{'lastname': 'Yabut', 'firstname': 'Odessa R'...</td>\n",
       "    </tr>\n",
       "    <tr>\n",
       "      <th>3</th>\n",
       "      <td>32732324</td>\n",
       "      <td>Flexible coordinator and switcher hubs for ada...</td>\n",
       "      <td>Functional connectivity studies have identifie...</td>\n",
       "      <td>NaN</td>\n",
       "      <td>2020-08-01</td>\n",
       "      <td>[{'lastname': 'Cocuzza', 'firstname': 'Carrisa...</td>\n",
       "    </tr>\n",
       "    <tr>\n",
       "      <th>4</th>\n",
       "      <td>32727820</td>\n",
       "      <td>Responses to Visual Speech in Human Posterior ...</td>\n",
       "      <td>Experimentalists studying multisensory integra...</td>\n",
       "      <td>NaN</td>\n",
       "      <td>2020-07-31</td>\n",
       "      <td>[{'lastname': 'Metzger', 'firstname': 'Brian A...</td>\n",
       "    </tr>\n",
       "  </tbody>\n",
       "</table>\n",
       "</div>"
      ],
      "text/plain": [
       "  pubmed_id                                              title  \\\n",
       "0  32737169  Erratum: Salido and Ramamurthy, \"Proteoglycan ...   \n",
       "1  32737168  Erratum: Keitel et al., \"Medial Nucleus Accumb...   \n",
       "2  32737167  The neocortical progenitor specification progr...   \n",
       "3  32732324  Flexible coordinator and switcher hubs for ada...   \n",
       "4  32727820  Responses to Visual Speech in Human Posterior ...   \n",
       "\n",
       "                                            abstract keywords  \\\n",
       "0                                                NaN      NaN   \n",
       "1                                                NaN      NaN   \n",
       "2  Neuronal progenitors in the developing forebra...      NaN   \n",
       "3  Functional connectivity studies have identifie...      NaN   \n",
       "4  Experimentalists studying multisensory integra...      NaN   \n",
       "\n",
       "  publication_date                                            authors  \n",
       "0       2020-08-02                                                NaN  \n",
       "1       2020-08-02                                                NaN  \n",
       "2       2020-08-02  [{'lastname': 'Yabut', 'firstname': 'Odessa R'...  \n",
       "3       2020-08-01  [{'lastname': 'Cocuzza', 'firstname': 'Carrisa...  \n",
       "4       2020-07-31  [{'lastname': 'Metzger', 'firstname': 'Brian A...  "
      ]
     },
     "execution_count": 147,
     "metadata": {},
     "output_type": "execute_result"
    }
   ],
   "source": [
    "jneuro_2 = jneuro_1.copy()\n",
    "\n",
    "print(jneuro_2.shape)\n",
    "jneuro_2[jneuro_2.isnull().any(axis=1)].head()"
   ]
  },
  {
   "cell_type": "code",
   "execution_count": 148,
   "metadata": {},
   "outputs": [
    {
     "name": "stdout",
     "output_type": "stream",
     "text": [
      "(12729, 6)\n"
     ]
    },
    {
     "data": {
      "text/html": [
       "<div>\n",
       "<style scoped>\n",
       "    .dataframe tbody tr th:only-of-type {\n",
       "        vertical-align: middle;\n",
       "    }\n",
       "\n",
       "    .dataframe tbody tr th {\n",
       "        vertical-align: top;\n",
       "    }\n",
       "\n",
       "    .dataframe thead th {\n",
       "        text-align: right;\n",
       "    }\n",
       "</style>\n",
       "<table border=\"1\" class=\"dataframe\">\n",
       "  <thead>\n",
       "    <tr style=\"text-align: right;\">\n",
       "      <th></th>\n",
       "      <th>pubmed_id</th>\n",
       "      <th>title</th>\n",
       "      <th>abstract</th>\n",
       "      <th>keywords</th>\n",
       "      <th>publication_date</th>\n",
       "      <th>authors</th>\n",
       "    </tr>\n",
       "  </thead>\n",
       "  <tbody>\n",
       "    <tr>\n",
       "      <th>0</th>\n",
       "      <td>32737169</td>\n",
       "      <td>Erratum: Salido and Ramamurthy, \"Proteoglycan ...</td>\n",
       "      <td>NaN</td>\n",
       "      <td>NaN</td>\n",
       "      <td>2020-08-02</td>\n",
       "      <td>NaN</td>\n",
       "    </tr>\n",
       "    <tr>\n",
       "      <th>1</th>\n",
       "      <td>32737168</td>\n",
       "      <td>Erratum: Keitel et al., \"Medial Nucleus Accumb...</td>\n",
       "      <td>NaN</td>\n",
       "      <td>NaN</td>\n",
       "      <td>2020-08-02</td>\n",
       "      <td>NaN</td>\n",
       "    </tr>\n",
       "    <tr>\n",
       "      <th>2</th>\n",
       "      <td>32737167</td>\n",
       "      <td>The neocortical progenitor specification progr...</td>\n",
       "      <td>Neuronal progenitors in the developing forebra...</td>\n",
       "      <td>NaN</td>\n",
       "      <td>2020-08-02</td>\n",
       "      <td>[{'lastname': 'Yabut', 'firstname': 'Odessa R'...</td>\n",
       "    </tr>\n",
       "    <tr>\n",
       "      <th>3</th>\n",
       "      <td>32732324</td>\n",
       "      <td>Flexible coordinator and switcher hubs for ada...</td>\n",
       "      <td>Functional connectivity studies have identifie...</td>\n",
       "      <td>NaN</td>\n",
       "      <td>2020-08-01</td>\n",
       "      <td>[{'lastname': 'Cocuzza', 'firstname': 'Carrisa...</td>\n",
       "    </tr>\n",
       "    <tr>\n",
       "      <th>4</th>\n",
       "      <td>32727820</td>\n",
       "      <td>Responses to Visual Speech in Human Posterior ...</td>\n",
       "      <td>Experimentalists studying multisensory integra...</td>\n",
       "      <td>NaN</td>\n",
       "      <td>2020-07-31</td>\n",
       "      <td>[{'lastname': 'Metzger', 'firstname': 'Brian A...</td>\n",
       "    </tr>\n",
       "  </tbody>\n",
       "</table>\n",
       "</div>"
      ],
      "text/plain": [
       "  pubmed_id                                              title  \\\n",
       "0  32737169  Erratum: Salido and Ramamurthy, \"Proteoglycan ...   \n",
       "1  32737168  Erratum: Keitel et al., \"Medial Nucleus Accumb...   \n",
       "2  32737167  The neocortical progenitor specification progr...   \n",
       "3  32732324  Flexible coordinator and switcher hubs for ada...   \n",
       "4  32727820  Responses to Visual Speech in Human Posterior ...   \n",
       "\n",
       "                                            abstract keywords  \\\n",
       "0                                                NaN      NaN   \n",
       "1                                                NaN      NaN   \n",
       "2  Neuronal progenitors in the developing forebra...      NaN   \n",
       "3  Functional connectivity studies have identifie...      NaN   \n",
       "4  Experimentalists studying multisensory integra...      NaN   \n",
       "\n",
       "  publication_date                                            authors  \n",
       "0       2020-08-02                                                NaN  \n",
       "1       2020-08-02                                                NaN  \n",
       "2       2020-08-02  [{'lastname': 'Yabut', 'firstname': 'Odessa R'...  \n",
       "3       2020-08-01  [{'lastname': 'Cocuzza', 'firstname': 'Carrisa...  \n",
       "4       2020-07-31  [{'lastname': 'Metzger', 'firstname': 'Brian A...  "
      ]
     },
     "execution_count": 148,
     "metadata": {},
     "output_type": "execute_result"
    }
   ],
   "source": [
    "# case 1: No title, but abtract exist -> keep the row for now\n",
    "# case 2: No title, no abstract -> No information to draw, simply drop rows\n",
    "\n",
    "no_titles = jneuro['title'].isnull()\n",
    "no_abstracts = jneuro['abstract'].isnull()\n",
    "\n",
    "jneuro_2 = jneuro_2[~((no_titles) & (no_abstracts))]\n",
    "\n",
    "\n",
    "print(jneuro_2.shape)\n",
    "jneuro_2.head()"
   ]
  },
  {
   "cell_type": "code",
   "execution_count": 149,
   "metadata": {},
   "outputs": [
    {
     "name": "stdout",
     "output_type": "stream",
     "text": [
      "(12684, 6)\n"
     ]
    },
    {
     "data": {
      "text/html": [
       "<div>\n",
       "<style scoped>\n",
       "    .dataframe tbody tr th:only-of-type {\n",
       "        vertical-align: middle;\n",
       "    }\n",
       "\n",
       "    .dataframe tbody tr th {\n",
       "        vertical-align: top;\n",
       "    }\n",
       "\n",
       "    .dataframe thead th {\n",
       "        text-align: right;\n",
       "    }\n",
       "</style>\n",
       "<table border=\"1\" class=\"dataframe\">\n",
       "  <thead>\n",
       "    <tr style=\"text-align: right;\">\n",
       "      <th></th>\n",
       "      <th>pubmed_id</th>\n",
       "      <th>title</th>\n",
       "      <th>abstract</th>\n",
       "      <th>keywords</th>\n",
       "      <th>publication_date</th>\n",
       "      <th>authors</th>\n",
       "    </tr>\n",
       "  </thead>\n",
       "  <tbody>\n",
       "    <tr>\n",
       "      <th>2</th>\n",
       "      <td>32737167</td>\n",
       "      <td>The neocortical progenitor specification progr...</td>\n",
       "      <td>Neuronal progenitors in the developing forebra...</td>\n",
       "      <td>NaN</td>\n",
       "      <td>2020-08-02</td>\n",
       "      <td>[{'lastname': 'Yabut', 'firstname': 'Odessa R'...</td>\n",
       "    </tr>\n",
       "    <tr>\n",
       "      <th>3</th>\n",
       "      <td>32732324</td>\n",
       "      <td>Flexible coordinator and switcher hubs for ada...</td>\n",
       "      <td>Functional connectivity studies have identifie...</td>\n",
       "      <td>NaN</td>\n",
       "      <td>2020-08-01</td>\n",
       "      <td>[{'lastname': 'Cocuzza', 'firstname': 'Carrisa...</td>\n",
       "    </tr>\n",
       "    <tr>\n",
       "      <th>4</th>\n",
       "      <td>32727820</td>\n",
       "      <td>Responses to Visual Speech in Human Posterior ...</td>\n",
       "      <td>Experimentalists studying multisensory integra...</td>\n",
       "      <td>NaN</td>\n",
       "      <td>2020-07-31</td>\n",
       "      <td>[{'lastname': 'Metzger', 'firstname': 'Brian A...</td>\n",
       "    </tr>\n",
       "    <tr>\n",
       "      <th>5</th>\n",
       "      <td>32727819</td>\n",
       "      <td>Activation of Infralimbic to Nucleus Accumbens...</td>\n",
       "      <td>Hedonic processing plays an integral role in d...</td>\n",
       "      <td>NaN</td>\n",
       "      <td>2020-07-31</td>\n",
       "      <td>[{'lastname': 'Hurley', 'firstname': 'Seth W',...</td>\n",
       "    </tr>\n",
       "    <tr>\n",
       "      <th>6</th>\n",
       "      <td>32719163</td>\n",
       "      <td>Hippocampal representation of threat features ...</td>\n",
       "      <td>Decisions under threat are crucial to survival...</td>\n",
       "      <td>NaN</td>\n",
       "      <td>2020-07-29</td>\n",
       "      <td>[{'lastname': 'Abivardi', 'firstname': 'Aslan'...</td>\n",
       "    </tr>\n",
       "  </tbody>\n",
       "</table>\n",
       "</div>"
      ],
      "text/plain": [
       "  pubmed_id                                              title  \\\n",
       "2  32737167  The neocortical progenitor specification progr...   \n",
       "3  32732324  Flexible coordinator and switcher hubs for ada...   \n",
       "4  32727820  Responses to Visual Speech in Human Posterior ...   \n",
       "5  32727819  Activation of Infralimbic to Nucleus Accumbens...   \n",
       "6  32719163  Hippocampal representation of threat features ...   \n",
       "\n",
       "                                            abstract keywords  \\\n",
       "2  Neuronal progenitors in the developing forebra...      NaN   \n",
       "3  Functional connectivity studies have identifie...      NaN   \n",
       "4  Experimentalists studying multisensory integra...      NaN   \n",
       "5  Hedonic processing plays an integral role in d...      NaN   \n",
       "6  Decisions under threat are crucial to survival...      NaN   \n",
       "\n",
       "  publication_date                                            authors  \n",
       "2       2020-08-02  [{'lastname': 'Yabut', 'firstname': 'Odessa R'...  \n",
       "3       2020-08-01  [{'lastname': 'Cocuzza', 'firstname': 'Carrisa...  \n",
       "4       2020-07-31  [{'lastname': 'Metzger', 'firstname': 'Brian A...  \n",
       "5       2020-07-31  [{'lastname': 'Hurley', 'firstname': 'Seth W',...  \n",
       "6       2020-07-29  [{'lastname': 'Abivardi', 'firstname': 'Aslan'...  "
      ]
     },
     "execution_count": 149,
     "metadata": {},
     "output_type": "execute_result"
    }
   ],
   "source": [
    "# case 3: Erratum statetment -> drop rows using regular expression: r'Erratum:*'\n",
    "\n",
    "find_erratum = jneuro_2['title'].str.contains(r'Erratum:*', na=False)\n",
    "\n",
    "found_erratum = jneuro_2[find_erratum]\n",
    "\n",
    "jneuro_2.drop(index=found_erratum.index, inplace=True)\n",
    "\n",
    "print(jneuro_2.shape)\n",
    "jneuro_2.head()"
   ]
  },
  {
   "cell_type": "code",
   "execution_count": 150,
   "metadata": {},
   "outputs": [
    {
     "data": {
      "text/plain": [
       "pubmed_id              0\n",
       "title                 19\n",
       "abstract             638\n",
       "keywords            6161\n",
       "publication_date       0\n",
       "authors               81\n",
       "dtype: int64"
      ]
     },
     "execution_count": 150,
     "metadata": {},
     "output_type": "execute_result"
    }
   ],
   "source": [
    "jneuro_2.isnull().sum()"
   ]
  },
  {
   "cell_type": "markdown",
   "metadata": {},
   "source": [
    "**2-2. Articles missing abstract**"
   ]
  },
  {
   "cell_type": "code",
   "execution_count": 151,
   "metadata": {},
   "outputs": [
    {
     "name": "stderr",
     "output_type": "stream",
     "text": [
      "/home/hyoj/anaconda3/lib/python3.7/site-packages/ipykernel_launcher.py:1: UserWarning: Boolean Series key will be reindexed to match DataFrame index.\n",
      "  \"\"\"Entry point for launching an IPython kernel.\n"
     ]
    },
    {
     "data": {
      "text/plain": [
       "<matplotlib.axes._subplots.AxesSubplot at 0x7f1a658e6ed0>"
      ]
     },
     "execution_count": 151,
     "metadata": {},
     "output_type": "execute_result"
    },
    {
     "data": {
      "image/png": "[encoded data removed]",
      "text/plain": [
       "<Figure size 432x288 with 1 Axes>"
      ]
     },
     "metadata": {
      "needs_background": "light"
     },
     "output_type": "display_data"
    }
   ],
   "source": [
    "missing_abstract = jneuro_2[no_abstracts]\n",
    "\n",
    "# \n",
    "sns.countplot(missing_abstract['publication_date'].dt.year)"
   ]
  },
  {
   "cell_type": "code",
   "execution_count": 152,
   "metadata": {},
   "outputs": [
    {
     "name": "stdout",
     "output_type": "stream",
     "text": [
      "(12046, 6)\n"
     ]
    },
    {
     "data": {
      "text/html": [
       "<div>\n",
       "<style scoped>\n",
       "    .dataframe tbody tr th:only-of-type {\n",
       "        vertical-align: middle;\n",
       "    }\n",
       "\n",
       "    .dataframe tbody tr th {\n",
       "        vertical-align: top;\n",
       "    }\n",
       "\n",
       "    .dataframe thead th {\n",
       "        text-align: right;\n",
       "    }\n",
       "</style>\n",
       "<table border=\"1\" class=\"dataframe\">\n",
       "  <thead>\n",
       "    <tr style=\"text-align: right;\">\n",
       "      <th></th>\n",
       "      <th>pubmed_id</th>\n",
       "      <th>title</th>\n",
       "      <th>abstract</th>\n",
       "      <th>keywords</th>\n",
       "      <th>publication_date</th>\n",
       "      <th>authors</th>\n",
       "    </tr>\n",
       "  </thead>\n",
       "  <tbody>\n",
       "    <tr>\n",
       "      <th>2</th>\n",
       "      <td>32737167</td>\n",
       "      <td>The neocortical progenitor specification progr...</td>\n",
       "      <td>Neuronal progenitors in the developing forebra...</td>\n",
       "      <td>NaN</td>\n",
       "      <td>2020-08-02</td>\n",
       "      <td>[{'lastname': 'Yabut', 'firstname': 'Odessa R'...</td>\n",
       "    </tr>\n",
       "    <tr>\n",
       "      <th>3</th>\n",
       "      <td>32732324</td>\n",
       "      <td>Flexible coordinator and switcher hubs for ada...</td>\n",
       "      <td>Functional connectivity studies have identifie...</td>\n",
       "      <td>NaN</td>\n",
       "      <td>2020-08-01</td>\n",
       "      <td>[{'lastname': 'Cocuzza', 'firstname': 'Carrisa...</td>\n",
       "    </tr>\n",
       "    <tr>\n",
       "      <th>4</th>\n",
       "      <td>32727820</td>\n",
       "      <td>Responses to Visual Speech in Human Posterior ...</td>\n",
       "      <td>Experimentalists studying multisensory integra...</td>\n",
       "      <td>NaN</td>\n",
       "      <td>2020-07-31</td>\n",
       "      <td>[{'lastname': 'Metzger', 'firstname': 'Brian A...</td>\n",
       "    </tr>\n",
       "    <tr>\n",
       "      <th>5</th>\n",
       "      <td>32727819</td>\n",
       "      <td>Activation of Infralimbic to Nucleus Accumbens...</td>\n",
       "      <td>Hedonic processing plays an integral role in d...</td>\n",
       "      <td>NaN</td>\n",
       "      <td>2020-07-31</td>\n",
       "      <td>[{'lastname': 'Hurley', 'firstname': 'Seth W',...</td>\n",
       "    </tr>\n",
       "    <tr>\n",
       "      <th>6</th>\n",
       "      <td>32719163</td>\n",
       "      <td>Hippocampal representation of threat features ...</td>\n",
       "      <td>Decisions under threat are crucial to survival...</td>\n",
       "      <td>NaN</td>\n",
       "      <td>2020-07-29</td>\n",
       "      <td>[{'lastname': 'Abivardi', 'firstname': 'Aslan'...</td>\n",
       "    </tr>\n",
       "  </tbody>\n",
       "</table>\n",
       "</div>"
      ],
      "text/plain": [
       "  pubmed_id                                              title  \\\n",
       "2  32737167  The neocortical progenitor specification progr...   \n",
       "3  32732324  Flexible coordinator and switcher hubs for ada...   \n",
       "4  32727820  Responses to Visual Speech in Human Posterior ...   \n",
       "5  32727819  Activation of Infralimbic to Nucleus Accumbens...   \n",
       "6  32719163  Hippocampal representation of threat features ...   \n",
       "\n",
       "                                            abstract keywords  \\\n",
       "2  Neuronal progenitors in the developing forebra...      NaN   \n",
       "3  Functional connectivity studies have identifie...      NaN   \n",
       "4  Experimentalists studying multisensory integra...      NaN   \n",
       "5  Hedonic processing plays an integral role in d...      NaN   \n",
       "6  Decisions under threat are crucial to survival...      NaN   \n",
       "\n",
       "  publication_date                                            authors  \n",
       "2       2020-08-02  [{'lastname': 'Yabut', 'firstname': 'Odessa R'...  \n",
       "3       2020-08-01  [{'lastname': 'Cocuzza', 'firstname': 'Carrisa...  \n",
       "4       2020-07-31  [{'lastname': 'Metzger', 'firstname': 'Brian A...  \n",
       "5       2020-07-31  [{'lastname': 'Hurley', 'firstname': 'Seth W',...  \n",
       "6       2020-07-29  [{'lastname': 'Abivardi', 'firstname': 'Aslan'...  "
      ]
     },
     "execution_count": 152,
     "metadata": {},
     "output_type": "execute_result"
    }
   ],
   "source": [
    "# It's hard to impute an abstract without the entire contents of articles.\n",
    "# Thus, let's drop these row without abs\n",
    "\n",
    "jneuro_2.drop(index=missing_abstract.index, inplace=True)\n",
    "\n",
    "print(jneuro_2.shape)\n",
    "jneuro_2.head()"
   ]
  },
  {
   "cell_type": "code",
   "execution_count": 153,
   "metadata": {},
   "outputs": [
    {
     "data": {
      "text/plain": [
       "pubmed_id              0\n",
       "title                 19\n",
       "abstract               0\n",
       "keywords            5536\n",
       "publication_date       0\n",
       "authors               38\n",
       "dtype: int64"
      ]
     },
     "execution_count": 153,
     "metadata": {},
     "output_type": "execute_result"
    }
   ],
   "source": [
    "jneuro_2.isnull().sum()"
   ]
  },
  {
   "cell_type": "code",
   "execution_count": null,
   "metadata": {},
   "outputs": [],
   "source": []
  },
  {
   "cell_type": "markdown",
   "metadata": {},
   "source": [
    "## To-dos  for cleaning:\n",
    "\n",
    "- what's happening with pubmed_id? is it ok to drop this col?\n",
    "- duplicated values?\n",
    "- data inconsistency?\n",
    "- flatten author column? or drop it for now"
   ]
  },
  {
   "cell_type": "markdown",
   "metadata": {},
   "source": [
    "# research-trend-analysis\n",
    "\n",
    "Natural Language Processing project:\n",
    "\n",
    "### Objective\n",
    "To analyze annual research trend of a specific journal in the last 10 years using techniques we learned from NLP classes.\n",
    "\n",
    "- **Step 1**: Data mining: data was extracted using [PubMed](https://pubmed.ncbi.nlm.nih.gov/)'s API and an established library, [PyMed](https://github.com/PyMed/PyMed).\n",
    "\n",
    "- **Step 2**: Data exploration and preprocessing\n",
    "\n",
    "- **Step 3**: Text representation\n",
    "\n",
    "- **Step 4**: Information extraction"
   ]
  },
  {
   "cell_type": "code",
   "execution_count": null,
   "metadata": {},
   "outputs": [],
   "source": []
  }
 ],
 "metadata": {
  "kernelspec": {
   "display_name": "Python 3",
   "language": "python",
   "name": "python3"
  },
  "language_info": {
   "codemirror_mode": {
    "name": "ipython",
    "version": 3
   },
   "file_extension": ".py",
   "mimetype": "text/x-python",
   "name": "python",
   "nbconvert_exporter": "python",
   "pygments_lexer": "ipython3",
   "version": "3.7.6"
  }
 },
 "nbformat": 4,
 "nbformat_minor": 4
}
