{
 "cells": [
  {
   "cell_type": "markdown",
   "metadata": {},
   "source": [
    "# Data extraction"
   ]
  },
  {
   "cell_type": "code",
   "execution_count": null,
   "metadata": {},
   "outputs": [],
   "source": [
    "# Install pymed: a Python library that provides access to PubMed through the PubMed API.\n",
    "# https://github.com/gijswobben/pymed\n",
    "\n",
    "pip install pymed"
   ]
  },
  {
   "cell_type": "code",
   "execution_count": 42,
   "metadata": {},
   "outputs": [],
   "source": [
    "from pymed import PubMed\n",
    "import pandas as pd\n",
    "import numpy as np\n",
    "import csv"
   ]
  },
  {
   "cell_type": "code",
   "execution_count": 2,
   "metadata": {},
   "outputs": [],
   "source": [
    "# Query form generator for pubmed: https://pubmed.ncbi.nlm.nih.gov/advanced/\n",
    "\n",
    "pubmed = PubMed()\n",
    "\n",
    "my_query = \"\"\"\n",
    "(\"The Journal of neuroscience : the official journal of the Society for Neuroscience\"[Journal])\n",
    "AND (\"2011\"[Date - Publication] : \"2020\"[Date - Publication])\n",
    "\"\"\"\n",
    "\n",
    "results = pubmed.query(my_query, max_results=15000)"
   ]
  },
  {
   "cell_type": "code",
   "execution_count": 3,
   "metadata": {},
   "outputs": [
    {
     "name": "stdout",
     "output_type": "stream",
     "text": [
      "<itertools.chain object at 0x7f1aa8dbc6d0>\n"
     ]
    }
   ],
   "source": [
    "print(results)"
   ]
  },
  {
   "cell_type": "markdown",
   "metadata": {},
   "source": [
    "- 'results' is an intertools.chain object of size > 10,000 rows"
   ]
  },
  {
   "cell_type": "code",
   "execution_count": null,
   "metadata": {},
   "outputs": [],
   "source": [
    "# Write a new CSV file using 'csv.writer'\n",
    "# First step: convert the text into a dictionary\n",
    "# Second step: write a new row of .csv file by using 'writerow' method\n",
    "# Result: at every iter, a new row will be written in the csv\n",
    "# Why do this: it's faster than appending each row to a list or a dictionary...\n",
    "\n",
    "def create_csv(iterable, filename): # filename: output csv filename\n",
    "    filename_csv = (filename+'.'+'csv')\n",
    "    \n",
    "    with open(filename_csv, 'w') as csvfile:\n",
    "        writer = csv.writer(csvfile)\n",
    "\n",
    "        for it in iterable:\n",
    "            it_dict = it.toDict()\n",
    "            writer.writerow(val for key, val in it_dict.items())\n",
    "\n",
    "\n",
    "create_csv(results, 'jneuro')"
   ]
  },
  {
   "cell_type": "code",
   "execution_count": 4,
   "metadata": {},
   "outputs": [
    {
     "name": "stdout",
     "output_type": "stream",
     "text": [
      "['pubmed_id', 'title', 'abstract', 'keywords', 'journal', 'publication_date', 'authors', 'methods', 'conclusions', 'results', 'copyrights', 'doi', 'xml']\n"
     ]
    }
   ],
   "source": [
    "# Extract column names\n",
    "\n",
    "for result in results:\n",
    "    result_dict = result.toDict()\n",
    "    if len(result_dict) > 0:\n",
    "        break\n",
    "\n",
    "columns = [key for key, val in result_dict.items()]\n",
    "print(columns)"
   ]
  },
  {
   "cell_type": "code",
   "execution_count": 5,
   "metadata": {},
   "outputs": [
    {
     "name": "stdout",
     "output_type": "stream",
     "text": [
      "(12734, 13)\n"
     ]
    },
    {
     "data": {
      "text/html": [
       "<div>\n",
       "<style scoped>\n",
       "    .dataframe tbody tr th:only-of-type {\n",
       "        vertical-align: middle;\n",
       "    }\n",
       "\n",
       "    .dataframe tbody tr th {\n",
       "        vertical-align: top;\n",
       "    }\n",
       "\n",
       "    .dataframe thead th {\n",
       "        text-align: right;\n",
       "    }\n",
       "</style>\n",
       "<table border=\"1\" class=\"dataframe\">\n",
       "  <thead>\n",
       "    <tr style=\"text-align: right;\">\n",
       "      <th></th>\n",
       "      <th>pubmed_id</th>\n",
       "      <th>title</th>\n",
       "      <th>abstract</th>\n",
       "      <th>keywords</th>\n",
       "      <th>journal</th>\n",
       "      <th>publication_date</th>\n",
       "      <th>authors</th>\n",
       "      <th>methods</th>\n",
       "      <th>conclusions</th>\n",
       "      <th>results</th>\n",
       "      <th>copyrights</th>\n",
       "      <th>doi</th>\n",
       "      <th>xml</th>\n",
       "    </tr>\n",
       "  </thead>\n",
       "  <tbody>\n",
       "    <tr>\n",
       "      <th>0</th>\n",
       "      <td>32737169</td>\n",
       "      <td>Erratum: Salido and Ramamurthy, \"Proteoglycan ...</td>\n",
       "      <td>NaN</td>\n",
       "      <td>[]</td>\n",
       "      <td>The Journal of neuroscience : the official jou...</td>\n",
       "      <td>2020-08-02</td>\n",
       "      <td>[]</td>\n",
       "      <td>NaN</td>\n",
       "      <td>NaN</td>\n",
       "      <td>NaN</td>\n",
       "      <td>NaN</td>\n",
       "      <td>10.1523/JNEUROSCI.1846-20.2020</td>\n",
       "      <td>&lt;Element 'PubmedArticle' at 0x7f18e0bb0a10&gt;</td>\n",
       "    </tr>\n",
       "    <tr>\n",
       "      <th>1</th>\n",
       "      <td>32737168</td>\n",
       "      <td>Erratum: Keitel et al., \"Medial Nucleus Accumb...</td>\n",
       "      <td>NaN</td>\n",
       "      <td>[]</td>\n",
       "      <td>The Journal of neuroscience : the official jou...</td>\n",
       "      <td>2020-08-02</td>\n",
       "      <td>[]</td>\n",
       "      <td>NaN</td>\n",
       "      <td>NaN</td>\n",
       "      <td>NaN</td>\n",
       "      <td>NaN</td>\n",
       "      <td>10.1523/JNEUROSCI.1829-20.2020</td>\n",
       "      <td>&lt;Element 'PubmedArticle' at 0x7f18e07a1050&gt;</td>\n",
       "    </tr>\n",
       "    <tr>\n",
       "      <th>2</th>\n",
       "      <td>32737167</td>\n",
       "      <td>The neocortical progenitor specification progr...</td>\n",
       "      <td>Neuronal progenitors in the developing forebra...</td>\n",
       "      <td>[]</td>\n",
       "      <td>The Journal of neuroscience : the official jou...</td>\n",
       "      <td>2020-08-02</td>\n",
       "      <td>[{'lastname': 'Yabut', 'firstname': 'Odessa R'...</td>\n",
       "      <td>NaN</td>\n",
       "      <td>NaN</td>\n",
       "      <td>NaN</td>\n",
       "      <td>Copyright © 2020 the authors.</td>\n",
       "      <td>10.1523/JNEUROSCI.2888-19.2020</td>\n",
       "      <td>&lt;Element 'PubmedArticle' at 0x7f18e07d5b90&gt;</td>\n",
       "    </tr>\n",
       "    <tr>\n",
       "      <th>3</th>\n",
       "      <td>32732324</td>\n",
       "      <td>Flexible coordinator and switcher hubs for ada...</td>\n",
       "      <td>Functional connectivity studies have identifie...</td>\n",
       "      <td>[]</td>\n",
       "      <td>The Journal of neuroscience : the official jou...</td>\n",
       "      <td>2020-08-01</td>\n",
       "      <td>[{'lastname': 'Cocuzza', 'firstname': 'Carrisa...</td>\n",
       "      <td>NaN</td>\n",
       "      <td>NaN</td>\n",
       "      <td>NaN</td>\n",
       "      <td>Copyright © 2020 the authors.</td>\n",
       "      <td>10.1523/JNEUROSCI.2559-19.2020</td>\n",
       "      <td>&lt;Element 'PubmedArticle' at 0x7f18e07c2a10&gt;</td>\n",
       "    </tr>\n",
       "    <tr>\n",
       "      <th>4</th>\n",
       "      <td>32727820</td>\n",
       "      <td>Responses to Visual Speech in Human Posterior ...</td>\n",
       "      <td>Experimentalists studying multisensory integra...</td>\n",
       "      <td>[]</td>\n",
       "      <td>The Journal of neuroscience : the official jou...</td>\n",
       "      <td>2020-07-31</td>\n",
       "      <td>[{'lastname': 'Metzger', 'firstname': 'Brian A...</td>\n",
       "      <td>NaN</td>\n",
       "      <td>NaN</td>\n",
       "      <td>NaN</td>\n",
       "      <td>Copyright © 2020 Metzger et al.</td>\n",
       "      <td>10.1523/JNEUROSCI.0279-20.2020</td>\n",
       "      <td>&lt;Element 'PubmedArticle' at 0x7f18e07cc710&gt;</td>\n",
       "    </tr>\n",
       "  </tbody>\n",
       "</table>\n",
       "</div>"
      ],
      "text/plain": [
       "  pubmed_id                                              title  \\\n",
       "0  32737169  Erratum: Salido and Ramamurthy, \"Proteoglycan ...   \n",
       "1  32737168  Erratum: Keitel et al., \"Medial Nucleus Accumb...   \n",
       "2  32737167  The neocortical progenitor specification progr...   \n",
       "3  32732324  Flexible coordinator and switcher hubs for ada...   \n",
       "4  32727820  Responses to Visual Speech in Human Posterior ...   \n",
       "\n",
       "                                            abstract keywords  \\\n",
       "0                                                NaN       []   \n",
       "1                                                NaN       []   \n",
       "2  Neuronal progenitors in the developing forebra...       []   \n",
       "3  Functional connectivity studies have identifie...       []   \n",
       "4  Experimentalists studying multisensory integra...       []   \n",
       "\n",
       "                                             journal publication_date  \\\n",
       "0  The Journal of neuroscience : the official jou...       2020-08-02   \n",
       "1  The Journal of neuroscience : the official jou...       2020-08-02   \n",
       "2  The Journal of neuroscience : the official jou...       2020-08-02   \n",
       "3  The Journal of neuroscience : the official jou...       2020-08-01   \n",
       "4  The Journal of neuroscience : the official jou...       2020-07-31   \n",
       "\n",
       "                                             authors  methods  conclusions  \\\n",
       "0                                                 []      NaN          NaN   \n",
       "1                                                 []      NaN          NaN   \n",
       "2  [{'lastname': 'Yabut', 'firstname': 'Odessa R'...      NaN          NaN   \n",
       "3  [{'lastname': 'Cocuzza', 'firstname': 'Carrisa...      NaN          NaN   \n",
       "4  [{'lastname': 'Metzger', 'firstname': 'Brian A...      NaN          NaN   \n",
       "\n",
       "  results                       copyrights                             doi  \\\n",
       "0     NaN                              NaN  10.1523/JNEUROSCI.1846-20.2020   \n",
       "1     NaN                              NaN  10.1523/JNEUROSCI.1829-20.2020   \n",
       "2     NaN    Copyright © 2020 the authors.  10.1523/JNEUROSCI.2888-19.2020   \n",
       "3     NaN    Copyright © 2020 the authors.  10.1523/JNEUROSCI.2559-19.2020   \n",
       "4     NaN  Copyright © 2020 Metzger et al.  10.1523/JNEUROSCI.0279-20.2020   \n",
       "\n",
       "                                           xml  \n",
       "0  <Element 'PubmedArticle' at 0x7f18e0bb0a10>  \n",
       "1  <Element 'PubmedArticle' at 0x7f18e07a1050>  \n",
       "2  <Element 'PubmedArticle' at 0x7f18e07d5b90>  \n",
       "3  <Element 'PubmedArticle' at 0x7f18e07c2a10>  \n",
       "4  <Element 'PubmedArticle' at 0x7f18e07cc710>  "
      ]
     },
     "execution_count": 5,
     "metadata": {},
     "output_type": "execute_result"
    }
   ],
   "source": [
    "# Import the csv as a dataframe\n",
    "\n",
    "jneuro = pd.read_csv('../data/jneuro.csv', names=columns)\n",
    "\n",
    "print(jneuro.shape)\n",
    "jneuro.head()"
   ]
  },
  {
   "cell_type": "markdown",
   "metadata": {},
   "source": [
    "## Observation:\n",
    "- 12734 articles from 2011-01-07 to 2020-08-02\n",
    "- The data is sorted by 'publication_date (YYYY-MM-DD)' in a descending order by default"
   ]
  },
  {
   "cell_type": "markdown",
   "metadata": {},
   "source": [
    "###   "
   ]
  }
 ],
 "metadata": {
  "kernelspec": {
   "display_name": "Python 3",
   "language": "python",
   "name": "python3"
  },
  "language_info": {
   "codemirror_mode": {
    "name": "ipython",
    "version": 3
   },
   "file_extension": ".py",
   "mimetype": "text/x-python",
   "name": "python",
   "nbconvert_exporter": "python",
   "pygments_lexer": "ipython3",
   "version": "3.7.6"
  }
 },
 "nbformat": 4,
 "nbformat_minor": 4
}